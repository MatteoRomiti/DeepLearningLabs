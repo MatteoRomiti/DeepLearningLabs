{
 "cells": [
  {
   "cell_type": "markdown",
   "metadata": {},
   "source": [
    "<h1 style=\"text-align:center\">Deep Learning   </h1>\n",
    "<h1 style=\"text-align:center\"> Lab Session 2 - 3 Hours </h1>\n",
    "<h1 style=\"text-align:center\"> Convolutional Neural Network (CNN) for Handwritten Digits Recognition</h1>"
   ]
  },
  {
   "cell_type": "markdown",
   "metadata": {},
   "source": [
    "<div class=\"alert alert-info\">\n",
    "<b> Student 1:</b> Daniele Reda  \n",
    "<br>\n",
    "<b> Student 2:</b> Matteo Romiti\n",
    "</div> \n",
    " \n",
    "The aim of this session is to practice with Convolutional Neural Networks. Answers and experiments should be made by groups of one or two students. Each group should fill and run appropriate notebook cells. \n",
    "\n",
    "\n",
    "Once you have completed all of the code implementations and successfully answered each question above, you may finalize your work by exporting the iPython Notebook as an pdf document using print as PDF (Ctrl+P). Do not forget to run all your cells before generating your final report and do not forget to include the names of all participants in the group. The lab session should be completed by May 29th 2017.\n",
    "\n",
    "Send you pdf file to benoit.huet@eurecom.fr and olfa.ben-ahmed@eurecom.fr using **[DeepLearning_lab2]** as Subject of your email."
   ]
  },
  {
   "cell_type": "markdown",
   "metadata": {},
   "source": [
    "# Introduction"
   ]
  },
  {
   "cell_type": "markdown",
   "metadata": {},
   "source": [
    "In the last Lab Session, you built a Multilayer Perceptron for recognizing hand-written digits from the MNIST data-set. The best achieved accuracy on testing data was about 97%.  Can  you do better than these results using a deep CNN ?\n",
    "In this Lab Session, you will build, train and optimize in TensorFlow one of the early Convolutional Neural Networks:  **LeNet-5** to go to  more than 99% of accuracy. \n",
    "\n",
    "\n",
    "\n",
    "\n"
   ]
  },
  {
   "cell_type": "markdown",
   "metadata": {},
   "source": [
    "# Load MNIST Data in TensorFlow\n",
    "Run the cell above to load the MNIST data that comes  with TensorFlow. You will use this data in **Section 1** and **Section 2**."
   ]
  },
  {
   "cell_type": "code",
   "execution_count": 2,
   "metadata": {},
   "outputs": [
    {
     "name": "stdout",
     "output_type": "stream",
     "text": [
      "Extracting MNIST_data/train-images-idx3-ubyte.gz\n",
      "Extracting MNIST_data/train-labels-idx1-ubyte.gz\n",
      "Extracting MNIST_data/t10k-images-idx3-ubyte.gz\n",
      "Extracting MNIST_data/t10k-labels-idx1-ubyte.gz\n",
      "Image Shape:    (784,)\n",
      "Training Set:   55000 samples\n",
      "Validation Set: 5000 samples\n",
      "Test Set:       10000 samples\n"
     ]
    }
   ],
   "source": [
    "import tensorflow as tf\n",
    "from tensorflow.examples.tutorials.mnist import input_data\n",
    "mnist = input_data.read_data_sets(\"MNIST_data/\", one_hot=True)\n",
    "X_train, y_train           = mnist.train.images, mnist.train.labels\n",
    "X_validation, y_validation = mnist.validation.images, mnist.validation.labels\n",
    "X_test, y_test             = mnist.test.images, mnist.test.labels\n",
    "print(\"Image Shape:    {}\".format(X_train[0].shape))\n",
    "print(\"Training Set:   {} samples\".format(len(X_train)))\n",
    "print(\"Validation Set: {} samples\".format(len(X_validation)))\n",
    "print(\"Test Set:       {} samples\".format(len(X_test)))"
   ]
  },
  {
   "cell_type": "markdown",
   "metadata": {},
   "source": [
    "# Section 1 : My First Model in TensorFlow"
   ]
  },
  {
   "cell_type": "markdown",
   "metadata": {
    "collapsed": true
   },
   "source": [
    "Before starting with CNN, let's train and test in TensorFlow the example :\n",
    "**y=softmax(Wx+b)** seen in the DeepLearing course last week. \n",
    "\n",
    "This model reaches an accuracy of about 92 %.\n",
    "You will also learn how to launch the tensorBoard https://www.tensorflow.org/get_started/summaries_and_tensorboard to  visualize the computation graph, statistics and learning curves. "
   ]
  },
  {
   "cell_type": "markdown",
   "metadata": {},
   "source": [
    "<b> Part 1 </b> : Read carefully the code in the cell below. Run it to perform training. "
   ]
  },
  {
   "cell_type": "code",
   "execution_count": 3,
   "metadata": {
    "scrolled": false
   },
   "outputs": [
    {
     "name": "stdout",
     "output_type": "stream",
     "text": [
      "Epoch:  02   =====> Loss= 0.732524195\n",
      "Epoch:  04   =====> Loss= 0.536677648\n",
      "Epoch:  06   =====> Loss= 0.470880614\n",
      "Epoch:  08   =====> Loss= 0.435697370\n",
      "Epoch:  10   =====> Loss= 0.414145648\n",
      "Epoch:  12   =====> Loss= 0.396247747\n",
      "Epoch:  14   =====> Loss= 0.384974787\n",
      "Epoch:  16   =====> Loss= 0.375682483\n",
      "Epoch:  18   =====> Loss= 0.367070107\n",
      "Epoch:  20   =====> Loss= 0.360158942\n",
      "Epoch:  22   =====> Loss= 0.352310474\n",
      "Epoch:  24   =====> Loss= 0.348237286\n",
      "Epoch:  26   =====> Loss= 0.345345280\n",
      "Epoch:  28   =====> Loss= 0.342196290\n",
      "Epoch:  30   =====> Loss= 0.336128746\n",
      "Epoch:  32   =====> Loss= 0.332090786\n",
      "Epoch:  34   =====> Loss= 0.329738538\n",
      "Epoch:  36   =====> Loss= 0.326926193\n",
      "Epoch:  38   =====> Loss= 0.323137202\n",
      "Epoch:  40   =====> Loss= 0.324002850\n",
      "Epoch:  42   =====> Loss= 0.319857761\n",
      "Epoch:  44   =====> Loss= 0.317417873\n",
      "Epoch:  46   =====> Loss= 0.317157803\n",
      "Epoch:  48   =====> Loss= 0.313185978\n",
      "Epoch:  50   =====> Loss= 0.314381154\n",
      "Epoch:  52   =====> Loss= 0.312158206\n",
      "Epoch:  54   =====> Loss= 0.309910980\n",
      "Epoch:  56   =====> Loss= 0.309928803\n",
      "Epoch:  58   =====> Loss= 0.306476584\n",
      "Epoch:  60   =====> Loss= 0.305252086\n",
      "Epoch:  62   =====> Loss= 0.306394995\n",
      "Epoch:  64   =====> Loss= 0.302055581\n",
      "Epoch:  66   =====> Loss= 0.304512259\n",
      "Epoch:  68   =====> Loss= 0.300430740\n",
      "Epoch:  70   =====> Loss= 0.299678170\n",
      "Epoch:  72   =====> Loss= 0.302024589\n",
      "Epoch:  74   =====> Loss= 0.297574734\n",
      "Epoch:  76   =====> Loss= 0.299216203\n",
      "Epoch:  78   =====> Loss= 0.297055104\n",
      "Epoch:  80   =====> Loss= 0.297850100\n",
      "Epoch:  82   =====> Loss= 0.293244862\n",
      "Epoch:  84   =====> Loss= 0.296930625\n",
      "Epoch:  86   =====> Loss= 0.295676767\n",
      "Epoch:  88   =====> Loss= 0.296824119\n",
      "Epoch:  90   =====> Loss= 0.289912013\n",
      "Epoch:  92   =====> Loss= 0.292734193\n",
      "Epoch:  94   =====> Loss= 0.292083733\n",
      "Epoch:  96   =====> Loss= 0.290795056\n",
      "Epoch:  98   =====> Loss= 0.288702441\n",
      "Epoch:  100   =====> Loss= 0.288176962\n",
      "Optimization Finished!\n",
      "Accuracy: 0.9206\n"
     ]
    }
   ],
   "source": [
    "# from __future__ import print_function\n",
    "# import tensorflow as tf\n",
    "\n",
    "\n",
    "#STEP 1\n",
    "\n",
    "# Parameters\n",
    "learning_rate = 0.01\n",
    "training_epochs = 100\n",
    "batch_size = 128\n",
    "display_step = 2\n",
    "logs_path = 'log_files/'  # useful for tensorboard\n",
    "\n",
    "# tf Graph Input:  mnist data image of shape 28*28=784\n",
    "x = tf.placeholder(tf.float32, [None, 784], name='InputData')\n",
    "# 0-9 digits recognition,  10 classes\n",
    "y = tf.placeholder(tf.float32, [None, 10], name='LabelData')\n",
    "\n",
    "# Set model weights\n",
    "W = tf.Variable(tf.zeros([784, 10]), name='Weights')\n",
    "b = tf.Variable(tf.zeros([10]), name='Bias')\n",
    "\n",
    "# Construct model and encapsulating all ops into scopes, making Tensorboard's Graph visualization more convenient\n",
    "with tf.name_scope('Model'):\n",
    "    # Model\n",
    "    pred = tf.nn.softmax(tf.matmul(x, W) + b) # Softmax\n",
    "with tf.name_scope('Loss'):\n",
    "    # Minimize error using cross entropy\n",
    "    cost = tf.reduce_mean(-tf.reduce_sum(y*tf.log(pred), reduction_indices=1))\n",
    "with tf.name_scope('SGD'):\n",
    "    # Gradient Descent\n",
    "    optimizer = tf.train.GradientDescentOptimizer(learning_rate).minimize(cost)\n",
    "with tf.name_scope('Accuracy'):\n",
    "    # Accuracy\n",
    "    acc = tf.equal(tf.argmax(pred, 1), tf.argmax(y, 1))\n",
    "    acc = tf.reduce_mean(tf.cast(acc, tf.float32))\n",
    "\n",
    "# Initializing the variables\n",
    "init = tf.global_variables_initializer()\n",
    "# Create a summary to monitor cost tensor\n",
    "tf.summary.scalar(\"Loss\", cost)\n",
    "# Create a summary to monitor accuracy tensor\n",
    "tf.summary.scalar(\"Accuracy\", acc)\n",
    "# Merge all summaries into a single op\n",
    "merged_summary_op = tf.summary.merge_all()\n",
    "\n",
    "\n",
    "#STEP 2 \n",
    "\n",
    "\n",
    "# Launch the graph for training\n",
    "with tf.Session() as sess:\n",
    "    sess.run(init)\n",
    "    # op to write logs to Tensorboard\n",
    "    summary_writer = tf.summary.FileWriter(logs_path, graph=tf.get_default_graph())\n",
    "    # Training cycle\n",
    "    for epoch in range(training_epochs):\n",
    "        avg_cost = 0.\n",
    "        total_batch = int(mnist.train.num_examples/batch_size)\n",
    "        # Loop over all batches\n",
    "        for i in range(total_batch):\n",
    "            batch_xs, batch_ys = mnist.train.next_batch(batch_size)\n",
    "            # Run optimization op (backprop), cost op (to get loss value)\n",
    "            # and summary nodes\n",
    "            _, c, summary = sess.run([optimizer, cost, merged_summary_op],\n",
    "                                     feed_dict={x: batch_xs, y: batch_ys})\n",
    "            # Write logs at every iteration\n",
    "            summary_writer.add_summary(summary, epoch * total_batch + i)\n",
    "            # Compute average loss\n",
    "            avg_cost += c / total_batch\n",
    "        # Display logs per epoch step\n",
    "        if (epoch+1) % display_step == 0:\n",
    "            print(\"Epoch: \", '%02d' % (epoch+1), \"  =====> Loss=\", \"{:.9f}\".format(avg_cost))\n",
    "\n",
    "    print(\"Optimization Finished!\")\n",
    "\n",
    "    # Test model\n",
    "    # Calculate accuracy\n",
    "    print(\"Accuracy:\", acc.eval({x: mnist.test.images, y: mnist.test.labels}))\n",
    "\n",
    "\n"
   ]
  },
  {
   "cell_type": "markdown",
   "metadata": {},
   "source": [
    "<b> Part 2  </b>: Using Tensorboard, we can  now visualize the created graph, giving you an overview of your architecture and how all of the major components  are connected. You can also see and analyse the learning curves. \n",
    "\n",
    "To launch tensorBoard: \n",
    "- Go to the **TP2** folder, \n",
    "- Open a Terminal and run the command line **\"tensorboard --logdir= log_files/\"**, it will generate an http link ,ex http://666.6.6.6:6006,\n",
    "- Copy this  link into your web browser \n",
    "\n",
    "\n",
    "Enjoy It !! \n"
   ]
  },
  {
   "cell_type": "markdown",
   "metadata": {},
   "source": [
    "# Section 2 : The 99% MNIST Challenge !"
   ]
  },
  {
   "cell_type": "markdown",
   "metadata": {},
   "source": [
    "<b> Part 1 </b> : LeNet5 implementation"
   ]
  },
  {
   "cell_type": "markdown",
   "metadata": {},
   "source": [
    "Once you are familar with **tensorFlow** and **tensorBoard**, you are in this section to build, train and test the baseline [LeNet-5](http://yann.lecun.com/exdb/lenet/)  model for the MNIST digits recognition problem.  \n",
    "\n",
    "In more advanced step you will make some optimizations to get more than 99% of accuracy. The best model can get to over 99.7% accuracy! \n",
    "\n",
    "For more information, have a look at this list of results : http://rodrigob.github.io/are_we_there_yet/build/classification_datasets_results.html"
   ]
  },
  {
   "cell_type": "markdown",
   "metadata": {},
   "source": [
    "\n",
    "<img src=\"lenet.png\",width=\"800\" height=\"600\" align=\"center\">\n",
    "<center><span>Figure 1: Lenet 5 </span></center>\n",
    "\n",
    "\n",
    "\n",
    "\n",
    "\n",
    "The LeNet architecture accepts a 32x32xC image as input, where C is the number of color channels. Since MNIST images are grayscale, C is 1 in this case.\n",
    "\n",
    "--------------------------\n",
    "**Layer 1: Convolutional.** The output shape should be 28x28x6 **Activation.** sigmoid **Pooling.** The output shape should be 14x14x6.\n",
    "\n",
    "**Layer 2: Convolutional.** The output shape should be 10x10x16. **Activation.** sigmoid **Pooling.** The output shape should be 5x5x16.\n",
    "\n",
    "**Flatten.** Flatten the output shape of the final pooling layer such that it's 1D instead of 3D.  You may need to use **flatten*  from tensorflow.contrib.layers import flatten\n",
    "\n",
    "**Layer 3: Fully Connected.** This should have 120 outputs. **Activation.** sigmoid\n",
    "\n",
    "**Layer 4: Fully Connected.** This should have 84 outputs. **Activation.** sigmoid\n",
    "\n",
    "**Layer 5: Fully Connected.** This should have 10 outputs **Activation.** softmax.\n"
   ]
  },
  {
   "cell_type": "markdown",
   "metadata": {},
   "source": [
    "<b> Question 2.1.1 </b>  Implement the Neural Network architecture described above.\n",
    "For that, your will use classes and functions from  https://www.tensorflow.org/api_docs/python/tf/nn. \n",
    "\n",
    "We give you some helper functions for weigths and bias initilization. Also you can refer to section 1. \n"
   ]
  },
  {
   "cell_type": "code",
   "execution_count": 4,
   "metadata": {
    "collapsed": true
   },
   "outputs": [],
   "source": [
    "#Helper functions  for weigths and bias initilization \n",
    "def weight_variable(shape):\n",
    "    initial = tf.truncated_normal(shape, stddev=0.1)\n",
    "    return tf.Variable(initial)\n",
    "\n",
    "def bias_variable(shape):\n",
    "    initial = tf.constant(0.1, shape=shape)\n",
    "    return tf.Variable(initial)\n",
    "\n",
    "def conv2d(x, W, stride, padding_):\n",
    "    return tf.nn.conv2d(x, W, strides=[1, stride, stride, 1], padding=padding_)"
   ]
  },
  {
   "cell_type": "code",
   "execution_count": 5,
   "metadata": {
    "collapsed": true
   },
   "outputs": [],
   "source": [
    "def LeNet5_Model(data):    \n",
    "    # your implementation goes here\n",
    "    \n",
    "    #first convolutional layer\n",
    "    W_conv1 = weight_variable([5, 5, 1, 6]) ## [filter_width, filter_height, depth_image_in, depth_image_out]\n",
    "    b_conv1 = bias_variable([6])\n",
    "    h_conv1 = tf.sigmoid(conv2d(data, W_conv1, 1, 'SAME') + b_conv1)\n",
    "    pool1 = tf.nn.pool(h_conv1, [2,2], \"MAX\", 'VALID', strides=[2,2])\n",
    "    \n",
    "    #second convolutional layer\n",
    "    W_conv2 = weight_variable([5, 5, 6, 16])\n",
    "    b_conv2 = bias_variable([16])\n",
    "    h_conv2 = tf.sigmoid(conv2d(pool1, W_conv2, 1, 'VALID') + b_conv2)\n",
    "    pool2 = tf.nn.pool(h_conv2, [2,2], \"MAX\", 'VALID', strides=[2,2])\n",
    "    \n",
    "    #first fully connected layer\n",
    "    s = pool2.get_shape().as_list()\n",
    "    flattened_length = s[1] * s[2] * s[3]\n",
    "    pool2_flat = tf.reshape(pool2, [-1, flattened_length])\n",
    "    W_fc1 = weight_variable([1*5*5*16, 120])\n",
    "    b_fc1 = bias_variable([120])\n",
    "    h_fc1 = tf.sigmoid(tf.matmul(pool2_flat, W_fc1) + b_fc1)\n",
    "\n",
    "    #second fully connected layer\n",
    "    W_fc2 = weight_variable([120, 84])\n",
    "    b_fc2 = bias_variable([84])\n",
    "    h_fc2 = tf.sigmoid(tf.matmul(h_fc1, W_fc2) + b_fc2)\n",
    "    \n",
    "    #third fully connected layer\n",
    "    W_fc3 = weight_variable([84, 10])\n",
    "    b_fc3 = bias_variable([10])\n",
    "    h_fc3 = tf.nn.softmax(tf.matmul(h_fc2, W_fc3) + b_fc3)\n",
    "    \n",
    "    return h_fc3"
   ]
  },
  {
   "cell_type": "markdown",
   "metadata": {},
   "source": [
    "<b> Question 2.1.2. </b>  Calculate the number of parameters of this model "
   ]
  },
  {
   "cell_type": "code",
   "execution_count": 6,
   "metadata": {},
   "outputs": [
    {
     "name": "stdout",
     "output_type": "stream",
     "text": [
      "59706\n"
     ]
    }
   ],
   "source": [
    "# first conv\n",
    "pconv1 = 5*5*1*6 # filter_height * filter_width * channels_in * num_feature_maps\n",
    "# second conv\n",
    "pconv2 = 5*5*1*16 # filter_height * filter_width * channels_in * num_feature_maps\n",
    "# first fcl\n",
    "pfcl1 = 5*5*16*120 # fcl_input_size * fcl_output_size\n",
    "pfcl1# second fcl\n",
    "pfcl2 = 84*120 # fcl_input_size * fcl_output_size\n",
    "# third fcl\n",
    "pfcl3 = 84*10 # fcl_input_size * fcl_output_size\n",
    "pbias = 6+16+120+84+10 # all the biases\n",
    "total = pbias + pfcl1 + pfcl2 + pfcl3 + pconv2 + pconv1\n",
    "print(total)"
   ]
  },
  {
   "cell_type": "markdown",
   "metadata": {},
   "source": [
    "<b> Question 2.1.3. </b>  Start the training with the parameters cited below:\n",
    "\n",
    "     Learning rate : 0.1\n",
    "     Loss Function : Cross entropy\n",
    "     Optimizer: SGD\n",
    "     Number of training iterations : 10000\n",
    "     Batch size : 128"
   ]
  },
  {
   "cell_type": "code",
   "execution_count": 14,
   "metadata": {
    "collapsed": true
   },
   "outputs": [],
   "source": [
    "learning_rate = 0.1\n",
    "training_epochs = 200\n",
    "batch_size = 128\n",
    "display_step = 1\n",
    "logs_path = 'log_files/'"
   ]
  },
  {
   "cell_type": "markdown",
   "metadata": {},
   "source": [
    "<b> Question 2.1.4. </b>  Implement the evaluation function for accuracy computation "
   ]
  },
  {
   "cell_type": "code",
   "execution_count": 15,
   "metadata": {
    "collapsed": true
   },
   "outputs": [],
   "source": [
    "def evaluate(model, y):\n",
    "    accuracy = acc.eval({x: mnist.test.images, y: mnist.test.labels})\n",
    "    return accuracy"
   ]
  },
  {
   "cell_type": "markdown",
   "metadata": {},
   "source": [
    "<b> Question 2.1.5. </b>  Implement training pipeline and run the training data through it to train the model.\n",
    "\n",
    "- Before each epoch, shuffle the training set. \n",
    "- Print the loss per mini batch and the training/validation accuracy per epoch. (Display results every 100 epochs)\n",
    "- Save the model after training\n",
    "- Print after training the final testing accuracy \n",
    "\n"
   ]
  },
  {
   "cell_type": "code",
   "execution_count": 16,
   "metadata": {
    "collapsed": true
   },
   "outputs": [],
   "source": [
    "def train(learning_rate, training_epochs, batch_size, display_step = 1, \\\n",
    "          logs_path='log_files/', optFunction=\"SGC\", verbose=True):\n",
    "    \n",
    "    optFunctions = {\"SGC\":tf.train.GradientDescentOptimizer, \"ReLU\":tf.train.AdamOptimizer}\n",
    "    \n",
    "    # Erase previous graph\n",
    "    tf.reset_default_graph()\n",
    "\n",
    "    x = tf.placeholder(tf.float32, [None, 28, 28, 1], name='InputData')\n",
    "    y = tf.placeholder(tf.float32, [None, 10], name='LabelData')\n",
    "\n",
    "    # Construct model\n",
    "    with tf.name_scope('Model'):\n",
    "        pred = LeNet5_Model(x)\n",
    "\n",
    "    # Define loss and optimizer\n",
    "    with tf.name_scope('Loss'):\n",
    "        cost = tf.reduce_mean(-tf.reduce_sum(y*tf.log(pred), reduction_indices=1))\n",
    "        #cost = tf.reduce_mean(tf.nn.softmax_cross_entropy_with_logits(logits=pred, labels=y))\n",
    "\n",
    "    with tf.name_scope(optFunction):\n",
    "        optimizer = optFunctions[optFunction](learning_rate).minimize(cost)\n",
    "\n",
    "    # Evaluate model\n",
    "    with tf.name_scope('Accuracy'):\n",
    "        correct_pred = tf.equal(tf.argmax(pred, 1), tf.argmax(y, 1))\n",
    "        accuracy = tf.reduce_mean(tf.cast(correct_pred, tf.float32))\n",
    "\n",
    "    # Initializing the variables\n",
    "    init = tf.global_variables_initializer()\n",
    "\n",
    "    # Create a summary to monitor cost tensor\n",
    "    tf.summary.scalar(\"Loss\", cost)\n",
    "    # Create a summary to monitor accuracy tensor\n",
    "    tf.summary.scalar(\"Accuracy\", accuracy)\n",
    "    # Merge all summaries into a single op\n",
    "    merged_summary_op = tf.summary.merge_all()\n",
    "\n",
    "    x_val, y_val = mnist.validation.images.reshape(-1, 28, 28, 1), mnist.validation.labels\n",
    "    x_test, y_test = mnist.test.images.reshape(-1, 28, 28, 1), mnist.test.labels\n",
    "\n",
    "    with tf.Session() as sess:\n",
    "        sess.run(init)\n",
    "        if verbose is True:\n",
    "            print(\"Start Training!\")\n",
    "        # op to write logs to Tensorboard\n",
    "        summary_writer = tf.summary.FileWriter(logs_path, graph=tf.get_default_graph())\n",
    "        saver = tf.train.Saver()\n",
    "        #Training cycle\n",
    "        for epoch in range(training_epochs):\n",
    "            avg_cost = 0.\n",
    "            total_batch = int(mnist.train.num_examples/batch_size)\n",
    "            #Loop over all batches\n",
    "            for i in range(total_batch):\n",
    "                batch_xs, batch_ys = mnist.train.next_batch(batch_size)\n",
    "                batch_xs = batch_xs.reshape(-1, 28, 28, 1)\n",
    "                # Run optimization op (backprop), cost op (to get loss value)\n",
    "                # and summary nodes\n",
    "                _, c, summary = sess.run([optimizer, cost, merged_summary_op],\n",
    "                                         feed_dict={x: batch_xs, y: batch_ys})\n",
    "                 # Write logs at every iteration\n",
    "                summary_writer.add_summary(summary, epoch * total_batch + i)\n",
    "                # Compute average loss\n",
    "                avg_cost += c / total_batch\n",
    "            # Display logs per epoch step\n",
    "            acc = accuracy.eval({x: x_val, y: y_val})\n",
    "            saver.save(sess, 'Models/model_' + str(learning_rate) + '_' + str(batch_size) + '_' + optFunction)\n",
    "            if verbose is True and (epoch+1) % display_step == 0:\n",
    "                print(\"Epoch: \", '%02d' % (epoch+1), \\\n",
    "                      \"  =====> Loss=\", \"{:.9f}\".format(avg_cost), \" Training accuracy=\", acc)\n",
    "            if acc>=0.99:\n",
    "                if verbose is True:\n",
    "                    print(\"Accuracy over 99%% reached after %d epochs\" %(epoch+1))\n",
    "                break\n",
    "                \n",
    "        if verbose is True:\n",
    "            print(\"Training Finished!\")\n",
    "            # Test model\n",
    "            # Calculate accuracy\n",
    "            print(\"Test accuracy:\", accuracy.eval({x: x_test, y: y_test}))\n",
    "        \n",
    "        val_acc = accuracy.eval({x: x_val, y: y_val})\n",
    "        test_acc = accuracy.eval({x: x_test, y: y_test})\n",
    "    return val_acc, test_acc"
   ]
  },
  {
   "cell_type": "code",
   "execution_count": 17,
   "metadata": {
    "scrolled": false
   },
   "outputs": [
    {
     "name": "stdout",
     "output_type": "stream",
     "text": [
      "Start Training!\n",
      "Epoch:  01   =====> Loss= 2.306923388  Training accuracy= 0.1126\n",
      "Epoch:  02   =====> Loss= 2.305711344  Training accuracy= 0.0986\n",
      "Epoch:  03   =====> Loss= 2.305181658  Training accuracy= 0.0986\n",
      "Epoch:  04   =====> Loss= 2.304064671  Training accuracy= 0.0986\n",
      "Epoch:  05   =====> Loss= 2.302289627  Training accuracy= 0.112\n",
      "Epoch:  06   =====> Loss= 2.298982566  Training accuracy= 0.11\n",
      "Epoch:  07   =====> Loss= 2.288852153  Training accuracy= 0.1904\n",
      "Epoch:  08   =====> Loss= 2.172151118  Training accuracy= 0.3124\n",
      "Epoch:  09   =====> Loss= 1.590616186  Training accuracy= 0.6548\n",
      "Epoch:  10   =====> Loss= 0.923477484  Training accuracy= 0.7828\n",
      "Epoch:  11   =====> Loss= 0.641152425  Training accuracy= 0.8538\n",
      "Epoch:  12   =====> Loss= 0.476603856  Training accuracy= 0.8866\n",
      "Epoch:  13   =====> Loss= 0.369493994  Training accuracy= 0.913\n",
      "Epoch:  14   =====> Loss= 0.301952966  Training accuracy= 0.9292\n",
      "Epoch:  15   =====> Loss= 0.256582659  Training accuracy= 0.9388\n",
      "Epoch:  16   =====> Loss= 0.222512772  Training accuracy= 0.947\n",
      "Epoch:  17   =====> Loss= 0.197709738  Training accuracy= 0.9508\n",
      "Epoch:  18   =====> Loss= 0.176510492  Training accuracy= 0.9542\n",
      "Epoch:  19   =====> Loss= 0.166109884  Training accuracy= 0.9606\n",
      "Epoch:  20   =====> Loss= 0.150210114  Training accuracy= 0.965\n",
      "Epoch:  21   =====> Loss= 0.138426067  Training accuracy= 0.9678\n",
      "Epoch:  22   =====> Loss= 0.129115178  Training accuracy= 0.9678\n",
      "Epoch:  23   =====> Loss= 0.123906451  Training accuracy= 0.9698\n",
      "Epoch:  24   =====> Loss= 0.113820004  Training accuracy= 0.9708\n",
      "Epoch:  25   =====> Loss= 0.107736760  Training accuracy= 0.9732\n",
      "Epoch:  26   =====> Loss= 0.104203921  Training accuracy= 0.9738\n",
      "Epoch:  27   =====> Loss= 0.101055182  Training accuracy= 0.9726\n",
      "Epoch:  28   =====> Loss= 0.095074212  Training accuracy= 0.9752\n",
      "Epoch:  29   =====> Loss= 0.093346751  Training accuracy= 0.9758\n",
      "Epoch:  30   =====> Loss= 0.089178306  Training accuracy= 0.9776\n",
      "Epoch:  31   =====> Loss= 0.083600454  Training accuracy= 0.9768\n",
      "Epoch:  32   =====> Loss= 0.083257995  Training accuracy= 0.9762\n",
      "Epoch:  33   =====> Loss= 0.081908695  Training accuracy= 0.978\n",
      "Epoch:  34   =====> Loss= 0.075801851  Training accuracy= 0.9782\n",
      "Epoch:  35   =====> Loss= 0.078123385  Training accuracy= 0.9792\n",
      "Epoch:  36   =====> Loss= 0.073123748  Training accuracy= 0.9794\n",
      "Epoch:  37   =====> Loss= 0.072830196  Training accuracy= 0.98\n",
      "Epoch:  38   =====> Loss= 0.068207548  Training accuracy= 0.9798\n",
      "Epoch:  39   =====> Loss= 0.069534003  Training accuracy= 0.9802\n",
      "Epoch:  40   =====> Loss= 0.067791333  Training accuracy= 0.9802\n",
      "Epoch:  41   =====> Loss= 0.065446958  Training accuracy= 0.9812\n",
      "Epoch:  42   =====> Loss= 0.063427341  Training accuracy= 0.9812\n",
      "Epoch:  43   =====> Loss= 0.062668524  Training accuracy= 0.981\n",
      "Epoch:  44   =====> Loss= 0.060850622  Training accuracy= 0.982\n",
      "Epoch:  45   =====> Loss= 0.060145860  Training accuracy= 0.9806\n",
      "Epoch:  46   =====> Loss= 0.058726409  Training accuracy= 0.9828\n",
      "Epoch:  47   =====> Loss= 0.058478678  Training accuracy= 0.9838\n",
      "Epoch:  48   =====> Loss= 0.054889722  Training accuracy= 0.984\n",
      "Epoch:  49   =====> Loss= 0.056067859  Training accuracy= 0.9846\n",
      "Epoch:  50   =====> Loss= 0.053832302  Training accuracy= 0.9842\n",
      "Epoch:  51   =====> Loss= 0.052474880  Training accuracy= 0.9842\n",
      "Epoch:  52   =====> Loss= 0.052806023  Training accuracy= 0.9842\n",
      "Epoch:  53   =====> Loss= 0.051511036  Training accuracy= 0.9844\n",
      "Epoch:  54   =====> Loss= 0.052924352  Training accuracy= 0.9846\n",
      "Epoch:  55   =====> Loss= 0.048252896  Training accuracy= 0.9854\n",
      "Epoch:  56   =====> Loss= 0.047703774  Training accuracy= 0.985\n",
      "Epoch:  57   =====> Loss= 0.048900753  Training accuracy= 0.9846\n",
      "Epoch:  58   =====> Loss= 0.049215919  Training accuracy= 0.9856\n",
      "Epoch:  59   =====> Loss= 0.045154118  Training accuracy= 0.9858\n",
      "Epoch:  60   =====> Loss= 0.046869542  Training accuracy= 0.9864\n",
      "Epoch:  61   =====> Loss= 0.044546843  Training accuracy= 0.9856\n",
      "Epoch:  62   =====> Loss= 0.046014042  Training accuracy= 0.9858\n",
      "Epoch:  63   =====> Loss= 0.043440244  Training accuracy= 0.9862\n",
      "Epoch:  64   =====> Loss= 0.042551775  Training accuracy= 0.9866\n",
      "Epoch:  65   =====> Loss= 0.043002308  Training accuracy= 0.9868\n",
      "Epoch:  66   =====> Loss= 0.042260626  Training accuracy= 0.9862\n",
      "Epoch:  67   =====> Loss= 0.042129999  Training accuracy= 0.9876\n",
      "Epoch:  68   =====> Loss= 0.040326711  Training accuracy= 0.987\n",
      "Epoch:  69   =====> Loss= 0.040119954  Training accuracy= 0.985\n",
      "Epoch:  70   =====> Loss= 0.039372511  Training accuracy= 0.9876\n",
      "Epoch:  71   =====> Loss= 0.039312358  Training accuracy= 0.9866\n",
      "Epoch:  72   =====> Loss= 0.039121126  Training accuracy= 0.9872\n",
      "Epoch:  73   =====> Loss= 0.037745184  Training accuracy= 0.9872\n",
      "Epoch:  74   =====> Loss= 0.038840430  Training accuracy= 0.9878\n",
      "Epoch:  75   =====> Loss= 0.036722533  Training accuracy= 0.9878\n",
      "Epoch:  76   =====> Loss= 0.036708925  Training accuracy= 0.9876\n",
      "Epoch:  77   =====> Loss= 0.035114563  Training accuracy= 0.9876\n",
      "Epoch:  78   =====> Loss= 0.035569670  Training accuracy= 0.9874\n",
      "Epoch:  79   =====> Loss= 0.036551392  Training accuracy= 0.9866\n",
      "Epoch:  80   =====> Loss= 0.034503591  Training accuracy= 0.9882\n",
      "Epoch:  81   =====> Loss= 0.035162572  Training accuracy= 0.9872\n",
      "Epoch:  82   =====> Loss= 0.034061648  Training accuracy= 0.989\n",
      "Epoch:  83   =====> Loss= 0.033039405  Training accuracy= 0.9884\n",
      "Epoch:  84   =====> Loss= 0.032714885  Training accuracy= 0.9896\n",
      "Epoch:  85   =====> Loss= 0.032941225  Training accuracy= 0.9884\n",
      "Epoch:  86   =====> Loss= 0.032947274  Training accuracy= 0.9884\n",
      "Epoch:  87   =====> Loss= 0.032819327  Training accuracy= 0.9876\n",
      "Epoch:  88   =====> Loss= 0.030724695  Training accuracy= 0.9876\n",
      "Epoch:  89   =====> Loss= 0.032069562  Training accuracy= 0.989\n",
      "Epoch:  90   =====> Loss= 0.030840880  Training accuracy= 0.9888\n",
      "Epoch:  91   =====> Loss= 0.031070476  Training accuracy= 0.9884\n",
      "Epoch:  92   =====> Loss= 0.029719276  Training accuracy= 0.989\n",
      "Epoch:  93   =====> Loss= 0.028755416  Training accuracy= 0.9888\n",
      "Epoch:  94   =====> Loss= 0.029784064  Training accuracy= 0.988\n",
      "Epoch:  95   =====> Loss= 0.029574275  Training accuracy= 0.9892\n",
      "Epoch:  96   =====> Loss= 0.028761383  Training accuracy= 0.9878\n",
      "Epoch:  97   =====> Loss= 0.029708285  Training accuracy= 0.9886\n",
      "Epoch:  98   =====> Loss= 0.027081880  Training accuracy= 0.9894\n",
      "Epoch:  99   =====> Loss= 0.027781683  Training accuracy= 0.9888\n",
      "Epoch:  100   =====> Loss= 0.027897487  Training accuracy= 0.9892\n",
      "Epoch:  101   =====> Loss= 0.027332574  Training accuracy= 0.9884\n",
      "Epoch:  102   =====> Loss= 0.026826039  Training accuracy= 0.9888\n",
      "Epoch:  103   =====> Loss= 0.027089774  Training accuracy= 0.9892\n",
      "Epoch:  104   =====> Loss= 0.026156962  Training accuracy= 0.9878\n",
      "Epoch:  105   =====> Loss= 0.025994058  Training accuracy= 0.9884\n",
      "Epoch:  106   =====> Loss= 0.027046072  Training accuracy= 0.9886\n",
      "Epoch:  107   =====> Loss= 0.025342953  Training accuracy= 0.9894\n",
      "Epoch:  108   =====> Loss= 0.025065694  Training accuracy= 0.989\n",
      "Epoch:  109   =====> Loss= 0.025347810  Training accuracy= 0.9886\n",
      "Epoch:  110   =====> Loss= 0.024419306  Training accuracy= 0.9898\n",
      "Epoch:  111   =====> Loss= 0.025100186  Training accuracy= 0.9892\n",
      "Epoch:  112   =====> Loss= 0.024427244  Training accuracy= 0.9882\n",
      "Epoch:  113   =====> Loss= 0.024242153  Training accuracy= 0.989\n",
      "Epoch:  114   =====> Loss= 0.023390765  Training accuracy= 0.988\n",
      "Epoch:  115   =====> Loss= 0.023229957  Training accuracy= 0.989\n",
      "Epoch:  116   =====> Loss= 0.023859585  Training accuracy= 0.9886\n",
      "Epoch:  117   =====> Loss= 0.022953841  Training accuracy= 0.989\n",
      "Epoch:  118   =====> Loss= 0.023012271  Training accuracy= 0.988\n",
      "Epoch:  119   =====> Loss= 0.022594612  Training accuracy= 0.9888\n",
      "Epoch:  120   =====> Loss= 0.020973261  Training accuracy= 0.9892\n",
      "Epoch:  121   =====> Loss= 0.022866992  Training accuracy= 0.989\n",
      "Epoch:  122   =====> Loss= 0.022125616  Training accuracy= 0.9902\n",
      "Accuracy over 99% reached after 122 epochs\n",
      "Training Finished!\n",
      "Test accuracy: 0.9882\n"
     ]
    },
    {
     "data": {
      "text/plain": [
       "(0.99019998, 0.98820001)"
      ]
     },
     "execution_count": 17,
     "metadata": {},
     "output_type": "execute_result"
    }
   ],
   "source": [
    "train(learning_rate, training_epochs, batch_size)"
   ]
  },
  {
   "cell_type": "markdown",
   "metadata": {},
   "source": [
    "<b> Question 2.1.6 </b> : Use tensorBoard to visualise and save the LeNet5 Graph and all learning curves. \n",
    "Save all obtained figures in the folder **\"TP2/MNIST_99_Challenge_Figures\"**"
   ]
  },
  {
   "cell_type": "code",
   "execution_count": 18,
   "metadata": {
    "collapsed": true
   },
   "outputs": [],
   "source": [
    "#insert your obtained figure here"
   ]
  },
  {
   "cell_type": "code",
   "execution_count": 19,
   "metadata": {
    "collapsed": true
   },
   "outputs": [],
   "source": [
    "# your answer goes here"
   ]
  },
  {
   "cell_type": "markdown",
   "metadata": {},
   "source": [
    "<b> Part 2 </b> : LeNET 5 Optimization"
   ]
  },
  {
   "cell_type": "markdown",
   "metadata": {},
   "source": [
    "\n",
    "<b> Question 2.2.1 </b>  Change the sigmoid function with a ReLU :\n",
    "\n",
    "- Retrain your network with SGD and AdamOptimizer and then fill the table above  :\n",
    "\n",
    "\n",
    "| Optimizer            |  Gradient Descent         |AdamOptimizer |\n",
    "| -------------        |: -------------: | ---------:   \n",
    "| Validation Accuracy  |         |    |      \n",
    "| Testing Accuracy     |           |    |       \n",
    "| Training Time        |           |        |  |  \n",
    "\n",
    "\n",
    "- Try with different learning rates for each Optimizer (0.0001 and 0.001 ) and different Batch sizes (50 and 128) for 20000 Epochs. \n",
    "\n",
    "- For each optimizer, plot (on the same curve) the **testing accuracies** function to **(learning rate, batch size)** \n",
    "\n",
    "\n",
    "\n",
    "- Did you reach the 99% accuracy ? What are the optimal parametres that gave you the best results? \n",
    "\n",
    "\n",
    "\n",
    "\n",
    "\n",
    "\n"
   ]
  },
  {
   "cell_type": "code",
   "execution_count": 21,
   "metadata": {},
   "outputs": [
    {
     "name": "stdout",
     "output_type": "stream",
     "text": [
      "Learning rate: 0.001 Batch size: 50 optimizer: SGC\n",
      "\t====> Time: 4450.806636333466 Validation accuracy: 0.1126 Test accuracy: 0.1135\n",
      "Learning rate: 0.001 Batch size: 50 optimizer: ReLU\n",
      "\t====> Time: 360.2967257499695 Validation accuracy: 0.99 Test accuracy: 0.9858\n",
      "Learning rate: 0.001 Batch size: 128 optimizer: SGC\n",
      "\t====> Time: 3697.093007326126 Validation accuracy: 0.1126 Test accuracy: 0.1135\n",
      "Learning rate: 0.001 Batch size: 128 optimizer: ReLU\n",
      "\t====> Time: 696.3485853672028 Validation accuracy: 0.9906 Test accuracy: 0.9876\n",
      "Learning rate: 0.0001 Batch size: 50 optimizer: SGC\n",
      "\t====> Time: 4444.108605384827 Validation accuracy: 0.1126 Test accuracy: 0.1135\n",
      "Learning rate: 0.0001 Batch size: 50 optimizer: ReLU\n",
      "\t====> Time: 4500.74076128006 Validation accuracy: 0.989 Test accuracy: 0.9877\n",
      "Learning rate: 0.0001 Batch size: 128 optimizer: SGC\n",
      "\t====> Time: 3724.1400146484375 Validation accuracy: 0.1126 Test accuracy: 0.1135\n",
      "Learning rate: 0.0001 Batch size: 128 optimizer: ReLU\n",
      "\t====> Time: 3732.6566574573517 Validation accuracy: 0.9876 Test accuracy: 0.9881\n"
     ]
    }
   ],
   "source": [
    "import time\n",
    "\n",
    "learning_rates = [0.001, 0.0001]\n",
    "batch_sizes = [50, 128]\n",
    "optNames = [\"SGC\", \"ReLU\"]\n",
    "training_epochs = 150\n",
    "\n",
    "results = []\n",
    "\n",
    "for lr in learning_rates:\n",
    "    for bs in batch_sizes:\n",
    "        for on in optNames:\n",
    "            print(\"Learning rate:\", lr, \"Batch size:\", bs, \"optimizer:\", on)\n",
    "            t1 = time.time()\n",
    "            val_acc, test_acc = train(learning_rate=lr, training_epochs=training_epochs, batch_size=bs, \\\n",
    "                                      display_step=50, optFunction=on, verbose=False)\n",
    "            t2 = time.time() - t1\n",
    "            print(\"\\t====> Time:\", t2, \"Validation accuracy:\", val_acc, \"Test accuracy:\", test_acc)\n",
    "            results.append((lr, bs, on, t2, val_acc, test_acc))"
   ]
  },
  {
   "cell_type": "code",
   "execution_count": 1,
   "metadata": {},
   "outputs": [],
   "source": [
    "import matplotlib.pyplot as plt\n",
    "%matplotlib inline"
   ]
  },
  {
   "cell_type": "code",
   "execution_count": 3,
   "metadata": {},
   "outputs": [],
   "source": [
    "results = [\n",
    "    (0.001, 50, \"SGC\", 4450.806636333466, 0.1126, 0.1135),\n",
    "    (0.001, 50, \"ReLU\", 360.2967257499695, 0.99, 0.9858),\n",
    "    (0.001, 128, \"SGC\", 3697.093007326126, 0.1126, 0.1135),\n",
    "    (0.001, 128, \"ReLU\", 696.3485853672028, 0.9906, 0.9876),\n",
    "    (0.0001, 50, \"SGC\", 4444.108605384827, 0.1126, 0.1135),\n",
    "    (0.0001, 50, \"ReLU\", 4500.74076128006, 0.989, 0.9877),\n",
    "    (0.0001, 128, \"SGC\", 3724.1400146484375, 0.1126, 0.1135),\n",
    "    (0.0001, 128, \"ReLU\", 3732.6566574573517, 0.9876, 0.9881)\n",
    "]"
   ]
  },
  {
   "cell_type": "code",
   "execution_count": 5,
   "metadata": {},
   "outputs": [
    {
     "data": {
      "image/png": "[encoded data removed]",
      "text/plain": [
       "<matplotlib.figure.Figure at 0x7fbe8304b4e0>"
      ]
     },
     "metadata": {},
     "output_type": "display_data"
    }
   ],
   "source": [
    "plt.figure(figsize=(20,10))\n",
    "plt.plot([x[0] for x in results if x[2] is \"ReLU\"], [x[4] for x in results  if x[2] is \"ReLU\"])\n",
    "plt.show()"
   ]
  },
  {
   "cell_type": "markdown",
   "metadata": {},
   "source": [
    "<b> Question 2.2.2 </b>  What about applying a dropout layer on the Fully connected layer and then retraining the model with the best Optimizer and parameters(Learning rate and Batch size) obtained in *Question 2.2.1*  ? (probability to keep units=0.75). For this stage ensure that the keep prob is set to 1.0 to evaluate the \n",
    "performance of the network including all nodes."
   ]
  },
  {
   "cell_type": "code",
   "execution_count": null,
   "metadata": {
    "collapsed": true
   },
   "outputs": [],
   "source": [
    "results"
   ]
  },
  {
   "cell_type": "code",
   "execution_count": null,
   "metadata": {
    "collapsed": true
   },
   "outputs": [],
   "source": [
    "# your implementaion goas here"
   ]
  },
  {
   "cell_type": "code",
   "execution_count": null,
   "metadata": {
    "collapsed": true
   },
   "outputs": [],
   "source": [
    "Your comments go here"
   ]
  }
 ],
 "metadata": {
  "anaconda-cloud": {},
  "kernelspec": {
   "display_name": "Python 3",
   "language": "python",
   "name": "python3"
  },
  "language_info": {
   "codemirror_mode": {
    "name": "ipython",
    "version": 3
   },
   "file_extension": ".py",
   "mimetype": "text/x-python",
   "name": "python",
   "nbconvert_exporter": "python",
   "pygments_lexer": "ipython3",
   "version": "3.5.2+"
  }
 },
 "nbformat": 4,
 "nbformat_minor": 1
}
