{
 "cells": [
  {
   "cell_type": "markdown",
   "metadata": {},
   "source": [
    "<h1 style=\"text-align:center\">Deep Learning   </h1>\n",
    "<h1 style=\"text-align:center\"> Lab Session 2 - 3 Hours </h1>\n",
    "<h1 style=\"text-align:center\"> Convolutional Neural Network (CNN) for Handwritten Digits Recognition</h1>"
   ]
  },
  {
   "cell_type": "markdown",
   "metadata": {},
   "source": [
    "<div class=\"alert alert-info\">\n",
    "<b> Student 1:</b> Daniele Reda  \n",
    "<br>\n",
    "<b> Student 2:</b> Matteo Romiti\n",
    "</div> \n",
    " \n",
    "The aim of this session is to practice with Convolutional Neural Networks. Answers and experiments should be made by groups of one or two students. Each group should fill and run appropriate notebook cells. \n",
    "\n",
    "\n",
    "Once you have completed all of the code implementations and successfully answered each question above, you may finalize your work by exporting the iPython Notebook as an pdf document using print as PDF (Ctrl+P). Do not forget to run all your cells before generating your final report and do not forget to include the names of all participants in the group. The lab session should be completed by May 29th 2017.\n",
    "\n",
    "Send you pdf file to benoit.huet@eurecom.fr and olfa.ben-ahmed@eurecom.fr using **[DeepLearning_lab2]** as Subject of your email."
   ]
  },
  {
   "cell_type": "markdown",
   "metadata": {},
   "source": [
    "# Introduction"
   ]
  },
  {
   "cell_type": "markdown",
   "metadata": {},
   "source": [
    "In the last Lab Session, you built a Multilayer Perceptron for recognizing hand-written digits from the MNIST data-set. The best achieved accuracy on testing data was about 97%.  Can  you do better than these results using a deep CNN ?\n",
    "In this Lab Session, you will build, train and optimize in TensorFlow one of the early Convolutional Neural Networks:  **LeNet-5** to go to  more than 99% of accuracy. \n",
    "\n",
    "\n",
    "\n",
    "\n"
   ]
  },
  {
   "cell_type": "markdown",
   "metadata": {},
   "source": [
    "# Load MNIST Data in TensorFlow\n",
    "Run the cell above to load the MNIST data that comes  with TensorFlow. You will use this data in **Section 1** and **Section 2**."
   ]
  },
  {
   "cell_type": "code",
   "execution_count": 1,
   "metadata": {
    "collapsed": false
   },
   "outputs": [
    {
     "name": "stdout",
     "output_type": "stream",
     "text": [
      "Extracting MNIST_data/train-images-idx3-ubyte.gz\n",
      "Extracting MNIST_data/train-labels-idx1-ubyte.gz\n",
      "Extracting MNIST_data/t10k-images-idx3-ubyte.gz\n",
      "Extracting MNIST_data/t10k-labels-idx1-ubyte.gz\n",
      "Image Shape:    (784,)\n",
      "Training Set:   55000 samples\n",
      "Validation Set: 5000 samples\n",
      "Test Set:       10000 samples\n"
     ]
    }
   ],
   "source": [
    "import tensorflow as tf\n",
    "from tensorflow.examples.tutorials.mnist import input_data\n",
    "mnist = input_data.read_data_sets(\"MNIST_data/\", one_hot=True)\n",
    "X_train, y_train           = mnist.train.images, mnist.train.labels\n",
    "X_validation, y_validation = mnist.validation.images, mnist.validation.labels\n",
    "X_test, y_test             = mnist.test.images, mnist.test.labels\n",
    "print(\"Image Shape:    {}\".format(X_train[0].shape))\n",
    "print(\"Training Set:   {} samples\".format(len(X_train)))\n",
    "print(\"Validation Set: {} samples\".format(len(X_validation)))\n",
    "print(\"Test Set:       {} samples\".format(len(X_test)))"
   ]
  },
  {
   "cell_type": "markdown",
   "metadata": {},
   "source": [
    "# Section 1 : My First Model in TensorFlow"
   ]
  },
  {
   "cell_type": "markdown",
   "metadata": {
    "collapsed": true
   },
   "source": [
    "Before starting with CNN, let's train and test in TensorFlow the example :\n",
    "**y=softmax(Wx+b)** seen in the DeepLearing course last week. \n",
    "\n",
    "This model reaches an accuracy of about 92 %.\n",
    "You will also learn how to launch the tensorBoard https://www.tensorflow.org/get_started/summaries_and_tensorboard to  visualize the computation graph, statistics and learning curves. "
   ]
  },
  {
   "cell_type": "markdown",
   "metadata": {},
   "source": [
    "<b> Part 1 </b> : Read carefully the code in the cell below. Run it to perform training. "
   ]
  },
  {
   "cell_type": "code",
   "execution_count": 2,
   "metadata": {
    "collapsed": false,
    "scrolled": false
   },
   "outputs": [
    {
     "name": "stdout",
     "output_type": "stream",
     "text": [
      "Epoch:  02   =====> Loss= 0.732570103\n",
      "Epoch:  04   =====> Loss= 0.537369894\n",
      "Epoch:  06   =====> Loss= 0.470851785\n",
      "Epoch:  08   =====> Loss= 0.435888453\n",
      "Epoch:  10   =====> Loss= 0.412341412\n",
      "Epoch:  12   =====> Loss= 0.397682748\n",
      "Epoch:  14   =====> Loss= 0.384083625\n",
      "Epoch:  16   =====> Loss= 0.375943218\n",
      "Epoch:  18   =====> Loss= 0.365186106\n",
      "Epoch:  20   =====> Loss= 0.358870065\n",
      "Epoch:  22   =====> Loss= 0.353645133\n",
      "Epoch:  24   =====> Loss= 0.348159644\n",
      "Epoch:  26   =====> Loss= 0.342928149\n",
      "Epoch:  28   =====> Loss= 0.339998797\n",
      "Epoch:  30   =====> Loss= 0.336601903\n",
      "Epoch:  32   =====> Loss= 0.334081225\n",
      "Epoch:  34   =====> Loss= 0.329946807\n",
      "Epoch:  36   =====> Loss= 0.327973610\n",
      "Epoch:  38   =====> Loss= 0.325611671\n",
      "Epoch:  40   =====> Loss= 0.323315708\n",
      "Epoch:  42   =====> Loss= 0.319634190\n",
      "Epoch:  44   =====> Loss= 0.317911095\n",
      "Epoch:  46   =====> Loss= 0.317361360\n",
      "Epoch:  48   =====> Loss= 0.315424857\n",
      "Epoch:  50   =====> Loss= 0.312982758\n",
      "Epoch:  52   =====> Loss= 0.311068404\n",
      "Epoch:  54   =====> Loss= 0.312310868\n",
      "Epoch:  56   =====> Loss= 0.306970081\n",
      "Epoch:  58   =====> Loss= 0.307039885\n",
      "Epoch:  60   =====> Loss= 0.306706120\n",
      "Epoch:  62   =====> Loss= 0.307224807\n",
      "Epoch:  64   =====> Loss= 0.304616657\n",
      "Epoch:  66   =====> Loss= 0.302355513\n",
      "Epoch:  68   =====> Loss= 0.301798056\n",
      "Epoch:  70   =====> Loss= 0.301334121\n",
      "Epoch:  72   =====> Loss= 0.301703907\n",
      "Epoch:  74   =====> Loss= 0.299368323\n",
      "Epoch:  76   =====> Loss= 0.298811872\n",
      "Epoch:  78   =====> Loss= 0.297029171\n",
      "Epoch:  80   =====> Loss= 0.295704178\n",
      "Epoch:  82   =====> Loss= 0.295938269\n",
      "Epoch:  84   =====> Loss= 0.294712652\n",
      "Epoch:  86   =====> Loss= 0.293081337\n",
      "Epoch:  88   =====> Loss= 0.296088377\n",
      "Epoch:  90   =====> Loss= 0.291390920\n",
      "Epoch:  92   =====> Loss= 0.291378064\n",
      "Epoch:  94   =====> Loss= 0.287228898\n",
      "Epoch:  96   =====> Loss= 0.288586779\n",
      "Epoch:  98   =====> Loss= 0.293845860\n",
      "Epoch:  100   =====> Loss= 0.291515787\n",
      "Optimization Finished!\n",
      "Accuracy: 0.9203\n"
     ]
    }
   ],
   "source": [
    "#STEP 1\n",
    "\n",
    "# Parameters\n",
    "learning_rate = 0.01\n",
    "training_epochs = 100\n",
    "batch_size = 128\n",
    "display_step = 2\n",
    "logs_path = 'log_files/'  # useful for tensorboard\n",
    "\n",
    "# tf Graph Input:  mnist data image of shape 28*28=784\n",
    "x = tf.placeholder(tf.float32, [None, 784], name='InputData')\n",
    "# 0-9 digits recognition,  10 classes\n",
    "y = tf.placeholder(tf.float32, [None, 10], name='LabelData')\n",
    "\n",
    "# Set model weights\n",
    "W = tf.Variable(tf.zeros([784, 10]), name='Weights')\n",
    "b = tf.Variable(tf.zeros([10]), name='Bias')\n",
    "\n",
    "# Construct model and encapsulating all ops into scopes, making Tensorboard's Graph visualization more convenient\n",
    "with tf.name_scope('Model'):\n",
    "    # Model\n",
    "    pred = tf.nn.softmax(tf.matmul(x, W) + b) # Softmax\n",
    "with tf.name_scope('Loss'):\n",
    "    # Minimize error using cross entropy\n",
    "    cost = tf.reduce_mean(-tf.reduce_sum(y*tf.log(pred), reduction_indices=1))\n",
    "with tf.name_scope('SGD'):\n",
    "    # Gradient Descent\n",
    "    optimizer = tf.train.GradientDescentOptimizer(learning_rate).minimize(cost)\n",
    "with tf.name_scope('Accuracy'):\n",
    "    # Accuracy\n",
    "    acc = tf.equal(tf.argmax(pred, 1), tf.argmax(y, 1))\n",
    "    acc = tf.reduce_mean(tf.cast(acc, tf.float32))\n",
    "\n",
    "# Initializing the variables\n",
    "init = tf.global_variables_initializer()\n",
    "# Create a summary to monitor cost tensor\n",
    "tf.summary.scalar(\"Loss\", cost)\n",
    "# Create a summary to monitor accuracy tensor\n",
    "tf.summary.scalar(\"Accuracy\", acc)\n",
    "# Merge all summaries into a single op\n",
    "merged_summary_op = tf.summary.merge_all()\n",
    "\n",
    "\n",
    "#STEP 2 \n",
    "\n",
    "\n",
    "# Launch the graph for training\n",
    "with tf.Session() as sess:\n",
    "    sess.run(init)\n",
    "    # op to write logs to Tensorboard\n",
    "    summary_writer = tf.summary.FileWriter(logs_path, graph=tf.get_default_graph())\n",
    "    # Training cycle\n",
    "    for epoch in range(training_epochs):\n",
    "        avg_cost = 0.\n",
    "        total_batch = int(mnist.train.num_examples/batch_size)\n",
    "        # Loop over all batches\n",
    "        for i in range(total_batch):\n",
    "            batch_xs, batch_ys = mnist.train.next_batch(batch_size)\n",
    "            # Run optimization op (backprop), cost op (to get loss value)\n",
    "            # and summary nodes\n",
    "            _, c, summary = sess.run([optimizer, cost, merged_summary_op],\n",
    "                                     feed_dict={x: batch_xs, y: batch_ys})\n",
    "            # Write logs at every iteration\n",
    "            summary_writer.add_summary(summary, epoch * total_batch + i)\n",
    "            # Compute average loss\n",
    "            avg_cost += c / total_batch\n",
    "        # Display logs per epoch step\n",
    "        if (epoch+1) % display_step == 0:\n",
    "            print(\"Epoch: \", '%02d' % (epoch+1), \"  =====> Loss=\", \"{:.9f}\".format(avg_cost))\n",
    "\n",
    "    print(\"Optimization Finished!\")\n",
    "\n",
    "    # Test model\n",
    "    # Calculate accuracy\n",
    "    print(\"Accuracy:\", acc.eval({x: mnist.test.images, y: mnist.test.labels}))\n",
    "\n",
    "\n"
   ]
  },
  {
   "cell_type": "markdown",
   "metadata": {},
   "source": [
    "<b> Part 2  </b>: Using Tensorboard, we can  now visualize the created graph, giving you an overview of your architecture and how all of the major components  are connected. You can also see and analyse the learning curves. \n",
    "\n",
    "To launch tensorBoard: \n",
    "- Go to the **TP2** folder, \n",
    "- Open a Terminal and run the command line **\"tensorboard --logdir= log_files/\"**, it will generate an http link ,ex http://666.6.6.6:6006,\n",
    "- Copy this  link into your web browser \n",
    "\n",
    "\n",
    "Enjoy It !! \n"
   ]
  },
  {
   "cell_type": "markdown",
   "metadata": {},
   "source": [
    "# Section 2 : The 99% MNIST Challenge !"
   ]
  },
  {
   "cell_type": "markdown",
   "metadata": {},
   "source": [
    "<b> Part 1 </b> : LeNet5 implementation"
   ]
  },
  {
   "cell_type": "markdown",
   "metadata": {},
   "source": [
    "Once you are familar with **tensorFlow** and **tensorBoard**, you are in this section to build, train and test the baseline [LeNet-5](http://yann.lecun.com/exdb/lenet/)  model for the MNIST digits recognition problem.  \n",
    "\n",
    "In more advanced step you will make some optimizations to get more than 99% of accuracy. The best model can get to over 99.7% accuracy! \n",
    "\n",
    "For more information, have a look at this list of results : http://rodrigob.github.io/are_we_there_yet/build/classification_datasets_results.html"
   ]
  },
  {
   "cell_type": "markdown",
   "metadata": {},
   "source": [
    "\n",
    "<img src=\"lenet.png\",width=\"800\" height=\"600\" align=\"center\">\n",
    "<center><span>Figure 1: Lenet 5 </span></center>\n",
    "\n",
    "\n",
    "\n",
    "\n",
    "\n",
    "The LeNet architecture accepts a 32x32xC image as input, where C is the number of color channels. Since MNIST images are grayscale, C is 1 in this case.\n",
    "\n",
    "--------------------------\n",
    "**Layer 1: Convolutional.** The output shape should be 28x28x6 **Activation.** sigmoid **Pooling.** The output shape should be 14x14x6.\n",
    "\n",
    "**Layer 2: Convolutional.** The output shape should be 10x10x16. **Activation.** sigmoid **Pooling.** The output shape should be 5x5x16.\n",
    "\n",
    "**Flatten.** Flatten the output shape of the final pooling layer such that it's 1D instead of 3D.  You may need to use **flatten*  from tensorflow.contrib.layers import flatten\n",
    "\n",
    "**Layer 3: Fully Connected.** This should have 120 outputs. **Activation.** sigmoid\n",
    "\n",
    "**Layer 4: Fully Connected.** This should have 84 outputs. **Activation.** sigmoid\n",
    "\n",
    "**Layer 5: Fully Connected.** This should have 10 outputs **Activation.** softmax.\n"
   ]
  },
  {
   "cell_type": "markdown",
   "metadata": {},
   "source": [
    "<b> Question 2.1.1 </b>  Implement the Neural Network architecture described above.\n",
    "For that, your will use classes and functions from  https://www.tensorflow.org/api_docs/python/tf/nn. \n",
    "\n",
    "We give you some helper functions for weigths and bias initilization. Also you can refer to section 1. \n"
   ]
  },
  {
   "cell_type": "code",
   "execution_count": 2,
   "metadata": {
    "collapsed": true
   },
   "outputs": [],
   "source": [
    "# Helper functions  for weigths and bias initilization \n",
    "def weight_variable(shape):\n",
    "    initial = tf.truncated_normal(shape, stddev=0.1)\n",
    "    return tf.Variable(initial)\n",
    "\n",
    "def bias_variable(shape):\n",
    "    initial = tf.constant(0.1, shape=shape)\n",
    "    return tf.Variable(initial)\n",
    "\n",
    "def conv2d(x, W, stride, padding_):\n",
    "    return tf.nn.conv2d(x, W, strides=[1, stride, stride, 1], padding=padding_)"
   ]
  },
  {
   "cell_type": "code",
   "execution_count": 32,
   "metadata": {
    "collapsed": false
   },
   "outputs": [],
   "source": [
    "def LeNet5_Model(data, transfer=\"sigmoid\"):    \n",
    "    # your implementation goes here\n",
    "    \n",
    "    transferFuncs = {\"sigmoid\" : tf.sigmoid, \"ReLU\": tf.nn.relu}\n",
    "    \n",
    "    #first convolutional layer\n",
    "    W_conv1 = weight_variable([5, 5, 1, 6]) ## [filter_width, filter_height, depth_image_in, depth_image_out]\n",
    "    b_conv1 = bias_variable([6])\n",
    "    h_conv1 = transferFuncs[transfer](conv2d(data, W_conv1, 1, 'SAME') + b_conv1)\n",
    "    pool1 = tf.nn.pool(h_conv1, [2,2], \"MAX\", 'VALID', strides=[2,2])\n",
    "    \n",
    "    #second convolutional layer\n",
    "    W_conv2 = weight_variable([5, 5, 6, 16])\n",
    "    b_conv2 = bias_variable([16])\n",
    "    h_conv2 = transferFuncs[transfer](conv2d(pool1, W_conv2, 1, 'VALID') + b_conv2)\n",
    "    pool2 = tf.nn.pool(h_conv2, [2,2], \"MAX\", 'VALID', strides=[2,2])\n",
    "    \n",
    "    #first fully connected layer\n",
    "    s = pool2.get_shape().as_list()\n",
    "    flattened_length = s[1] * s[2] * s[3]\n",
    "    pool2_flat = tf.reshape(pool2, [-1, flattened_length])\n",
    "    W_fc1 = weight_variable([1*5*5*16, 120])\n",
    "    b_fc1 = bias_variable([120])\n",
    "    h_fc1 = transferFuncs[transfer](tf.matmul(pool2_flat, W_fc1) + b_fc1)\n",
    "#     keep_prob = tf.placeholder(tf.float32)\n",
    "#     h_fc1_drop = tf.nn.dropout(h_fc1, keep_prob)\n",
    "\n",
    "    #second fully connected layer\n",
    "    W_fc2 = weight_variable([120, 84])\n",
    "    b_fc2 = bias_variable([84])\n",
    "    h_fc2 = transferFuncs[transfer](tf.matmul(h_fc1, W_fc2) + b_fc2)\n",
    "#     h_fc2_drop = tf.nn.dropout(h_fc2, keep_prob)\n",
    "    \n",
    "    #third fully connected layer\n",
    "    W_fc3 = weight_variable([84, 10])\n",
    "    b_fc3 = bias_variable([10])\n",
    "    h_fc3 = tf.nn.softmax(tf.matmul(h_fc2, W_fc3) + b_fc3)\n",
    "#     h_fc3 = tf.nn.softmax(tf.matmul(h_fc2_drop, W_fc3) + b_fc3)\n",
    "    \n",
    "    return h_fc3"
   ]
  },
  {
   "cell_type": "markdown",
   "metadata": {},
   "source": [
    "<b> Question 2.1.2. </b>  Calculate the number of parameters of this model "
   ]
  },
  {
   "cell_type": "code",
   "execution_count": 4,
   "metadata": {
    "collapsed": false
   },
   "outputs": [
    {
     "name": "stdout",
     "output_type": "stream",
     "text": [
      "59706\n"
     ]
    }
   ],
   "source": [
    "# first conv\n",
    "pconv1 = 5*5*1*6 # filter_height * filter_width * channels_in * num_feature_maps\n",
    "# second conv\n",
    "pconv2 = 5*5*1*16 # filter_height * filter_width * channels_in * num_feature_maps\n",
    "# first fcl\n",
    "pfcl1 = 5*5*16*120 # fcl_input_size * fcl_output_size\n",
    "pfcl1# second fcl\n",
    "pfcl2 = 84*120 # fcl_input_size * fcl_output_size\n",
    "# third fcl\n",
    "pfcl3 = 84*10 # fcl_input_size * fcl_output_size\n",
    "pbias = 6+16+120+84+10 # all the biases\n",
    "total = pbias + pfcl1 + pfcl2 + pfcl3 + pconv2 + pconv1\n",
    "print(total)"
   ]
  },
  {
   "cell_type": "markdown",
   "metadata": {},
   "source": [
    "<b> Question 2.1.3. </b>  Start the training with the parameters cited below:\n",
    "\n",
    "     Learning rate : 0.1\n",
    "     Loss Function : Cross entropy\n",
    "     Optimizer: SGD\n",
    "     Number of training iterations : 10000\n",
    "     Batch size : 128"
   ]
  },
  {
   "cell_type": "code",
   "execution_count": 5,
   "metadata": {
    "collapsed": true
   },
   "outputs": [],
   "source": [
    "learning_rate = 0.1\n",
    "training_epochs = 200 # as suggested in the email\n",
    "batch_size = 128\n",
    "display_step = 1\n",
    "logs_path = 'log_files/'"
   ]
  },
  {
   "cell_type": "markdown",
   "metadata": {},
   "source": [
    "<b> Question 2.1.4. </b>  Implement the evaluation function for accuracy computation "
   ]
  },
  {
   "cell_type": "code",
   "execution_count": 6,
   "metadata": {
    "collapsed": true
   },
   "outputs": [],
   "source": [
    "def evaluate(model, y):\n",
    "    correct = tf.equal(tf.argmax(model, 1), tf.argmax(y, 1))\n",
    "    return tf.reduce_mean(tf.cast(correct, tf.float32))"
   ]
  },
  {
   "cell_type": "markdown",
   "metadata": {},
   "source": [
    "<b> Question 2.1.5. </b>  Implement training pipeline and run the training data through it to train the model.\n",
    "\n",
    "- Before each epoch, shuffle the training set. \n",
    "- Print the loss per mini batch and the training/validation accuracy per epoch. (Display results every 100 epochs)\n",
    "- Save the model after training\n",
    "- Print after training the final testing accuracy \n",
    "\n"
   ]
  },
  {
   "cell_type": "code",
   "execution_count": 33,
   "metadata": {
    "collapsed": true
   },
   "outputs": [],
   "source": [
    "def train(learning_rate, training_epochs, batch_size, display_step = 1, \\\n",
    "          logs_path='log_files/', optFunction=\"SGD\", verbose=True, transfer=\"sigmoid\", keep_prob_=1):\n",
    "    \n",
    "    optFunctions = {\"SGD\":tf.train.GradientDescentOptimizer, \"Adam\":tf.train.AdamOptimizer}\n",
    "    \n",
    "    # Erase previous graph\n",
    "    tf.reset_default_graph()\n",
    "\n",
    "    x = tf.placeholder(tf.float32, [None, 28, 28, 1], name='InputData')\n",
    "    y = tf.placeholder(tf.float32, [None, 10], name='LabelData')\n",
    "#     keep_prob = tf.placeholder(tf.float32)\n",
    "\n",
    "    # Construct model\n",
    "    with tf.name_scope('Model'):\n",
    "        pred = LeNet5_Model(x, transfer=transfer)\n",
    "\n",
    "    # Define loss and optimizer\n",
    "    with tf.name_scope('Loss'):\n",
    "        cost = tf.reduce_mean(-tf.reduce_sum(y*tf.log(pred), reduction_indices=1))\n",
    "        #cost = tf.reduce_mean(tf.nn.softmax_cross_entropy_with_logits(logits=pred, labels=y))\n",
    "\n",
    "    with tf.name_scope(optFunction):\n",
    "        if transfer is \"sigmoid\":\n",
    "            optimizer = optFunctions[optFunction](learning_rate).minimize(cost)\n",
    "        else:\n",
    "            opt = optFunctions[optFunction](learning_rate)\n",
    "            gvs = opt.compute_gradients(cost)\n",
    "            capped_gvs = [(tf.clip_by_value(grad, -1., 1.), var) for grad, var in gvs]\n",
    "            optimizer = opt.apply_gradients(capped_gvs)\n",
    "\n",
    "    # Evaluate model\n",
    "    with tf.name_scope('Accuracy'):\n",
    "        accuracy = evaluate(pred, y)\n",
    "\n",
    "    # Initializing the variables\n",
    "    init = tf.global_variables_initializer()\n",
    "\n",
    "    # Create a summary to monitor cost tensor\n",
    "    tf.summary.scalar(\"Loss\", cost)\n",
    "    # Create a summary to monitor accuracy tensor\n",
    "    tf.summary.scalar(\"Accuracy\", accuracy)\n",
    "    # Merge all summaries into a single op\n",
    "    merged_summary_op = tf.summary.merge_all()\n",
    "\n",
    "    x_val, y_val = mnist.validation.images.reshape(-1, 28, 28, 1), mnist.validation.labels\n",
    "    x_test, y_test = mnist.test.images.reshape(-1, 28, 28, 1), mnist.test.labels\n",
    "\n",
    "    with tf.Session() as sess:\n",
    "        acc_history = []\n",
    "        sess.run(init)\n",
    "        if verbose is True:\n",
    "            print(\"Start Training!\")\n",
    "        # op to write logs to Tensorboard\n",
    "        summary_writer = tf.summary.FileWriter(logs_path, graph=tf.get_default_graph())\n",
    "        saver = tf.train.Saver()\n",
    "        #Training cycle\n",
    "        for epoch in range(training_epochs):\n",
    "            avg_cost = 0.\n",
    "            total_batch = int(mnist.train.num_examples/batch_size)\n",
    "            #Loop over all batches\n",
    "            for i in range(total_batch):\n",
    "                batch_xs, batch_ys = mnist.train.next_batch(batch_size)\n",
    "                batch_xs = batch_xs.reshape(-1, 28, 28, 1)\n",
    "                # Run optimization op (backprop), cost op (to get loss value)\n",
    "                # and summary nodes\n",
    "                _, c, summary = sess.run([optimizer, cost, merged_summary_op],\n",
    "                                         feed_dict={x: batch_xs, y: batch_ys})\n",
    "#                 _, c, summary = sess.run([optimizer, cost, merged_summary_op],\n",
    "#                                          feed_dict={x: batch_xs, y: batch_ys, keep_prob:keep_prob_})\n",
    "                 # Write logs at every iteration\n",
    "                summary_writer.add_summary(summary, epoch * total_batch + i)\n",
    "                # Compute average loss\n",
    "                avg_cost += c / total_batch\n",
    "            # Display logs per epoch step\n",
    "            acc = accuracy.eval({x: x_test, y:y_test})\n",
    "            acc_history.append(acc)\n",
    "            saver.save(sess, 'Models/model_' + str(learning_rate) + '_' + str(batch_size) + '_' + optFunction)\n",
    "            if verbose is True and (epoch+1) % display_step == 0:\n",
    "                print(\"Epoch: \", '%02d' % (epoch+1), \\\n",
    "                      \"  =====> Loss=\", \"{:.9f}\".format(avg_cost), \" Training accuracy=\", acc)\n",
    "            if acc>=0.99:\n",
    "                if verbose is True:\n",
    "                    print(\"Accuracy over 99%% reached after %d epochs\" %(epoch+1))\n",
    "                break\n",
    "                \n",
    "        if verbose is True:\n",
    "            print(\"Training Finished!\")\n",
    "            # Test model\n",
    "            # Calculate accuracy\n",
    "            print(\"Test accuracy:\", accuracy.eval({x: x_test, y:y_test}))\n",
    "        \n",
    "    return acc_history"
   ]
  },
  {
   "cell_type": "code",
   "execution_count": null,
   "metadata": {
    "collapsed": false,
    "scrolled": true
   },
   "outputs": [
    {
     "name": "stdout",
     "output_type": "stream",
     "text": [
      "Start Training!\n",
      "Epoch:  01   =====> Loss= 2.306928061  Training accuracy= 0.1235\n",
      "Epoch:  02   =====> Loss= 2.304781217  Training accuracy= 0.101\n",
      "Epoch:  03   =====> Loss= 2.305525391  Training accuracy= 0.1135\n",
      "Epoch:  04   =====> Loss= 2.304661218  Training accuracy= 0.101\n",
      "Epoch:  05   =====> Loss= 2.303317426  Training accuracy= 0.1028\n",
      "Epoch:  06   =====> Loss= 2.302996507  Training accuracy= 0.1135\n",
      "Epoch:  07   =====> Loss= 2.300591586  Training accuracy= 0.098\n",
      "Epoch:  08   =====> Loss= 2.296670377  Training accuracy= 0.0998\n",
      "Epoch:  09   =====> Loss= 2.281759106  Training accuracy= 0.1757\n",
      "Epoch:  10   =====> Loss= 2.086610396  Training accuracy= 0.5523\n",
      "Epoch:  11   =====> Loss= 1.160680367  Training accuracy= 0.7726\n",
      "Epoch:  12   =====> Loss= 0.689312380  Training accuracy= 0.8554\n",
      "Epoch:  13   =====> Loss= 0.483508759  Training accuracy= 0.8894\n",
      "Epoch:  14   =====> Loss= 0.380622723  Training accuracy= 0.91\n",
      "Epoch:  15   =====> Loss= 0.311116144  Training accuracy= 0.9218\n",
      "Epoch:  16   =====> Loss= 0.269315697  Training accuracy= 0.9309\n",
      "Epoch:  17   =====> Loss= 0.242045060  Training accuracy= 0.9387\n",
      "Epoch:  18   =====> Loss= 0.215096385  Training accuracy= 0.945\n",
      "Epoch:  19   =====> Loss= 0.194899564  Training accuracy= 0.9487\n",
      "Epoch:  20   =====> Loss= 0.179527568  Training accuracy= 0.9531\n",
      "Epoch:  21   =====> Loss= 0.164867066  Training accuracy= 0.9563\n",
      "Epoch:  22   =====> Loss= 0.155990931  Training accuracy= 0.9582\n",
      "Epoch:  23   =====> Loss= 0.143730510  Training accuracy= 0.9609\n",
      "Epoch:  24   =====> Loss= 0.134993161  Training accuracy= 0.9621\n",
      "Epoch:  25   =====> Loss= 0.128950901  Training accuracy= 0.9651\n",
      "Epoch:  26   =====> Loss= 0.121246665  Training accuracy= 0.9675\n",
      "Epoch:  27   =====> Loss= 0.115803293  Training accuracy= 0.969\n",
      "Epoch:  28   =====> Loss= 0.111109610  Training accuracy= 0.9693\n",
      "Epoch:  29   =====> Loss= 0.106992849  Training accuracy= 0.9717\n",
      "Epoch:  30   =====> Loss= 0.100704165  Training accuracy= 0.9729\n",
      "Epoch:  31   =====> Loss= 0.097266215  Training accuracy= 0.9738\n",
      "Epoch:  32   =====> Loss= 0.093452992  Training accuracy= 0.9753\n",
      "Epoch:  33   =====> Loss= 0.093112985  Training accuracy= 0.9758\n",
      "Epoch:  34   =====> Loss= 0.087783343  Training accuracy= 0.9767\n",
      "Epoch:  35   =====> Loss= 0.085013750  Training accuracy= 0.9769\n",
      "Epoch:  36   =====> Loss= 0.083677198  Training accuracy= 0.9758\n",
      "Epoch:  37   =====> Loss= 0.079240010  Training accuracy= 0.978\n",
      "Epoch:  38   =====> Loss= 0.079453717  Training accuracy= 0.9782\n",
      "Epoch:  39   =====> Loss= 0.077214922  Training accuracy= 0.9792\n",
      "Epoch:  40   =====> Loss= 0.074047830  Training accuracy= 0.9789\n",
      "Epoch:  41   =====> Loss= 0.072250731  Training accuracy= 0.979\n",
      "Epoch:  42   =====> Loss= 0.071389852  Training accuracy= 0.98\n",
      "Epoch:  43   =====> Loss= 0.070536789  Training accuracy= 0.9796\n",
      "Epoch:  44   =====> Loss= 0.067198594  Training accuracy= 0.9804\n",
      "Epoch:  45   =====> Loss= 0.066285549  Training accuracy= 0.9811\n",
      "Epoch:  46   =====> Loss= 0.064844163  Training accuracy= 0.9805\n",
      "Epoch:  47   =====> Loss= 0.064478039  Training accuracy= 0.9813\n",
      "Epoch:  48   =====> Loss= 0.063107086  Training accuracy= 0.9805\n",
      "Epoch:  49   =====> Loss= 0.060104021  Training accuracy= 0.9819\n",
      "Epoch:  50   =====> Loss= 0.060240117  Training accuracy= 0.9822\n",
      "Epoch:  51   =====> Loss= 0.058150116  Training accuracy= 0.983\n",
      "Epoch:  52   =====> Loss= 0.058006187  Training accuracy= 0.983\n",
      "Epoch:  53   =====> Loss= 0.057037318  Training accuracy= 0.9834\n",
      "Epoch:  54   =====> Loss= 0.056441934  Training accuracy= 0.9833\n",
      "Epoch:  55   =====> Loss= 0.056120759  Training accuracy= 0.9831\n",
      "Epoch:  56   =====> Loss= 0.053620705  Training accuracy= 0.9844\n",
      "Epoch:  57   =====> Loss= 0.052240248  Training accuracy= 0.9837\n",
      "Epoch:  58   =====> Loss= 0.052525651  Training accuracy= 0.9836\n",
      "Epoch:  59   =====> Loss= 0.051241631  Training accuracy= 0.9836\n",
      "Epoch:  60   =====> Loss= 0.050211639  Training accuracy= 0.9844\n",
      "Epoch:  61   =====> Loss= 0.050373016  Training accuracy= 0.9849\n",
      "Epoch:  62   =====> Loss= 0.048749563  Training accuracy= 0.9841\n",
      "Epoch:  63   =====> Loss= 0.047887673  Training accuracy= 0.9855\n",
      "Epoch:  64   =====> Loss= 0.049003361  Training accuracy= 0.9851\n",
      "Epoch:  65   =====> Loss= 0.046089562  Training accuracy= 0.9848\n",
      "Epoch:  66   =====> Loss= 0.047382453  Training accuracy= 0.9852\n",
      "Epoch:  67   =====> Loss= 0.044905018  Training accuracy= 0.9856\n",
      "Epoch:  68   =====> Loss= 0.045255234  Training accuracy= 0.9857\n",
      "Epoch:  69   =====> Loss= 0.044383753  Training accuracy= 0.9858\n",
      "Epoch:  70   =====> Loss= 0.043371300  Training accuracy= 0.9857\n",
      "Epoch:  71   =====> Loss= 0.042894797  Training accuracy= 0.9858\n",
      "Epoch:  72   =====> Loss= 0.042286960  Training accuracy= 0.9861\n",
      "Epoch:  73   =====> Loss= 0.041955960  Training accuracy= 0.9841\n",
      "Epoch:  74   =====> Loss= 0.041935326  Training accuracy= 0.9851\n",
      "Epoch:  75   =====> Loss= 0.039918399  Training accuracy= 0.9842\n",
      "Epoch:  76   =====> Loss= 0.040445087  Training accuracy= 0.9861\n",
      "Epoch:  77   =====> Loss= 0.040217030  Training accuracy= 0.9853\n",
      "Epoch:  78   =====> Loss= 0.039101467  Training accuracy= 0.9862\n",
      "Epoch:  79   =====> Loss= 0.039087097  Training accuracy= 0.9864\n",
      "Epoch:  80   =====> Loss= 0.038435441  Training accuracy= 0.9861\n",
      "Epoch:  81   =====> Loss= 0.037074252  Training accuracy= 0.986\n",
      "Epoch:  82   =====> Loss= 0.038044977  Training accuracy= 0.9856\n",
      "Epoch:  83   =====> Loss= 0.036691194  Training accuracy= 0.9868\n",
      "Epoch:  84   =====> Loss= 0.035759603  Training accuracy= 0.9863\n",
      "Epoch:  85   =====> Loss= 0.036570786  Training accuracy= 0.9867\n",
      "Epoch:  86   =====> Loss= 0.034580177  Training accuracy= 0.9864\n",
      "Epoch:  87   =====> Loss= 0.034948474  Training accuracy= 0.9865\n",
      "Epoch:  88   =====> Loss= 0.035708867  Training accuracy= 0.9869\n",
      "Epoch:  89   =====> Loss= 0.033103590  Training accuracy= 0.9857\n",
      "Epoch:  90   =====> Loss= 0.034656281  Training accuracy= 0.9871\n",
      "Epoch:  91   =====> Loss= 0.033029957  Training accuracy= 0.9864\n",
      "Epoch:  92   =====> Loss= 0.032886611  Training accuracy= 0.9872\n",
      "Epoch:  93   =====> Loss= 0.032201191  Training accuracy= 0.9873\n",
      "Epoch:  94   =====> Loss= 0.032649002  Training accuracy= 0.9869\n",
      "Epoch:  95   =====> Loss= 0.032013866  Training accuracy= 0.9869\n",
      "Epoch:  96   =====> Loss= 0.031191011  Training accuracy= 0.9879\n",
      "Epoch:  97   =====> Loss= 0.031421118  Training accuracy= 0.987\n",
      "Epoch:  98   =====> Loss= 0.030255121  Training accuracy= 0.9873\n",
      "Epoch:  99   =====> Loss= 0.030313130  Training accuracy= 0.9875\n",
      "Epoch:  100   =====> Loss= 0.030473595  Training accuracy= 0.9874\n",
      "Epoch:  101   =====> Loss= 0.029399489  Training accuracy= 0.9872\n",
      "Epoch:  102   =====> Loss= 0.029608487  Training accuracy= 0.9871\n",
      "Epoch:  103   =====> Loss= 0.028477903  Training accuracy= 0.987\n",
      "Epoch:  104   =====> Loss= 0.029406645  Training accuracy= 0.9871\n",
      "Epoch:  105   =====> Loss= 0.029297535  Training accuracy= 0.9871\n",
      "Epoch:  106   =====> Loss= 0.028146978  Training accuracy= 0.9861\n",
      "Epoch:  107   =====> Loss= 0.027528068  Training accuracy= 0.987\n",
      "Epoch:  108   =====> Loss= 0.027449945  Training accuracy= 0.9877\n",
      "Epoch:  109   =====> Loss= 0.027380104  Training accuracy= 0.9869\n",
      "Epoch:  110   =====> Loss= 0.027296074  Training accuracy= 0.9869\n",
      "Epoch:  111   =====> Loss= 0.026809950  Training accuracy= 0.988\n",
      "Epoch:  112   =====> Loss= 0.025773292  Training accuracy= 0.9871\n",
      "Epoch:  113   =====> Loss= 0.026283246  Training accuracy= 0.9879\n",
      "Epoch:  114   =====> Loss= 0.026179140  Training accuracy= 0.988\n",
      "Epoch:  115   =====> Loss= 0.025896342  Training accuracy= 0.988\n"
     ]
    }
   ],
   "source": [
    "train(learning_rate, training_epochs, batch_size)"
   ]
  },
  {
   "cell_type": "markdown",
   "metadata": {},
   "source": [
    "<b> Question 2.1.6 </b> : Use tensorBoard to visualise and save the LeNet5 Graph and all learning curves. \n",
    "Save all obtained figures in the folder **\"TP2/MNIST_99_Challenge_Figures\"**"
   ]
  },
  {
   "cell_type": "code",
   "execution_count": 18,
   "metadata": {
    "collapsed": true
   },
   "outputs": [],
   "source": [
    "#insert your obtained figure here"
   ]
  },
  {
   "cell_type": "markdown",
   "metadata": {},
   "source": [
    "<b> Part 2 </b> : LeNET 5 Optimization"
   ]
  },
  {
   "cell_type": "markdown",
   "metadata": {},
   "source": [
    "\n",
    "<b> Question 2.2.1 </b>  Change the sigmoid function with a ReLU :\n",
    "\n",
    "- Retrain your network with SGD and AdamOptimizer and then fill the table above  :\n",
    "\n",
    "\n",
    "| Optimizer            |  Gradient Descent         |AdamOptimizer |\n",
    "| -------------        |: -------------: | ---------:   \n",
    "| Validation Accuracy  |         |    |      \n",
    "| Testing Accuracy     |           |    |       \n",
    "| Training Time        |           |        |  |  \n",
    "\n",
    "\n",
    "- Try with different learning rates for each Optimizer (0.0001 and 0.001 ) and different Batch sizes (50 and 128) for 20000 Epochs. \n",
    "\n",
    "- For each optimizer, plot (on the same curve) the **testing accuracies** function to **(learning rate, batch size)** \n",
    "\n",
    "\n",
    "\n",
    "- Did you reach the 99% accuracy ? What are the optimal parametres that gave you the best results? \n",
    "\n",
    "\n",
    "\n",
    "\n",
    "\n",
    "\n"
   ]
  },
  {
   "cell_type": "code",
   "execution_count": 11,
   "metadata": {
    "collapsed": true
   },
   "outputs": [],
   "source": [
    "import time\n",
    "import numpy as np\n",
    "import matplotlib.pyplot as plt\n",
    "%matplotlib inline"
   ]
  },
  {
   "cell_type": "code",
   "execution_count": 34,
   "metadata": {
    "collapsed": false
   },
   "outputs": [
    {
     "name": "stdout",
     "output_type": "stream",
     "text": [
      "Learning rate: 0.001 Batch size: 50 optimizer: SGD\n",
      "\t====> Time: 58.01080012321472 Test accuracy: 0.8757\n",
      "Learning rate: 0.001 Batch size: 128 optimizer: SGD\n",
      "\t====> Time: 48.04238438606262 Test accuracy: 0.4043\n",
      "Learning rate: 0.0001 Batch size: 50 optimizer: SGD\n",
      "\t====> Time: 70.53464484214783 Test accuracy: 0.1958\n",
      "Learning rate: 0.0001 Batch size: 128 optimizer: SGD\n",
      "\t====> Time: 50.77336359024048 Test accuracy: 0.1125\n",
      "Learning rate: 0.001 Batch size: 50 optimizer: Adam\n",
      "\t====> Time: 58.746304750442505 Test accuracy: 0.9852\n",
      "Learning rate: 0.001 Batch size: 128 optimizer: Adam\n",
      "\t====> Time: 48.32574200630188 Test accuracy: 0.986\n",
      "Learning rate: 0.0001 Batch size: 50 optimizer: Adam\n",
      "\t====> Time: 59.44114089012146 Test accuracy: 0.9609\n",
      "Learning rate: 0.0001 Batch size: 128 optimizer: Adam\n",
      "\t====> Time: 47.41213369369507 Test accuracy: 0.9407\n",
      "Optimization Finished!\n"
     ]
    }
   ],
   "source": [
    "learning_rates = [0.001, 0.0001]\n",
    "batch_sizes = [50, 128]\n",
    "optNames = [\"SGD\", \"Adam\"]\n",
    "# training_epochs = 200\n",
    "# disp_step = 50\n",
    "training_epochs = 3\n",
    "disp_step = 1\n",
    "\n",
    "\n",
    "results = []\n",
    "for on in optNames:\n",
    "    for lr in learning_rates:\n",
    "        for bs in batch_sizes:\n",
    "            print(\"Learning rate:\", lr, \"Batch size:\", bs, \"optimizer:\", on)\n",
    "            t1 = time.time()\n",
    "            acc_history = train(learning_rate=lr, training_epochs=training_epochs, batch_size=bs, \\\n",
    "                                      display_step=disp_step, optFunction=on, verbose=False, transfer=\"ReLU\")\n",
    "            t2 = time.time() - t1\n",
    "            print(\"\\t====> Time:\", t2, \"Test accuracy:\", acc_history[-1])\n",
    "            results.append((lr, bs, on, t2, acc_history))\n",
    "print(\"Optimization Finished!\")"
   ]
  },
  {
   "cell_type": "code",
   "execution_count": 35,
   "metadata": {
    "collapsed": false
   },
   "outputs": [
    {
     "data": {
      "image/png": "[encoded data removed]",
      "text/plain": [
       "<matplotlib.figure.Figure at 0x7f1696631f98>"
      ]
     },
     "metadata": {},
     "output_type": "display_data"
    }
   ],
   "source": [
    "plt.figure(figsize=(20,20))\n",
    "plt.subplot(211)\n",
    "max_epochs = max([len(results[0][4]), len(results[1][4]), len(results[2][4]), len(results[3][4])])\n",
    "plt.plot(np.arange(len(results[0][4])), results[0][4], c=\"r\", \\\n",
    "         label=\"Learning rate:\" + str(results[0][0]) + \" Batch size:\" + str(results[0][1]))\n",
    "plt.plot(np.arange(len(results[1][4])), results[1][4], c=\"b\", \\\n",
    "         label=\"Learning rate:\" + str(results[1][0]) + \" Batch size:\" + str(results[1][1]))\n",
    "plt.plot(np.arange(len(results[2][4])), results[2][4], c=\"g\", \\\n",
    "         label=\"Learning rate:\" + str(results[2][0]) + \" Batch size:\" + str(results[2][1]))\n",
    "plt.plot(np.arange(len(results[3][4])), results[3][4], c=\"g\", \\\n",
    "         label=\"Learning rate:\" + str(results[3][0]) + \" Batch size:\" + str(results[3][1]))\n",
    "plt.legend()\n",
    "plt.title(\"Test accuracy over epochs for Adam Optimizer\")\n",
    "plt.xlabel(\"Epochs\")\n",
    "plt.ylabel(\"Accuracy\")\n",
    "plt.xlim((0, max_epochs))\n",
    "\n",
    "plt.subplot(212)\n",
    "max_epochs = max([len(results[4][4]), len(results[5][4]), len(results[6][4]), len(results[7][4])])\n",
    "plt.plot(np.arange(len(results[4][4])), results[4][4], c=\"r\", \\\n",
    "         label=\"Learning rate:\" + str(results[4][0]) + \" Batch size:\" + str(results[4][1]))\n",
    "plt.plot(np.arange(len(results[5][4])), results[5][4], c=\"b\", \\\n",
    "         label=\"Learning rate:\" + str(results[5][0]) + \" Batch size:\" + str(results[5][1]))\n",
    "plt.plot(np.arange(len(results[6][4])), results[6][4], c=\"g\", \\\n",
    "         label=\"Learning rate:\" + str(results[6][0]) + \" Batch size:\" + str(results[6][1]))\n",
    "plt.plot(np.arange(len(results[7][4])), results[7][4], c=\"g\", \\\n",
    "         label=\"Learning rate:\" + str(results[7][0]) + \" Batch size:\" + str(results[7][1]))\n",
    "plt.legend()\n",
    "plt.title(\"Test accuracy over epochs for SGD\")\n",
    "plt.xlabel(\"Epochs\")\n",
    "plt.ylabel(\"Accuracy\")\n",
    "plt.xlim((0, max_epochs))\n",
    "plt.show()"
   ]
  },
  {
   "cell_type": "markdown",
   "metadata": {},
   "source": [
    "<b> Question 2.2.2 </b>  What about applying a dropout layer on the Fully connected layer and then retraining the model with the best Optimizer and parameters (Learning rate and Batch size) obtained in *Question 2.2.1*  ? (probability to keep units=0.75). For this stage ensure that the keep prob is set to 1.0 to evaluate the \n",
    "performance of the network including all nodes."
   ]
  },
  {
   "cell_type": "code",
   "execution_count": 31,
   "metadata": {
    "collapsed": false,
    "scrolled": false
   },
   "outputs": [
    {
     "ename": "InvalidArgumentError",
     "evalue": "You must feed a value for placeholder tensor 'Model/Placeholder' with dtype float\n\t [[Node: Model/Placeholder = Placeholder[dtype=DT_FLOAT, shape=[], _device=\"/job:localhost/replica:0/task:0/cpu:0\"]()]]\n\nCaused by op 'Model/Placeholder', defined at:\n  File \"/home/pal/anaconda3/lib/python3.6/runpy.py\", line 193, in _run_module_as_main\n    \"__main__\", mod_spec)\n  File \"/home/pal/anaconda3/lib/python3.6/runpy.py\", line 85, in _run_code\n    exec(code, run_globals)\n  File \"/home/pal/anaconda3/lib/python3.6/site-packages/ipykernel/__main__.py\", line 3, in <module>\n    app.launch_new_instance()\n  File \"/home/pal/anaconda3/lib/python3.6/site-packages/traitlets/config/application.py\", line 658, in launch_instance\n    app.start()\n  File \"/home/pal/anaconda3/lib/python3.6/site-packages/ipykernel/kernelapp.py\", line 474, in start\n    ioloop.IOLoop.instance().start()\n  File \"/home/pal/anaconda3/lib/python3.6/site-packages/zmq/eventloop/ioloop.py\", line 177, in start\n    super(ZMQIOLoop, self).start()\n  File \"/home/pal/anaconda3/lib/python3.6/site-packages/tornado/ioloop.py\", line 887, in start\n    handler_func(fd_obj, events)\n  File \"/home/pal/anaconda3/lib/python3.6/site-packages/tornado/stack_context.py\", line 275, in null_wrapper\n    return fn(*args, **kwargs)\n  File \"/home/pal/anaconda3/lib/python3.6/site-packages/zmq/eventloop/zmqstream.py\", line 440, in _handle_events\n    self._handle_recv()\n  File \"/home/pal/anaconda3/lib/python3.6/site-packages/zmq/eventloop/zmqstream.py\", line 472, in _handle_recv\n    self._run_callback(callback, msg)\n  File \"/home/pal/anaconda3/lib/python3.6/site-packages/zmq/eventloop/zmqstream.py\", line 414, in _run_callback\n    callback(*args, **kwargs)\n  File \"/home/pal/anaconda3/lib/python3.6/site-packages/tornado/stack_context.py\", line 275, in null_wrapper\n    return fn(*args, **kwargs)\n  File \"/home/pal/anaconda3/lib/python3.6/site-packages/ipykernel/kernelbase.py\", line 276, in dispatcher\n    return self.dispatch_shell(stream, msg)\n  File \"/home/pal/anaconda3/lib/python3.6/site-packages/ipykernel/kernelbase.py\", line 228, in dispatch_shell\n    handler(stream, idents, msg)\n  File \"/home/pal/anaconda3/lib/python3.6/site-packages/ipykernel/kernelbase.py\", line 390, in execute_request\n    user_expressions, allow_stdin)\n  File \"/home/pal/anaconda3/lib/python3.6/site-packages/ipykernel/ipkernel.py\", line 196, in do_execute\n    res = shell.run_cell(code, store_history=store_history, silent=silent)\n  File \"/home/pal/anaconda3/lib/python3.6/site-packages/ipykernel/zmqshell.py\", line 501, in run_cell\n    return super(ZMQInteractiveShell, self).run_cell(*args, **kwargs)\n  File \"/home/pal/anaconda3/lib/python3.6/site-packages/IPython/core/interactiveshell.py\", line 2717, in run_cell\n    interactivity=interactivity, compiler=compiler, result=result)\n  File \"/home/pal/anaconda3/lib/python3.6/site-packages/IPython/core/interactiveshell.py\", line 2821, in run_ast_nodes\n    if self.run_code(code, result):\n  File \"/home/pal/anaconda3/lib/python3.6/site-packages/IPython/core/interactiveshell.py\", line 2881, in run_code\n    exec(code_obj, self.user_global_ns, self.user_ns)\n  File \"<ipython-input-31-3bb0757b8bd8>\", line 9, in <module>\n    acc_history = train(learning_rate=lr, training_epochs=training_epochs, batch_size=bs,                     display_step=disp_step, optFunction=opt, verbose=False, transfer=\"ReLU\", keep_prob_=kp)\n  File \"<ipython-input-30-4efec285c67b>\", line 14, in train\n    pred = LeNet5_Model(x, transfer=transfer)\n  File \"<ipython-input-29-8d2b4bdf2330>\", line 25, in LeNet5_Model\n    keep_prob = tf.placeholder(tf.float32)\n  File \"/home/pal/anaconda3/lib/python3.6/site-packages/tensorflow/python/ops/array_ops.py\", line 1507, in placeholder\n    name=name)\n  File \"/home/pal/anaconda3/lib/python3.6/site-packages/tensorflow/python/ops/gen_array_ops.py\", line 1997, in _placeholder\n    name=name)\n  File \"/home/pal/anaconda3/lib/python3.6/site-packages/tensorflow/python/framework/op_def_library.py\", line 768, in apply_op\n    op_def=op_def)\n  File \"/home/pal/anaconda3/lib/python3.6/site-packages/tensorflow/python/framework/ops.py\", line 2336, in create_op\n    original_op=self._default_original_op, op_def=op_def)\n  File \"/home/pal/anaconda3/lib/python3.6/site-packages/tensorflow/python/framework/ops.py\", line 1228, in __init__\n    self._traceback = _extract_stack()\n\nInvalidArgumentError (see above for traceback): You must feed a value for placeholder tensor 'Model/Placeholder' with dtype float\n\t [[Node: Model/Placeholder = Placeholder[dtype=DT_FLOAT, shape=[], _device=\"/job:localhost/replica:0/task:0/cpu:0\"]()]]\n",
     "output_type": "error",
     "traceback": [
      "\u001b[0;31m---------------------------------------------------------------------------\u001b[0m",
      "\u001b[0;31mInvalidArgumentError\u001b[0m                      Traceback (most recent call last)",
      "\u001b[0;32m/home/pal/anaconda3/lib/python3.6/site-packages/tensorflow/python/client/session.py\u001b[0m in \u001b[0;36m_do_call\u001b[0;34m(self, fn, *args)\u001b[0m\n\u001b[1;32m   1038\u001b[0m     \u001b[0;32mtry\u001b[0m\u001b[0;34m:\u001b[0m\u001b[0;34m\u001b[0m\u001b[0m\n\u001b[0;32m-> 1039\u001b[0;31m       \u001b[0;32mreturn\u001b[0m \u001b[0mfn\u001b[0m\u001b[0;34m(\u001b[0m\u001b[0;34m*\u001b[0m\u001b[0margs\u001b[0m\u001b[0;34m)\u001b[0m\u001b[0;34m\u001b[0m\u001b[0m\n\u001b[0m\u001b[1;32m   1040\u001b[0m     \u001b[0;32mexcept\u001b[0m \u001b[0merrors\u001b[0m\u001b[0;34m.\u001b[0m\u001b[0mOpError\u001b[0m \u001b[0;32mas\u001b[0m \u001b[0me\u001b[0m\u001b[0;34m:\u001b[0m\u001b[0;34m\u001b[0m\u001b[0m\n",
      "\u001b[0;32m/home/pal/anaconda3/lib/python3.6/site-packages/tensorflow/python/client/session.py\u001b[0m in \u001b[0;36m_run_fn\u001b[0;34m(session, feed_dict, fetch_list, target_list, options, run_metadata)\u001b[0m\n\u001b[1;32m   1020\u001b[0m                                  \u001b[0mfeed_dict\u001b[0m\u001b[0;34m,\u001b[0m \u001b[0mfetch_list\u001b[0m\u001b[0;34m,\u001b[0m \u001b[0mtarget_list\u001b[0m\u001b[0;34m,\u001b[0m\u001b[0;34m\u001b[0m\u001b[0m\n\u001b[0;32m-> 1021\u001b[0;31m                                  status, run_metadata)\n\u001b[0m\u001b[1;32m   1022\u001b[0m \u001b[0;34m\u001b[0m\u001b[0m\n",
      "\u001b[0;32m/home/pal/anaconda3/lib/python3.6/contextlib.py\u001b[0m in \u001b[0;36m__exit__\u001b[0;34m(self, type, value, traceback)\u001b[0m\n\u001b[1;32m     88\u001b[0m             \u001b[0;32mtry\u001b[0m\u001b[0;34m:\u001b[0m\u001b[0;34m\u001b[0m\u001b[0m\n\u001b[0;32m---> 89\u001b[0;31m                 \u001b[0mnext\u001b[0m\u001b[0;34m(\u001b[0m\u001b[0mself\u001b[0m\u001b[0;34m.\u001b[0m\u001b[0mgen\u001b[0m\u001b[0;34m)\u001b[0m\u001b[0;34m\u001b[0m\u001b[0m\n\u001b[0m\u001b[1;32m     90\u001b[0m             \u001b[0;32mexcept\u001b[0m \u001b[0mStopIteration\u001b[0m\u001b[0;34m:\u001b[0m\u001b[0;34m\u001b[0m\u001b[0m\n",
      "\u001b[0;32m/home/pal/anaconda3/lib/python3.6/site-packages/tensorflow/python/framework/errors_impl.py\u001b[0m in \u001b[0;36mraise_exception_on_not_ok_status\u001b[0;34m()\u001b[0m\n\u001b[1;32m    465\u001b[0m           \u001b[0mcompat\u001b[0m\u001b[0;34m.\u001b[0m\u001b[0mas_text\u001b[0m\u001b[0;34m(\u001b[0m\u001b[0mpywrap_tensorflow\u001b[0m\u001b[0;34m.\u001b[0m\u001b[0mTF_Message\u001b[0m\u001b[0;34m(\u001b[0m\u001b[0mstatus\u001b[0m\u001b[0;34m)\u001b[0m\u001b[0;34m)\u001b[0m\u001b[0;34m,\u001b[0m\u001b[0;34m\u001b[0m\u001b[0m\n\u001b[0;32m--> 466\u001b[0;31m           pywrap_tensorflow.TF_GetCode(status))\n\u001b[0m\u001b[1;32m    467\u001b[0m   \u001b[0;32mfinally\u001b[0m\u001b[0;34m:\u001b[0m\u001b[0;34m\u001b[0m\u001b[0m\n",
      "\u001b[0;31mInvalidArgumentError\u001b[0m: You must feed a value for placeholder tensor 'Model/Placeholder' with dtype float\n\t [[Node: Model/Placeholder = Placeholder[dtype=DT_FLOAT, shape=[], _device=\"/job:localhost/replica:0/task:0/cpu:0\"]()]]",
      "\nDuring handling of the above exception, another exception occurred:\n",
      "\u001b[0;31mInvalidArgumentError\u001b[0m                      Traceback (most recent call last)",
      "\u001b[0;32m<ipython-input-31-3bb0757b8bd8>\u001b[0m in \u001b[0;36m<module>\u001b[0;34m()\u001b[0m\n\u001b[1;32m      7\u001b[0m \u001b[0;34m\u001b[0m\u001b[0m\n\u001b[1;32m      8\u001b[0m \u001b[0mt1\u001b[0m \u001b[0;34m=\u001b[0m \u001b[0mtime\u001b[0m\u001b[0;34m.\u001b[0m\u001b[0mtime\u001b[0m\u001b[0;34m(\u001b[0m\u001b[0;34m)\u001b[0m\u001b[0;34m\u001b[0m\u001b[0m\n\u001b[0;32m----> 9\u001b[0;31m \u001b[0macc_history\u001b[0m \u001b[0;34m=\u001b[0m \u001b[0mtrain\u001b[0m\u001b[0;34m(\u001b[0m\u001b[0mlearning_rate\u001b[0m\u001b[0;34m=\u001b[0m\u001b[0mlr\u001b[0m\u001b[0;34m,\u001b[0m \u001b[0mtraining_epochs\u001b[0m\u001b[0;34m=\u001b[0m\u001b[0mtraining_epochs\u001b[0m\u001b[0;34m,\u001b[0m \u001b[0mbatch_size\u001b[0m\u001b[0;34m=\u001b[0m\u001b[0mbs\u001b[0m\u001b[0;34m,\u001b[0m                     \u001b[0mdisplay_step\u001b[0m\u001b[0;34m=\u001b[0m\u001b[0mdisp_step\u001b[0m\u001b[0;34m,\u001b[0m \u001b[0moptFunction\u001b[0m\u001b[0;34m=\u001b[0m\u001b[0mopt\u001b[0m\u001b[0;34m,\u001b[0m \u001b[0mverbose\u001b[0m\u001b[0;34m=\u001b[0m\u001b[0;32mFalse\u001b[0m\u001b[0;34m,\u001b[0m \u001b[0mtransfer\u001b[0m\u001b[0;34m=\u001b[0m\u001b[0;34m\"ReLU\"\u001b[0m\u001b[0;34m,\u001b[0m \u001b[0mkeep_prob_\u001b[0m\u001b[0;34m=\u001b[0m\u001b[0mkp\u001b[0m\u001b[0;34m)\u001b[0m\u001b[0;34m\u001b[0m\u001b[0m\n\u001b[0m\u001b[1;32m     10\u001b[0m \u001b[0mt2\u001b[0m \u001b[0;34m=\u001b[0m \u001b[0mtime\u001b[0m\u001b[0;34m.\u001b[0m\u001b[0mtime\u001b[0m\u001b[0;34m(\u001b[0m\u001b[0;34m)\u001b[0m \u001b[0;34m-\u001b[0m \u001b[0mt1\u001b[0m\u001b[0;34m\u001b[0m\u001b[0m\n\u001b[1;32m     11\u001b[0m \u001b[0mprint\u001b[0m\u001b[0;34m(\u001b[0m\u001b[0;34m\"\\t====> Time:\"\u001b[0m\u001b[0;34m,\u001b[0m \u001b[0mt2\u001b[0m\u001b[0;34m,\u001b[0m \u001b[0;34m\"Test accuracy:\"\u001b[0m\u001b[0;34m,\u001b[0m \u001b[0macc_history\u001b[0m\u001b[0;34m[\u001b[0m\u001b[0;34m-\u001b[0m\u001b[0;36m1\u001b[0m\u001b[0;34m]\u001b[0m\u001b[0;34m)\u001b[0m\u001b[0;34m\u001b[0m\u001b[0m\n",
      "\u001b[0;32m<ipython-input-30-4efec285c67b>\u001b[0m in \u001b[0;36mtrain\u001b[0;34m(learning_rate, training_epochs, batch_size, display_step, logs_path, optFunction, verbose, transfer, keep_prob_)\u001b[0m\n\u001b[1;32m     64\u001b[0m                 \u001b[0;31m# and summary nodes\u001b[0m\u001b[0;34m\u001b[0m\u001b[0;34m\u001b[0m\u001b[0m\n\u001b[1;32m     65\u001b[0m                 _, c, summary = sess.run([optimizer, cost, merged_summary_op],\n\u001b[0;32m---> 66\u001b[0;31m                                          feed_dict={x: batch_xs, y: batch_ys, keep_prob:keep_prob_})\n\u001b[0m\u001b[1;32m     67\u001b[0m                  \u001b[0;31m# Write logs at every iteration\u001b[0m\u001b[0;34m\u001b[0m\u001b[0;34m\u001b[0m\u001b[0m\n\u001b[1;32m     68\u001b[0m                 \u001b[0msummary_writer\u001b[0m\u001b[0;34m.\u001b[0m\u001b[0madd_summary\u001b[0m\u001b[0;34m(\u001b[0m\u001b[0msummary\u001b[0m\u001b[0;34m,\u001b[0m \u001b[0mepoch\u001b[0m \u001b[0;34m*\u001b[0m \u001b[0mtotal_batch\u001b[0m \u001b[0;34m+\u001b[0m \u001b[0mi\u001b[0m\u001b[0;34m)\u001b[0m\u001b[0;34m\u001b[0m\u001b[0m\n",
      "\u001b[0;32m/home/pal/anaconda3/lib/python3.6/site-packages/tensorflow/python/client/session.py\u001b[0m in \u001b[0;36mrun\u001b[0;34m(self, fetches, feed_dict, options, run_metadata)\u001b[0m\n\u001b[1;32m    776\u001b[0m     \u001b[0;32mtry\u001b[0m\u001b[0;34m:\u001b[0m\u001b[0;34m\u001b[0m\u001b[0m\n\u001b[1;32m    777\u001b[0m       result = self._run(None, fetches, feed_dict, options_ptr,\n\u001b[0;32m--> 778\u001b[0;31m                          run_metadata_ptr)\n\u001b[0m\u001b[1;32m    779\u001b[0m       \u001b[0;32mif\u001b[0m \u001b[0mrun_metadata\u001b[0m\u001b[0;34m:\u001b[0m\u001b[0;34m\u001b[0m\u001b[0m\n\u001b[1;32m    780\u001b[0m         \u001b[0mproto_data\u001b[0m \u001b[0;34m=\u001b[0m \u001b[0mtf_session\u001b[0m\u001b[0;34m.\u001b[0m\u001b[0mTF_GetBuffer\u001b[0m\u001b[0;34m(\u001b[0m\u001b[0mrun_metadata_ptr\u001b[0m\u001b[0;34m)\u001b[0m\u001b[0;34m\u001b[0m\u001b[0m\n",
      "\u001b[0;32m/home/pal/anaconda3/lib/python3.6/site-packages/tensorflow/python/client/session.py\u001b[0m in \u001b[0;36m_run\u001b[0;34m(self, handle, fetches, feed_dict, options, run_metadata)\u001b[0m\n\u001b[1;32m    980\u001b[0m     \u001b[0;32mif\u001b[0m \u001b[0mfinal_fetches\u001b[0m \u001b[0;32mor\u001b[0m \u001b[0mfinal_targets\u001b[0m\u001b[0;34m:\u001b[0m\u001b[0;34m\u001b[0m\u001b[0m\n\u001b[1;32m    981\u001b[0m       results = self._do_run(handle, final_targets, final_fetches,\n\u001b[0;32m--> 982\u001b[0;31m                              feed_dict_string, options, run_metadata)\n\u001b[0m\u001b[1;32m    983\u001b[0m     \u001b[0;32melse\u001b[0m\u001b[0;34m:\u001b[0m\u001b[0;34m\u001b[0m\u001b[0m\n\u001b[1;32m    984\u001b[0m       \u001b[0mresults\u001b[0m \u001b[0;34m=\u001b[0m \u001b[0;34m[\u001b[0m\u001b[0;34m]\u001b[0m\u001b[0;34m\u001b[0m\u001b[0m\n",
      "\u001b[0;32m/home/pal/anaconda3/lib/python3.6/site-packages/tensorflow/python/client/session.py\u001b[0m in \u001b[0;36m_do_run\u001b[0;34m(self, handle, target_list, fetch_list, feed_dict, options, run_metadata)\u001b[0m\n\u001b[1;32m   1030\u001b[0m     \u001b[0;32mif\u001b[0m \u001b[0mhandle\u001b[0m \u001b[0;32mis\u001b[0m \u001b[0;32mNone\u001b[0m\u001b[0;34m:\u001b[0m\u001b[0;34m\u001b[0m\u001b[0m\n\u001b[1;32m   1031\u001b[0m       return self._do_call(_run_fn, self._session, feed_dict, fetch_list,\n\u001b[0;32m-> 1032\u001b[0;31m                            target_list, options, run_metadata)\n\u001b[0m\u001b[1;32m   1033\u001b[0m     \u001b[0;32melse\u001b[0m\u001b[0;34m:\u001b[0m\u001b[0;34m\u001b[0m\u001b[0m\n\u001b[1;32m   1034\u001b[0m       return self._do_call(_prun_fn, self._session, handle, feed_dict,\n",
      "\u001b[0;32m/home/pal/anaconda3/lib/python3.6/site-packages/tensorflow/python/client/session.py\u001b[0m in \u001b[0;36m_do_call\u001b[0;34m(self, fn, *args)\u001b[0m\n\u001b[1;32m   1050\u001b[0m         \u001b[0;32mexcept\u001b[0m \u001b[0mKeyError\u001b[0m\u001b[0;34m:\u001b[0m\u001b[0;34m\u001b[0m\u001b[0m\n\u001b[1;32m   1051\u001b[0m           \u001b[0;32mpass\u001b[0m\u001b[0;34m\u001b[0m\u001b[0m\n\u001b[0;32m-> 1052\u001b[0;31m       \u001b[0;32mraise\u001b[0m \u001b[0mtype\u001b[0m\u001b[0;34m(\u001b[0m\u001b[0me\u001b[0m\u001b[0;34m)\u001b[0m\u001b[0;34m(\u001b[0m\u001b[0mnode_def\u001b[0m\u001b[0;34m,\u001b[0m \u001b[0mop\u001b[0m\u001b[0;34m,\u001b[0m \u001b[0mmessage\u001b[0m\u001b[0;34m)\u001b[0m\u001b[0;34m\u001b[0m\u001b[0m\n\u001b[0m\u001b[1;32m   1053\u001b[0m \u001b[0;34m\u001b[0m\u001b[0m\n\u001b[1;32m   1054\u001b[0m   \u001b[0;32mdef\u001b[0m \u001b[0m_extend_graph\u001b[0m\u001b[0;34m(\u001b[0m\u001b[0mself\u001b[0m\u001b[0;34m)\u001b[0m\u001b[0;34m:\u001b[0m\u001b[0;34m\u001b[0m\u001b[0m\n",
      "\u001b[0;31mInvalidArgumentError\u001b[0m: You must feed a value for placeholder tensor 'Model/Placeholder' with dtype float\n\t [[Node: Model/Placeholder = Placeholder[dtype=DT_FLOAT, shape=[], _device=\"/job:localhost/replica:0/task:0/cpu:0\"]()]]\n\nCaused by op 'Model/Placeholder', defined at:\n  File \"/home/pal/anaconda3/lib/python3.6/runpy.py\", line 193, in _run_module_as_main\n    \"__main__\", mod_spec)\n  File \"/home/pal/anaconda3/lib/python3.6/runpy.py\", line 85, in _run_code\n    exec(code, run_globals)\n  File \"/home/pal/anaconda3/lib/python3.6/site-packages/ipykernel/__main__.py\", line 3, in <module>\n    app.launch_new_instance()\n  File \"/home/pal/anaconda3/lib/python3.6/site-packages/traitlets/config/application.py\", line 658, in launch_instance\n    app.start()\n  File \"/home/pal/anaconda3/lib/python3.6/site-packages/ipykernel/kernelapp.py\", line 474, in start\n    ioloop.IOLoop.instance().start()\n  File \"/home/pal/anaconda3/lib/python3.6/site-packages/zmq/eventloop/ioloop.py\", line 177, in start\n    super(ZMQIOLoop, self).start()\n  File \"/home/pal/anaconda3/lib/python3.6/site-packages/tornado/ioloop.py\", line 887, in start\n    handler_func(fd_obj, events)\n  File \"/home/pal/anaconda3/lib/python3.6/site-packages/tornado/stack_context.py\", line 275, in null_wrapper\n    return fn(*args, **kwargs)\n  File \"/home/pal/anaconda3/lib/python3.6/site-packages/zmq/eventloop/zmqstream.py\", line 440, in _handle_events\n    self._handle_recv()\n  File \"/home/pal/anaconda3/lib/python3.6/site-packages/zmq/eventloop/zmqstream.py\", line 472, in _handle_recv\n    self._run_callback(callback, msg)\n  File \"/home/pal/anaconda3/lib/python3.6/site-packages/zmq/eventloop/zmqstream.py\", line 414, in _run_callback\n    callback(*args, **kwargs)\n  File \"/home/pal/anaconda3/lib/python3.6/site-packages/tornado/stack_context.py\", line 275, in null_wrapper\n    return fn(*args, **kwargs)\n  File \"/home/pal/anaconda3/lib/python3.6/site-packages/ipykernel/kernelbase.py\", line 276, in dispatcher\n    return self.dispatch_shell(stream, msg)\n  File \"/home/pal/anaconda3/lib/python3.6/site-packages/ipykernel/kernelbase.py\", line 228, in dispatch_shell\n    handler(stream, idents, msg)\n  File \"/home/pal/anaconda3/lib/python3.6/site-packages/ipykernel/kernelbase.py\", line 390, in execute_request\n    user_expressions, allow_stdin)\n  File \"/home/pal/anaconda3/lib/python3.6/site-packages/ipykernel/ipkernel.py\", line 196, in do_execute\n    res = shell.run_cell(code, store_history=store_history, silent=silent)\n  File \"/home/pal/anaconda3/lib/python3.6/site-packages/ipykernel/zmqshell.py\", line 501, in run_cell\n    return super(ZMQInteractiveShell, self).run_cell(*args, **kwargs)\n  File \"/home/pal/anaconda3/lib/python3.6/site-packages/IPython/core/interactiveshell.py\", line 2717, in run_cell\n    interactivity=interactivity, compiler=compiler, result=result)\n  File \"/home/pal/anaconda3/lib/python3.6/site-packages/IPython/core/interactiveshell.py\", line 2821, in run_ast_nodes\n    if self.run_code(code, result):\n  File \"/home/pal/anaconda3/lib/python3.6/site-packages/IPython/core/interactiveshell.py\", line 2881, in run_code\n    exec(code_obj, self.user_global_ns, self.user_ns)\n  File \"<ipython-input-31-3bb0757b8bd8>\", line 9, in <module>\n    acc_history = train(learning_rate=lr, training_epochs=training_epochs, batch_size=bs,                     display_step=disp_step, optFunction=opt, verbose=False, transfer=\"ReLU\", keep_prob_=kp)\n  File \"<ipython-input-30-4efec285c67b>\", line 14, in train\n    pred = LeNet5_Model(x, transfer=transfer)\n  File \"<ipython-input-29-8d2b4bdf2330>\", line 25, in LeNet5_Model\n    keep_prob = tf.placeholder(tf.float32)\n  File \"/home/pal/anaconda3/lib/python3.6/site-packages/tensorflow/python/ops/array_ops.py\", line 1507, in placeholder\n    name=name)\n  File \"/home/pal/anaconda3/lib/python3.6/site-packages/tensorflow/python/ops/gen_array_ops.py\", line 1997, in _placeholder\n    name=name)\n  File \"/home/pal/anaconda3/lib/python3.6/site-packages/tensorflow/python/framework/op_def_library.py\", line 768, in apply_op\n    op_def=op_def)\n  File \"/home/pal/anaconda3/lib/python3.6/site-packages/tensorflow/python/framework/ops.py\", line 2336, in create_op\n    original_op=self._default_original_op, op_def=op_def)\n  File \"/home/pal/anaconda3/lib/python3.6/site-packages/tensorflow/python/framework/ops.py\", line 1228, in __init__\n    self._traceback = _extract_stack()\n\nInvalidArgumentError (see above for traceback): You must feed a value for placeholder tensor 'Model/Placeholder' with dtype float\n\t [[Node: Model/Placeholder = Placeholder[dtype=DT_FLOAT, shape=[], _device=\"/job:localhost/replica:0/task:0/cpu:0\"]()]]\n"
     ]
    }
   ],
   "source": [
    "lr = 0.001\n",
    "bs = 128\n",
    "opt = \"Adam\"\n",
    "training_epochs = 200\n",
    "disp_step = 50\n",
    "kp = 0.75\n",
    "\n",
    "t1 = time.time()\n",
    "acc_history = train(learning_rate=lr, training_epochs=training_epochs, batch_size=bs, \\\n",
    "                    display_step=disp_step, optFunction=opt, verbose=False, transfer=\"ReLU\", keep_prob_=kp)\n",
    "t2 = time.time() - t1\n",
    "print(\"\\t====> Time:\", t2, \"Test accuracy:\", acc_history[-1])\n",
    "print(\"Optimization Finished!\")"
   ]
  },
  {
   "cell_type": "code",
   "execution_count": null,
   "metadata": {
    "collapsed": true
   },
   "outputs": [],
   "source": []
  }
 ],
 "metadata": {
  "anaconda-cloud": {},
  "kernelspec": {
   "display_name": "Python 3",
   "language": "python",
   "name": "python3"
  },
  "language_info": {
   "codemirror_mode": {
    "name": "ipython",
    "version": 3
   },
   "file_extension": ".py",
   "mimetype": "text/x-python",
   "name": "python",
   "nbconvert_exporter": "python",
   "pygments_lexer": "ipython3",
   "version": "3.6.0"
  }
 },
 "nbformat": 4,
 "nbformat_minor": 1
}
