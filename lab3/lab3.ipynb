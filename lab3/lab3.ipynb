{
 "cells": [
  {
   "cell_type": "markdown",
   "metadata": {},
   "source": [
    "<h1 style=\"text-align:center\">Deep Learning   </h1>\n",
    "<h1 style=\"text-align:center\"> Lab Session 3 - 3 Hours </h1>\n",
    "<h1 style=\"text-align:center\">Long Short Term Memory (LSTM) for Language Modeling</h1>"
   ]
  },
  {
   "cell_type": "markdown",
   "metadata": {},
   "source": [
    "<div class=\"alert alert-info\">\n",
    "<b> Student 1:</b> Daniele Reda \n",
    "<br>\n",
    "<b> Student 2:</b> Matteo Romiti\n",
    "</div>\n",
    " \n",
    "In this Lab Session,  you will build and train a Recurrent Neural Network, based on Long Short-Term Memory (LSTM) units for next word prediction task. \n",
    "\n",
    "Answers and experiments should be made by groups of one or two students. Each group should fill and run appropriate notebook cells. \n",
    "Once you have completed all of the code implementations and successfully answered each question above, you may finalize your work by exporting the iPython Notebook as an pdf document using print as PDF (Ctrl+P). Do not forget to run all your cells before generating your final report and do not forget to include the names of all participants in the group. The lab session should be completed by June 9th 2017.\n",
    "\n",
    "Send you pdf file to benoit.huet@eurecom.fr and olfa.ben-ahmed@eurecom.fr using **[DeepLearning_lab3]** as Subject of your email."
   ]
  },
  {
   "cell_type": "markdown",
   "metadata": {},
   "source": [
    "#  Introduction"
   ]
  },
  {
   "cell_type": "markdown",
   "metadata": {},
   "source": [
    "You will train a LSTM to predict the next word using a sample short story. The LSTM will learn to predict the next item of a sentence from the 3 previous items (given as input). Punctuation marks are considered as dictionary items so they can be predicted too. Figure 1 shows the LSTM and the process of next word prediction. \n",
    "\n",
    "<img src=\"lstm.png\" height=\"370\" width=\"370\"> \n",
    "\n",
    "\n",
    "Each word (and punctuation) from text sentences is encoded by a unique integer. The integer value corresponds to the index of the corresponding word (or punctuation mark) in the dictionary. The network output is a one-hot-vector indicating the index of the predicted word in the reversed dictionary (Section 1.2). For example if the prediction is 86, the predicted word will be \"company\". \n",
    "\n",
    "\n",
    "\n",
    "You will use a sample short story from Aesop’s Fables (http://www.taleswithmorals.com/) to train your model. \n"
   ]
  },
  {
   "cell_type": "markdown",
   "metadata": {},
   "source": [
    "<font size=\"3\" face=\"verdana\" > <i> \"There was once a young Shepherd Boy who tended his sheep at the foot of a mountain near a dark forest.\n",
    "\n",
    "It was rather lonely for him all day, so he thought upon a plan by which he could get a little company and some excitement.\n",
    "He rushed down towards the village calling out \"Wolf, Wolf,\" and the villagers came out to meet him, and some of them stopped with him for a considerable time.\n",
    "This pleased the boy so much that a few days afterwards he tried the same trick, and again the villagers came to his help.\n",
    "But shortly after this a Wolf actually did come out from the forest, and began to worry the sheep, and the boy of course cried out \"Wolf, Wolf,\" still louder than before.\n",
    "But this time the villagers, who had been fooled twice before, thought the boy was again deceiving them, and nobody stirred to come to his help.\n",
    "So the Wolf made a good meal off the boy's flock, and when the boy complained, the wise man of the village said:\n",
    "\"A liar will not be believed, even when he speaks the truth.\"  \"</i> </font>.    \n",
    "\n",
    "\n",
    "\n",
    "\n",
    "\n"
   ]
  },
  {
   "cell_type": "markdown",
   "metadata": {},
   "source": [
    "Start by loading the necessary libraries and resetting the default computational graph. For more details about the rnn packages, we suggest you to take a look at https://www.tensorflow.org/api_guides/python/contrib.rnn"
   ]
  },
  {
   "cell_type": "code",
   "execution_count": 1,
   "metadata": {
    "collapsed": true
   },
   "outputs": [],
   "source": [
    "import numpy as np\n",
    "import collections # used to build the dictionary\n",
    "import random\n",
    "import time\n",
    "import pickle # may be used to save your model \n",
    "import matplotlib.pyplot as plt\n",
    "#Import Tensorflow and rnn\n",
    "import tensorflow as tf\n",
    "from tensorflow.contrib import rnn  \n",
    "\n",
    "# Target log path\n",
    "logs_path = 'lstm_words'\n",
    "writer = tf.summary.FileWriter(logs_path)"
   ]
  },
  {
   "cell_type": "markdown",
   "metadata": {},
   "source": [
    "# Next-word prediction task"
   ]
  },
  {
   "cell_type": "markdown",
   "metadata": {
    "collapsed": true
   },
   "source": [
    "## Part 1: Data  preparation"
   ]
  },
  {
   "cell_type": "markdown",
   "metadata": {
    "collapsed": true
   },
   "source": [
    "### 1.1. Loading data"
   ]
  },
  {
   "cell_type": "markdown",
   "metadata": {},
   "source": [
    "Load and split the text of our story"
   ]
  },
  {
   "cell_type": "code",
   "execution_count": 2,
   "metadata": {},
   "outputs": [
    {
     "name": "stdout",
     "output_type": "stream",
     "text": [
      "['there' 'was' 'once' 'a' 'young' 'shepherd' 'boy' 'who' 'tended' 'his'\n",
      " 'sheep' 'at' 'the' 'foot' 'of' 'a' 'mountain' 'near' 'a' 'dark' 'forest'\n",
      " '.' 'it' 'was' 'rather' 'lonely' 'for' 'him' 'all' 'day' ',' 'so' 'he'\n",
      " 'thought' 'upon' 'a' 'plan' 'by' 'which' 'he' 'could' 'get' 'a' 'little'\n",
      " 'company' 'and' 'some' 'excitement' '.' 'he' 'rushed' 'down' 'towards'\n",
      " 'the' 'village' 'calling' 'out' 'wolf' ',' 'wolf' ',' 'and' 'the'\n",
      " 'villagers' 'came' 'out' 'to' 'meet' 'him' ',' 'and' 'some' 'of' 'them'\n",
      " 'stopped' 'with' 'him' 'for' 'a' 'considerable' 'time' '.' 'this'\n",
      " 'pleased' 'the' 'boy' 'so' 'much' 'that' 'a' 'few' 'days' 'afterwards'\n",
      " 'he' 'tried' 'the' 'same' 'trick' ',' 'and' 'again' 'the' 'villagers'\n",
      " 'came' 'to' 'his' 'help' '.' 'but' 'shortly' 'after' 'this' 'a' 'wolf'\n",
      " 'actually' 'did' 'come' 'out' 'from' 'the' 'forest' ',' 'and' 'began' 'to'\n",
      " 'worry' 'the' 'sheep,' 'and' 'the' 'boy' 'of' 'course' 'cried' 'out'\n",
      " 'wolf' ',' 'wolf' ',' 'still' 'louder' 'than' 'before' '.' 'but' 'this'\n",
      " 'time' 'the' 'villagers' ',' 'who' 'had' 'been' 'fooled' 'twice' 'before'\n",
      " ',' 'thought' 'the' 'boy' 'was' 'again' 'deceiving' 'them' ',' 'and'\n",
      " 'nobody' 'stirred' 'to' 'come' 'to' 'his' 'help' '.' 'so' 'the' 'wolf'\n",
      " 'made' 'a' 'good' 'meal' 'off' 'the' \"boy's\" 'flock' ',' 'and' 'when'\n",
      " 'the' 'boy' 'complained' ',' 'the' 'wise' 'man' 'of' 'the' 'village'\n",
      " 'said' ':' 'a' 'liar' 'will' 'not' 'be' 'believed' ',' 'even' 'when' 'he'\n",
      " 'speaks' 'the' 'truth' '.']\n",
      "Loaded training data...\n",
      "214\n"
     ]
    }
   ],
   "source": [
    "def load_data(filename):\n",
    "    with open(filename) as f:\n",
    "        data = f.readlines()\n",
    "    data = [x.strip().lower() for x in data]\n",
    "    data = [data[i].split() for i in range(len(data))]\n",
    "    data = np.array(data)\n",
    "    data = np.reshape(data, [-1, ])\n",
    "    print(data)\n",
    "    return data\n",
    "\n",
    "train_file ='data/story.txt'\n",
    "train_data = load_data(train_file)\n",
    "print(\"Loaded training data...\")\n",
    "print(len(train_data))"
   ]
  },
  {
   "cell_type": "markdown",
   "metadata": {},
   "source": [
    "### 1.2.Symbols encoding"
   ]
  },
  {
   "cell_type": "markdown",
   "metadata": {},
   "source": [
    "The LSTM input's can only be numbers. A way to convert words (symbols or any items) to numbers is to assign a unique integer to each word. This process is often based on frequency of occurrence for efficient coding purpose.\n",
    "\n",
    "Here, we define a function to build an indexed word dictionary (word->number). The \"build_vocabulary\" function builds both:\n",
    "\n",
    "- Dictionary : used for encoding words to numbers for the LSTM inputs \n",
    "- Reverted dictionary : used for decoding the outputs of the LSTM into words (and punctuation).\n",
    "\n",
    "For example, in the story above, we have **113** individual words. The \"build_vocabulary\" function builds a dictionary with the following entries ['the': 0], [',': 1], ['company': 85],...\n"
   ]
  },
  {
   "cell_type": "code",
   "execution_count": 3,
   "metadata": {
    "collapsed": true
   },
   "outputs": [],
   "source": [
    "def build_vocabulary(words):\n",
    "    count = collections.Counter(words).most_common()\n",
    "    dic= dict()\n",
    "    for word, _ in count:\n",
    "        dic[word] = len(dic)\n",
    "    reverse_dic= dict(zip(dic.values(), dic.keys()))\n",
    "    return dic, reverse_dic\n"
   ]
  },
  {
   "cell_type": "markdown",
   "metadata": {},
   "source": [
    "<div class=\"alert alert-warning\">\n",
    "Run the cell below to display the vocabulary\n",
    "</div>"
   ]
  },
  {
   "cell_type": "code",
   "execution_count": 4,
   "metadata": {
    "scrolled": false
   },
   "outputs": [
    {
     "name": "stdout",
     "output_type": "stream",
     "text": [
      "Dictionary size (Vocabulary size) =  113\n",
      "\n",
      "\n",
      "Dictionary : \n",
      "\n",
      "{'the': 0, ',': 1, 'a': 2, 'and': 3, '.': 4, 'wolf': 5, 'boy': 6, 'he': 7, 'to': 8, 'of': 9, 'out': 10, 'was': 11, 'his': 12, 'him': 13, 'so': 14, 'villagers': 15, 'this': 16, 'who': 17, 'forest': 18, 'for': 19, 'thought': 20, 'some': 21, 'village': 22, 'came': 23, 'them': 24, 'time': 25, 'again': 26, 'help': 27, 'but': 28, 'come': 29, 'before': 30, 'when': 31, 'there': 32, 'once': 33, 'young': 34, 'shepherd': 35, 'tended': 36, 'sheep': 37, 'at': 38, 'foot': 39, 'mountain': 40, 'near': 41, 'dark': 42, 'it': 43, 'rather': 44, 'lonely': 45, 'all': 46, 'day': 47, 'upon': 48, 'plan': 49, 'by': 50, 'which': 51, 'could': 52, 'get': 53, 'little': 54, 'company': 55, 'excitement': 56, 'rushed': 57, 'down': 58, 'towards': 59, 'calling': 60, 'meet': 61, 'stopped': 62, 'with': 63, 'considerable': 64, 'pleased': 65, 'much': 66, 'that': 67, 'few': 68, 'days': 69, 'afterwards': 70, 'tried': 71, 'same': 72, 'trick': 73, 'shortly': 74, 'after': 75, 'actually': 76, 'did': 77, 'from': 78, 'began': 79, 'worry': 80, 'sheep,': 81, 'course': 82, 'cried': 83, 'still': 84, 'louder': 85, 'than': 86, 'had': 87, 'been': 88, 'fooled': 89, 'twice': 90, 'deceiving': 91, 'nobody': 92, 'stirred': 93, 'made': 94, 'good': 95, 'meal': 96, 'off': 97, \"boy's\": 98, 'flock': 99, 'complained': 100, 'wise': 101, 'man': 102, 'said': 103, ':': 104, 'liar': 105, 'will': 106, 'not': 107, 'be': 108, 'believed': 109, 'even': 110, 'speaks': 111, 'truth': 112}\n",
      "\n",
      "\n",
      "Reverted Dictionary : \n",
      "\n",
      "{0: 'the', 1: ',', 2: 'a', 3: 'and', 4: '.', 5: 'wolf', 6: 'boy', 7: 'he', 8: 'to', 9: 'of', 10: 'out', 11: 'was', 12: 'his', 13: 'him', 14: 'so', 15: 'villagers', 16: 'this', 17: 'who', 18: 'forest', 19: 'for', 20: 'thought', 21: 'some', 22: 'village', 23: 'came', 24: 'them', 25: 'time', 26: 'again', 27: 'help', 28: 'but', 29: 'come', 30: 'before', 31: 'when', 32: 'there', 33: 'once', 34: 'young', 35: 'shepherd', 36: 'tended', 37: 'sheep', 38: 'at', 39: 'foot', 40: 'mountain', 41: 'near', 42: 'dark', 43: 'it', 44: 'rather', 45: 'lonely', 46: 'all', 47: 'day', 48: 'upon', 49: 'plan', 50: 'by', 51: 'which', 52: 'could', 53: 'get', 54: 'little', 55: 'company', 56: 'excitement', 57: 'rushed', 58: 'down', 59: 'towards', 60: 'calling', 61: 'meet', 62: 'stopped', 63: 'with', 64: 'considerable', 65: 'pleased', 66: 'much', 67: 'that', 68: 'few', 69: 'days', 70: 'afterwards', 71: 'tried', 72: 'same', 73: 'trick', 74: 'shortly', 75: 'after', 76: 'actually', 77: 'did', 78: 'from', 79: 'began', 80: 'worry', 81: 'sheep,', 82: 'course', 83: 'cried', 84: 'still', 85: 'louder', 86: 'than', 87: 'had', 88: 'been', 89: 'fooled', 90: 'twice', 91: 'deceiving', 92: 'nobody', 93: 'stirred', 94: 'made', 95: 'good', 96: 'meal', 97: 'off', 98: \"boy's\", 99: 'flock', 100: 'complained', 101: 'wise', 102: 'man', 103: 'said', 104: ':', 105: 'liar', 106: 'will', 107: 'not', 108: 'be', 109: 'believed', 110: 'even', 111: 'speaks', 112: 'truth'}\n"
     ]
    }
   ],
   "source": [
    "dictionary, reverse_dictionary = build_vocabulary(train_data)\n",
    "vocabulary_size= len(dictionary) \n",
    "print(\"Dictionary size (Vocabulary size) = \", vocabulary_size)\n",
    "print(\"\\n\")\n",
    "print(\"Dictionary : \\n\")\n",
    "print(dictionary)\n",
    "print(\"\\n\")\n",
    "print(\"Reverted Dictionary : \\n\" )\n",
    "print(reverse_dictionary)"
   ]
  },
  {
   "cell_type": "markdown",
   "metadata": {},
   "source": [
    "## Part 2 : LSTM Model in TensorFlow"
   ]
  },
  {
   "cell_type": "markdown",
   "metadata": {},
   "source": [
    "<div class=\"alert alert-warning\">\n",
    "Since you have defined how the data will be modeled, you are now to develop an LSTM model to predict the word of following a sequence of 3 words.\n",
    "</div>"
   ]
  },
  {
   "cell_type": "markdown",
   "metadata": {},
   "source": [
    "### 2.1. Model definition"
   ]
  },
  {
   "cell_type": "markdown",
   "metadata": {},
   "source": [
    "Define a 2-layers LSTM model.  \n",
    "\n",
    "For this use the following classes from the tensorflow.contrib library:\n",
    "<ul>\n",
    "<li>rnn.BasicLSTMCell(number of hidden units) \n",
    "<li>rnn.static_rnn(rnn_cell, data, dtype=tf.float32)\n",
    "<li>rnn.MultiRNNCell(,)\n",
    "</ul>\n",
    "<br>\n",
    "You may need some tensorflow functions (https://www.tensorflow.org/api_docs/python/tf/) :\n",
    "<ul>\n",
    "<li>tf.split\n",
    "<li>tf.reshape \n",
    "<li>...\n",
    "</ul>"
   ]
  },
  {
   "cell_type": "code",
   "execution_count": 5,
   "metadata": {
    "collapsed": true
   },
   "outputs": [],
   "source": [
    "def lstm_model(x, w, b):\n",
    "    x = tf.reshape(x, [-1, n_input])\n",
    "    x = tf.split(x,n_input,1)\n",
    "    rnn_cell = rnn.MultiRNNCell([rnn.BasicLSTMCell(n_hidden),rnn.BasicLSTMCell(n_hidden)])\n",
    "    outputs, states = rnn.static_rnn(rnn_cell, x, dtype=tf.float32)\n",
    "    return tf.matmul(outputs[-1], w['out']) + b['out']"
   ]
  },
  {
   "cell_type": "markdown",
   "metadata": {},
   "source": [
    "<div class=\"alert alert-warning\">\n",
    "Training Parameters and constants\n",
    "</div>"
   ]
  },
  {
   "cell_type": "code",
   "execution_count": 9,
   "metadata": {
    "collapsed": true
   },
   "outputs": [],
   "source": [
    "# Training Parameters\n",
    "learning_rate = 0.001\n",
    "\n",
    "epochs = 100000\n",
    "display_step = 10000\n",
    "n_input = 3\n",
    "n_hidden = 64\n"
   ]
  },
  {
   "cell_type": "code",
   "execution_count": 7,
   "metadata": {},
   "outputs": [],
   "source": [
    "# tf Graph input\n",
    "x = tf.placeholder(\"float\", [None, n_input, 1])\n",
    "y = tf.placeholder(\"float\", [None, vocabulary_size])\n",
    "\n",
    "# LSTM  weights and biases\n",
    "weights = { 'out': tf.Variable(tf.random_normal([n_hidden, vocabulary_size]))}\n",
    "biases = {'out': tf.Variable(tf.random_normal([vocabulary_size])) }\n",
    "\n",
    "\n",
    "#build the model\n",
    "pred = lstm_model(x, weights, biases)"
   ]
  },
  {
   "cell_type": "markdown",
   "metadata": {},
   "source": [
    "<div class=\"alert alert-warning\">\n",
    "Define the Loss/Cost and optimizer\n",
    "</div>"
   ]
  },
  {
   "cell_type": "code",
   "execution_count": 8,
   "metadata": {
    "collapsed": true
   },
   "outputs": [],
   "source": [
    "# Cross Entropy loss\n",
    "cost = tf.reduce_mean(tf.nn.softmax_cross_entropy_with_logits(logits=pred, labels=y))\n",
    "# RMSProp Optimizer\n",
    "optimizer = tf.train.RMSPropOptimizer(learning_rate=learning_rate).minimize(cost)\n",
    "\n",
    "# Model evaluation\n",
    "correct_pred = tf.equal(tf.argmax(pred,1), tf.argmax(y,1))\n",
    "accuracy = tf.reduce_mean(tf.cast(correct_pred, tf.float32))"
   ]
  },
  {
   "cell_type": "markdown",
   "metadata": {
    "collapsed": true
   },
   "source": [
    "<div class=\"alert alert-warning\">\n",
    "We give you here the Test Function\n",
    "</div>"
   ]
  },
  {
   "cell_type": "code",
   "execution_count": 10,
   "metadata": {
    "collapsed": true
   },
   "outputs": [],
   "source": [
    "def test(sentence, session, verbose=False):\n",
    "    sentence = sentence.strip()\n",
    "    words = sentence.split(' ')\n",
    "    if len(words) != n_input:\n",
    "        print(\"sentence length should be equal to\", n_input, \"!\")\n",
    "    try:\n",
    "        symbols_inputs = [dictionary[str(words[i - n_input])] for i in range(n_input)]\n",
    "        keys = np.reshape(np.array(symbols_inputs), [-1, n_input, 1])\n",
    "        prediction_hot = session.run(pred, feed_dict={x: keys})\n",
    "        prediction_hot_index = int(tf.argmax(prediction_hot, 1).eval())\n",
    "        words.append(reverse_dictionary[prediction_hot_index])\n",
    "        sentence = \" \".join(words)\n",
    "        if verbose:\n",
    "            print(sentence)\n",
    "        return reverse_dictionary[prediction_hot_index]\n",
    "    except:\n",
    "        print(\" \".join([\"Word\", words[i - n_input], \"not in dictionary\"]))"
   ]
  },
  {
   "cell_type": "markdown",
   "metadata": {},
   "source": [
    "## Part 3 : LSTM Training  "
   ]
  },
  {
   "cell_type": "markdown",
   "metadata": {},
   "source": [
    "<div class=\"alert alert-warning\">\n",
    "In the Training process, at each epoch, 3 words are taken from the training data, encoded to integer to form the input vector. The training labels are one-hot vector encoding the word that comes after the 3 inputs words. Display the loss and the training accuracy every 1000 iteration. Save the model at the end of training in the **lstm_model** folder\n",
    "</div>"
   ]
  },
  {
   "cell_type": "code",
   "execution_count": 10,
   "metadata": {},
   "outputs": [
    {
     "name": "stdout",
     "output_type": "stream",
     "text": [
      "Start Training\n",
      "Iter= 10000, Average Loss= 2.593704, Average Accuracy= 37.13%\n",
      "['plan', 'by', 'which'] - [he] vs [he]\n",
      "Iter= 20000, Average Loss= 0.896524, Average Accuracy= 75.07%\n",
      "['excitement', '.', 'he'] - [rushed] vs [rushed]\n",
      "Iter= 30000, Average Loss= 0.514068, Average Accuracy= 83.84%\n",
      "['that', 'a', 'few'] - [days] vs [by]\n",
      "Iter= 40000, Average Loss= 0.409926, Average Accuracy= 87.09%\n",
      "['to', 'his', 'help'] - [.] vs [.]\n",
      "Iter= 50000, Average Loss= 0.348626, Average Accuracy= 88.88%\n",
      "['of', 'the', 'village'] - [said] vs [said]\n",
      "Iter= 60000, Average Loss= 0.289760, Average Accuracy= 90.79%\n",
      "['village', 'said', ':'] - [a] vs [a]\n",
      "Iter= 70000, Average Loss= 0.266070, Average Accuracy= 92.15%\n",
      "['him', 'all', 'day'] - [,] vs [,]\n",
      "Iter= 80000, Average Loss= 0.242592, Average Accuracy= 92.56%\n",
      "[',', 'and', 'the'] - [villagers] vs [villagers]\n",
      "Iter= 90000, Average Loss= 0.234790, Average Accuracy= 93.04%\n",
      "['and', 'began', 'to'] - [worry] vs [worry]\n",
      "Iter= 100000, Average Loss= 0.230907, Average Accuracy= 92.88%\n",
      "['wolf', ',', 'still'] - [louder] vs [louder]\n",
      "Training Finished!\n",
      "Time:  107.185555934906\n",
      "For tensorboard visualisation run on command line.\n",
      "\ttensorboard --logdir=lstm_words\n",
      "and point your web browser to the returned link\n",
      "Model saved\n"
     ]
    }
   ],
   "source": [
    "# Initializing the variables\n",
    "start_time = time.time()\n",
    "init = tf.global_variables_initializer()\n",
    "model_saver = tf.train.Saver()\n",
    "\n",
    "print(\"Start Training\")\n",
    "##############################################\n",
    "\n",
    "with tf.Session() as session:\n",
    "    session.run(init)\n",
    "    step = 0\n",
    "    offset = random.randint(0,n_input+1)\n",
    "    # offset = 0\n",
    "    end_offset = n_input + 1\n",
    "    acc_total = 0\n",
    "    loss_total = 0\n",
    "\n",
    "    writer.add_graph(session.graph)\n",
    "\n",
    "    while step < epochs:\n",
    "        if offset > (len(train_data)-end_offset):\n",
    "            offset = random.randint(0, n_input+1)\n",
    "    #         offset = 0\n",
    "        input_symbols = np.array([[dictionary[str(train_data[i])]] for i in range(offset, offset+n_input)])\n",
    "        input_symbols = input_symbols.reshape((-1, n_input, 1))\n",
    "\n",
    "        output_symbols_hot = np.zeros([vocabulary_size], dtype=float)\n",
    "        output_symbols_hot[dictionary[str(train_data[offset+n_input])]] = 1.0\n",
    "        output_symbols_hot = output_symbols_hot.reshape((1,-1))\n",
    "\n",
    "        _, acc, loss, prediction_hot = session.run([optimizer, accuracy, cost, pred], \\\n",
    "                                                feed_dict={x: input_symbols, y: output_symbols_hot})\n",
    "        loss_total += loss\n",
    "        acc_total += acc\n",
    "        if (step+1) % display_step == 0:\n",
    "            print(\"Iter= \" + str(step+1) + \", Average Loss= \" + \\\n",
    "                  \"{:.6f}\".format(loss_total/display_step) + \", Average Accuracy= \" + \\\n",
    "                  \"{:.2f}%\".format(100*acc_total/display_step))\n",
    "            acc_total = 0\n",
    "            loss_total = 0\n",
    "            symbols_in = [train_data[i] for i in range(offset, offset + n_input)]\n",
    "            symbols_out = train_data[offset + n_input]\n",
    "            symbols_out_pred = reverse_dictionary[int(tf.argmax(prediction_hot, 1).eval())]\n",
    "            print(\"%s - [%s] vs [%s]\" % (symbols_in,symbols_out,symbols_out_pred))\n",
    "        step += 1\n",
    "        offset += (n_input+1)\n",
    "    ##############################################\n",
    "\n",
    "    print(\"Training Finished!\")\n",
    "    print(\"Time: \",time.time() - start_time)\n",
    "    print(\"For tensorboard visualisation run on command line.\")\n",
    "    print(\"\\ttensorboard --logdir=%s\" % (logs_path))\n",
    "    print(\"and point your web browser to the returned link\")\n",
    "    ##############################################\n",
    "    saved_path = \"lstm_model/model_\" + str(epochs) + \"_\" + str(n_input)\n",
    "    model_saver.save(session, saved_path)\n",
    "    ##############################################\n",
    "    print(\"Model saved\")"
   ]
  },
  {
   "cell_type": "markdown",
   "metadata": {
    "collapsed": true
   },
   "source": [
    "## Part 4 : Test your model "
   ]
  },
  {
   "cell_type": "markdown",
   "metadata": {
    "collapsed": true
   },
   "source": [
    "### 3.1. Next word prediction"
   ]
  },
  {
   "cell_type": "markdown",
   "metadata": {},
   "source": [
    "<div class=\"alert alert-warning\">\n",
    "Load your model (using the model_saved variable given in the training session) and test the sentences :\n",
    "- 'get a little' \n",
    "- 'nobody tried to'\n",
    "- Try with other sentences using words from the story's vocabulary.\n",
    "</div>"
   ]
  },
  {
   "cell_type": "code",
   "execution_count": 13,
   "metadata": {},
   "outputs": [
    {
     "name": "stdout",
     "output_type": "stream",
     "text": [
      "INFO:tensorflow:Restoring parameters from lstm_model/model_100000_3\n",
      "--------------------\n",
      "Enter 3 words: get a little\n",
      "get a little company\n",
      "--------------------\n",
      "Enter 3 words: nobody tried to\n",
      "nobody tried to tried\n",
      "--------------------\n",
      "Enter 3 words: the wolf was\n",
      "the wolf was again\n",
      "--------------------\n",
      "Enter 3 words: \n"
     ]
    }
   ],
   "source": [
    "saved_path = \"lstm_model/model_\" + str(epochs) + \"_\" + str(n_input)\n",
    "with tf.Session() as session:\n",
    "    session.run(tf.global_variables_initializer())\n",
    "    saver = tf.train.Saver()\n",
    "    saver.restore(session, saved_path)\n",
    "    words = [0,0]\n",
    "    sentence_length = 1\n",
    "    while len(words)>1:\n",
    "        print(\"-\"*20)\n",
    "        prompt = \"Enter %s words: \" % n_input\n",
    "        sentence = input(prompt)\n",
    "        sentence = sentence.strip()\n",
    "        words = sentence.split(' ')\n",
    "        if len(words) != n_input:\n",
    "            continue\n",
    "        try:\n",
    "            input_symbols = [dictionary[str(words[i])] for i in range(len(words))]\n",
    "            for i in range(sentence_length):\n",
    "                keys = np.reshape(np.array(input_symbols), [-1, n_input, 1])\n",
    "                prediction_hot = session.run(pred, feed_dict={x: keys})\n",
    "                prediction_hot_index = int(tf.argmax(prediction_hot, 1).eval())\n",
    "                sentence = \"%s %s\" % (sentence,reverse_dictionary[prediction_hot_index])\n",
    "                input_symbols = input_symbols[1:]\n",
    "                input_symbols.append(prediction_hot_index)\n",
    "            print(sentence)\n",
    "        except:\n",
    "            print(\"Word not in dictionary\")"
   ]
  },
  {
   "cell_type": "markdown",
   "metadata": {},
   "source": [
    "<div class=\"alert alert-success\">\n",
    "By doing experiments in our tests, we discovered that adding randomness in the `offset` turned out to be fundamental to create good sentences. Also, the number of epochs was increased to get higher accuracy.\n",
    "</div>"
   ]
  },
  {
   "cell_type": "markdown",
   "metadata": {},
   "source": [
    "### 3.2. More fun with the Fable Writer !"
   ]
  },
  {
   "cell_type": "markdown",
   "metadata": {},
   "source": [
    "<div class=\"alert alert-warning\">\n",
    "You will use the RNN/LSTM model learned in the previous question to create a new story/fable. For this you will choose 3 words from the dictionary which will start your story and initialize your network. Using those 3 words the RNN will generate the next word of the story. Using the last 3 words (the newly predicted one and the last 2 from the input) you will use the network to predict 5 words of the story and so on until your story is 5 sentence long. \n",
    "Make a point at the end of your story. To implement that, you will use the test function.\n",
    "</div>"
   ]
  },
  {
   "cell_type": "code",
   "execution_count": 11,
   "metadata": {
    "collapsed": true
   },
   "outputs": [],
   "source": [
    "def write_story(n_input, lastN_str):\n",
    "    saved_path = \"lstm_model/model_\" + str(epochs) + \"_\" + str(n_input)\n",
    "    with tf.Session() as session:\n",
    "        saver = tf.train.Saver()\n",
    "        saver.restore(session, saved_path)\n",
    "        \n",
    "        story = \"\\n\"\n",
    "        lastN_lst = lastN_str.strip().split(' ')\n",
    "        nxt1 = str(test(lastN_str, session))\n",
    "        story += lastN_str + \" \" + nxt1\n",
    "        lastN_lst.pop(0); lastN_lst.append(nxt1)\n",
    "        lastN_str = ' '.join(lastN_lst)\n",
    "        sentences_in_story = 5\n",
    "        s = 0\n",
    "        while s < sentences_in_story:\n",
    "            nxt1 = str(test(lastN_str, session))\n",
    "            if nxt1 is \".\":\n",
    "                s += 1\n",
    "                story += nxt1 + \"\\n\\n\"\n",
    "            else:\n",
    "                story += \" \" + nxt1\n",
    "            lastN_lst.pop(0); lastN_lst.append(nxt1)\n",
    "            lastN_str = ' '.join(lastN_lst)\n",
    "        print(story)"
   ]
  },
  {
   "cell_type": "code",
   "execution_count": 12,
   "metadata": {},
   "outputs": [
    {
     "name": "stdout",
     "output_type": "stream",
     "text": [
      "INFO:tensorflow:Restoring parameters from lstm_model/model_100000_3\n",
      "\n",
      "the man was of a wolf , still louder than before.\n",
      "\n",
      " but this time the villagers came out to meet him , and some of them stopped with him for a considerable time.\n",
      "\n",
      " this pleased the boy so much that a few days afterwards he tried the same trick , and again the villagers came out to meet him , and some of them stopped with him for a considerable time.\n",
      "\n",
      " this pleased the boy so much that a few days afterwards he tried the same trick , and again the villagers came out to meet him , and some of them stopped with him for a considerable time.\n",
      "\n",
      " this pleased the boy so much that a few days afterwards he tried the same trick , and again the villagers came out to meet him , and some of them stopped with him for a considerable time.\n",
      "\n",
      "\n"
     ]
    }
   ],
   "source": [
    "write_story(n_input=3, lastN_str=\"the man was\")"
   ]
  },
  {
   "cell_type": "markdown",
   "metadata": {},
   "source": [
    "<div class=\"alert alert-success\">\n",
    "The model is able to write a meaningful sentence, but not a complete story.\n",
    "</div>"
   ]
  },
  {
   "cell_type": "markdown",
   "metadata": {},
   "source": [
    "### 3.3. Play with number of inputs"
   ]
  },
  {
   "cell_type": "markdown",
   "metadata": {
    "collapsed": true
   },
   "source": [
    "<div class=\"alert alert-warning\">\n",
    "The number of input in our example is 3, see what happens when you use other number (1 and 5).\n",
    "</div>"
   ]
  },
  {
   "cell_type": "code",
   "execution_count": 15,
   "metadata": {},
   "outputs": [
    {
     "name": "stdout",
     "output_type": "stream",
     "text": [
      "INFO:tensorflow:Restoring parameters from lstm_model/model_100000_5\n",
      "\n",
      "and the man was near the sheep, and a boy of course than out wolf , wolf , and the villagers came out to meet him , and some of them stopped with him for a considerable time.\n",
      "\n",
      " this pleased the boy so much that a few days afterwards he tried the same trick , and again the villagers came to his help.\n",
      "\n",
      " but shortly after this a wolf actually did come out from the forest , and began to worry the sheep, and the boy of course cried out wolf , wolf , and the villagers came out to meet him , and some of them stopped with him for a considerable time.\n",
      "\n",
      " this pleased the boy so much that a few days afterwards he tried the same trick , and again the villagers came to his help.\n",
      "\n",
      " but shortly after this a wolf actually did come out from the forest , and began to worry the sheep, and the boy of course cried out wolf , wolf , and the villagers came out to meet him , and some of them stopped with him for a considerable time.\n",
      "\n",
      "\n"
     ]
    }
   ],
   "source": [
    "write_story(n_input=5, lastN_str=\"and the man was near\")"
   ]
  },
  {
   "cell_type": "code",
   "execution_count": 12,
   "metadata": {},
   "outputs": [
    {
     "name": "stdout",
     "output_type": "stream",
     "text": [
      "INFO:tensorflow:Restoring parameters from lstm_model/model_100000_1\n",
      "\n",
      "when  he his came.\n",
      "\n",
      " when he his came.\n",
      "\n",
      " when he his came.\n",
      "\n",
      " when he his came.\n",
      "\n",
      " when he his came.\n",
      "\n",
      "\n"
     ]
    }
   ],
   "source": [
    "write_story(n_input=1, lastN_str=\"when \")"
   ]
  },
  {
   "cell_type": "markdown",
   "metadata": {},
   "source": [
    "<div class=\"alert alert-success\">\n",
    "When using n_input = 1, we get really bad results. Fixing the training epochs, we obtained 15% accuracy.\n",
    "When using n_input = 5, both the accuracy and the predicted story are much better good. Some parts of the story, though, repeat themselves and we should use a larger dataset and increase the training epochs.\n",
    "</div>"
   ]
  }
 ],
 "metadata": {
  "anaconda-cloud": {},
  "kernelspec": {
   "display_name": "Python 3",
   "language": "python",
   "name": "python3"
  },
  "language_info": {
   "codemirror_mode": {
    "name": "ipython",
    "version": 3
   },
   "file_extension": ".py",
   "mimetype": "text/x-python",
   "name": "python",
   "nbconvert_exporter": "python",
   "pygments_lexer": "ipython3",
   "version": "3.6.0"
  }
 },
 "nbformat": 4,
 "nbformat_minor": 1
}
