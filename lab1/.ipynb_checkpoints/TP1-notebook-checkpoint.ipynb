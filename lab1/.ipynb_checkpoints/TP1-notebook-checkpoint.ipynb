{
 "cells": [
  {
   "cell_type": "markdown",
   "metadata": {
    "collapsed": true,
    "deletable": true,
    "editable": true
   },
   "source": [
    "<h1 style=\"text-align:center\">Deep Learning  Lab Session </h1>\n",
    "<h1 style=\"text-align:center\">First Lab Session - 3 Hours </h1>\n",
    "<h1 style=\"text-align:center\">Artificial Neural Networks for Handwritten Digits Recognition</h1>"
   ]
  },
  {
   "cell_type": "markdown",
   "metadata": {
    "deletable": true,
    "editable": true
   },
   "source": [
    "<b> Student 1:</b> # Daniele Reda\n",
    "<b> Student 2:</b> # Matteo Romiti\n",
    " \n",
    " \n",
    "The aim of this session is to practice with Artificial Neural Networks. Answers and experiments should be made by groups of one or two students. Each group should fill and run appropriate notebook cells. \n",
    "\n",
    "To generate your final report, use print as PDF (Ctrl+P). Do not forget to run all your cells before generating your final report and do not forget to include the names of all participants in the group. The lab session should be completed by April 7th 2017. "
   ]
  },
  {
   "cell_type": "markdown",
   "metadata": {
    "deletable": true,
    "editable": true
   },
   "source": [
    "# Introduction"
   ]
  },
  {
   "cell_type": "markdown",
   "metadata": {
    "deletable": true,
    "editable": true
   },
   "source": [
    "\n",
    "In this session, your will implement, train and test a Neural Network\n",
    "for the Handwritten Digits Recognition problem <a href=\"http://yann.lecun.com/exdb/mnist/\"> [1] </a> with  different settings of hyper parameters. You will use the MNIST dataset which was constructed from a number of scanned document dataset available from the National Institute of Standards and Technology (NIST). Images of digits were taken from a variety of scanned documents, normalized in size and centered. \n",
    "\n",
    "\n",
    "<img src=\"Nimages/mnist.png\",width=\"350\" height=\"500\" align=\"center\">\n",
    "<center><span>Figure 1: MNIST digits examples</span></center>\n",
    "\n",
    "\n",
    "This assignment includes a written part of programs to help you understand how to build and train\n",
    "your neural net and then to test your code and get restults. \n",
    "\n",
    "1. <a href=\"NeuralNetwork.py\"> NeuralNetwork.py </a> \n",
    "2. <a href=\"transfer_functions.py\"> transfer_functions.py </a> \n",
    "3.  <a href=\"utils.py \"> utils.py </a> \n",
    "\n",
    "\n",
    "Functions defined inside the python files mentionned above can be imported  using the python command : \n",
    "from filename import *\n",
    "\n",
    "You will use the following libraries:\n",
    "\n",
    "1. <a href=\"http://cs231n.github.io/python-numpy-tutorial/\"> numpy </a>: for creating arrays and using methods to manipulate arrays.\n",
    "\n",
    "2. <a href=\"http://matplotlib.org/\"> matplotlib  </a>: for making plots\n",
    " \n",
    "\n",
    "\n",
    "\n",
    "\n",
    "\n",
    "\n"
   ]
  },
  {
   "cell_type": "markdown",
   "metadata": {
    "deletable": true,
    "editable": true
   },
   "source": [
    "# Section 1 :  My First Neural Network\n",
    "\n",
    "<b>Part 1</b>: Before designing and writing your code, you will first work on a neural network by hand. \n",
    "Consider the above Neural network with two inputs $X=(x1,x2)$, one hidden layers and a single output unit $(y)$.\n",
    "The initial weights are set to random values. Neurons 6 and 7 represent the bias. Bias values are equal to 1.  \n",
    "Training sample, X = (0.8, 0.2), whose class label is Y=0.4.\n",
    "\n",
    "Assume that the neurons have a Sigmoid activation function  $f(x)=\\frac{1}{(1+e^{-x})}$ and the learning rate $\\mu$=1\n",
    "\n",
    "\n",
    "<img src=\"Nimages/NN.png\", width=\"700\" height=\"900\"> \n",
    "<center><span>Figure 2: Neural network </span></center>\n",
    "\n",
    "\n",
    "<b>Question 1.1.1</b>: Compute the new values of weights $w_{i,j}$ after a forward pass and a backward pass.\n",
    "$w_{i,j}$ is the weight of the connexion between neuron $i$ and neuron $j$."
   ]
  },
  {
   "cell_type": "code",
   "execution_count": 21,
   "metadata": {
    "collapsed": false,
    "deletable": true,
    "editable": true
   },
   "outputs": [
    {
     "name": "stdout",
     "output_type": "stream",
     "text": [
      "The autoreload extension is already loaded. To reload it, use:\n",
      "  %reload_ext autoreload\n"
     ]
    }
   ],
   "source": [
    "%load_ext autoreload\n",
    "%autoreload 2"
   ]
  },
  {
   "cell_type": "code",
   "execution_count": 22,
   "metadata": {
    "collapsed": false,
    "deletable": true,
    "editable": true
   },
   "outputs": [
    {
     "name": "stdout",
     "output_type": "stream",
     "text": [
      "0.8\n",
      "0.2\n"
     ]
    }
   ],
   "source": [
    "# input layer is layer 1, hidden layer is layer 2, output layer is layer 3\n",
    "from __future__ import print_function\n",
    "from transfer_functions import *  \n",
    "\n",
    "y = 0.4\n",
    "o11 = 0.8 # oij is the output from neuron in layer i in 'row' j\n",
    "o12 = 0.2\n",
    "o13 = 1\n",
    "print(o11)\n",
    "print(o12)\n",
    "w13 = 0.3 # wij is the weight from neuron i to neuron j, numbered as in the figure\n",
    "w23 = 0.8\n",
    "w14 = -0.5\n",
    "w24 = 0.2\n",
    "w63 = 0.2\n",
    "w64 = -0.4\n"
   ]
  },
  {
   "cell_type": "code",
   "execution_count": 23,
   "metadata": {
    "collapsed": false,
    "deletable": true,
    "editable": true
   },
   "outputs": [
    {
     "name": "stdout",
     "output_type": "stream",
     "text": [
      "0.6\n",
      "-0.76\n",
      "0.645656306226\n",
      "0.318646266211\n"
     ]
    }
   ],
   "source": [
    "u21 = w13*o11 + w23*o12 + w63*o13 # uij is the activation function in neuron in layer i in 'row' j\n",
    "u22 = w14*o11 + w24*o12 + w64*o13\n",
    "o21 = sigmoid(u21)\n",
    "o22 = sigmoid(u22)\n",
    "\n",
    "print(u21)\n",
    "print(u22)\n",
    "print(o21)\n",
    "print(o22)"
   ]
  },
  {
   "cell_type": "code",
   "execution_count": 24,
   "metadata": {
    "collapsed": false,
    "deletable": true,
    "editable": true
   },
   "outputs": [
    {
     "name": "stdout",
     "output_type": "stream",
     "text": [
      "0.55972959911\n"
     ]
    }
   ],
   "source": [
    "o23 = 1\n",
    "#o23 = sigmoid(1)\n",
    "w35 = -0.6\n",
    "w45 = 0.4\n",
    "w75 = 0.5\n",
    "u31 = w35*o21 + w45*o22 + w75*o23\n",
    "y_ = sigmoid(u31)\n",
    "print(y_)"
   ]
  },
  {
   "cell_type": "code",
   "execution_count": 25,
   "metadata": {
    "collapsed": false,
    "deletable": true,
    "editable": true
   },
   "outputs": [
    {
     "name": "stdout",
     "output_type": "stream",
     "text": [
      "0.0393625444648\n"
     ]
    }
   ],
   "source": [
    "dEdu31 = (y_ - y)*(y_*(1-y_)) # output layer\n",
    "print(dEdu31)"
   ]
  },
  {
   "cell_type": "code",
   "execution_count": 26,
   "metadata": {
    "collapsed": false,
    "deletable": true,
    "editable": true
   },
   "outputs": [
    {
     "name": "stdout",
     "output_type": "stream",
     "text": [
      "-0.00540331790269\n"
     ]
    }
   ],
   "source": [
    "dEdu21 = (dEdu31*w35)*(o21*(1-o21)) # hidden layer\n",
    "print(dEdu21)"
   ]
  },
  {
   "cell_type": "code",
   "execution_count": 27,
   "metadata": {
    "collapsed": false,
    "deletable": true,
    "editable": true
   },
   "outputs": [
    {
     "name": "stdout",
     "output_type": "stream",
     "text": [
      "0.00341841377344\n"
     ]
    }
   ],
   "source": [
    "dEdu22 = (dEdu31*w45)*(o22*(1-o22)) # hidden layer\n",
    "print(dEdu22)"
   ]
  },
  {
   "cell_type": "code",
   "execution_count": 28,
   "metadata": {
    "collapsed": false,
    "deletable": true,
    "editable": true
   },
   "outputs": [
    {
     "name": "stdout",
     "output_type": "stream",
     "text": [
      "w13  0.304322654322\n",
      "w14  -0.502734731019\n",
      "w23  0.801080663581\n",
      "w24  0.199316317245\n",
      "w63  0.205403317903\n",
      "w64  -0.403418413773\n",
      "w35  -0.625414675063\n",
      "w45  0.387457272178\n",
      "w75  0.460637455535\n"
     ]
    }
   ],
   "source": [
    "lambda_ = 1\n",
    "\n",
    "w13 -= lambda_*dEdu21*o11\n",
    "w23 -= lambda_*dEdu21*o12\n",
    "w14 -= lambda_*dEdu22*o11\n",
    "w24 -= lambda_*dEdu22*o12\n",
    "\n",
    "w35 -= lambda_*dEdu31*o21\n",
    "w45 -= lambda_*dEdu31*o22\n",
    "w75 -= lambda_*dEdu31*o23\n",
    "w63 -= lambda_*dEdu21*o13 \n",
    "w64 -= lambda_*dEdu22*o13\n",
    "\n",
    "print ('w13 ', w13) \n",
    "print ('w14 ', w14)\n",
    "print ('w23 ', w23) \n",
    "print ('w24 ', w24)\n",
    "print ('w63 ', w63)  \n",
    "print ('w64 ', w64)\n",
    "print ('w35 ', w35) \n",
    "print ('w45 ', w45) \n",
    "print ('w75 ', w75) "
   ]
  },
  {
   "cell_type": "markdown",
   "metadata": {
    "deletable": true,
    "editable": true
   },
   "source": [
    "<b>Part 2</b>: Neural Network Implementation\n",
    "\n",
    "Please read all source files carefully and understand the data structures and all functions.\n",
    "You are to complete the missing code. \n",
    "First you should define the neural network (using the NeuralNetwork class, see in the <a href=\"NeuralNetwork.py\"> NeuralNetwork.py </a> file) and reinitialise weights. \n",
    "Then you will have to complete the Feed Forward and the Back-propagation functions. \n",
    "\n",
    "<b>Question 1.2.1</b>: Define the neural network corresponding to the one in part 1"
   ]
  },
  {
   "cell_type": "code",
   "execution_count": 29,
   "metadata": {
    "collapsed": false,
    "deletable": true,
    "editable": true
   },
   "outputs": [],
   "source": [
    "from NeuralNetwork import *\n",
    "#create the network\n",
    "nIter = 10\n",
    "lambda_ = 1\n",
    "input_layer_size = 2\n",
    "hidden_layer_size = 2\n",
    "output_layer_size = 1\n",
    "my_first_net = NeuralNetwork(input_layer_size, hidden_layer_size, output_layer_size, nIter, lambda_)"
   ]
  },
  {
   "cell_type": "code",
   "execution_count": 30,
   "metadata": {
    "collapsed": false,
    "deletable": true,
    "editable": true
   },
   "outputs": [],
   "source": [
    "#Data preparation \n",
    "X=[0.8,0.2]\n",
    "Y=[0.4]\n",
    "data=[]\n",
    "data.append(X)\n",
    "data.append(Y)\n",
    "\n",
    "#initialize weights\n",
    "wi=np.array([[0.3,-0.5],[0.8,0.2],[0.2,-0.4]])\n",
    "wo=np.array([[-0.6],[0.4],[0.5]])\n",
    "my_first_net.weights_initialisation(wi,wo)\n"
   ]
  },
  {
   "cell_type": "markdown",
   "metadata": {
    "deletable": true,
    "editable": true
   },
   "source": [
    "<b>Question 1.2.2</b>: Implement the Feed Forward function (feedForward(X) in the NeuralNetwork.py file)\n",
    "\n"
   ]
  },
  {
   "cell_type": "markdown",
   "metadata": {
    "collapsed": true,
    "deletable": true,
    "editable": true
   },
   "source": [
    "<div class=\"alert alert-info\">\n",
    "#Implement it in the NeuralNetwork.py file and when finalised copy and paste your FeedForward function here\n",
    "<pre><code>def feedForward(self, inputs):\n",
    "    #array of inputs, we append the bias that is 1\n",
    "    self.a_input = np.append(inputs, [1])\n",
    "\n",
    "    #we pass the inputs times the weights to the transfer function\n",
    "    self.a_hidden = np.append(self.transferFunc(self.a_input.dot(self.W_input_to_hidden)), [1])\n",
    "\n",
    "    #compute what arrives at the output layer\n",
    "    self.a_output = self.a_hidden.dot(self.W_hidden_to_output)\n",
    "\n",
    "    #pass this to the transfer function to get the output of the network\n",
    "    self.o_output = self.transferFunc(self.a_output)\n",
    "\n",
    "    return self.o_output\n",
    "</code></pre>\n",
    "</div>"
   ]
  },
  {
   "cell_type": "markdown",
   "metadata": {
    "deletable": true,
    "editable": true
   },
   "source": [
    "Check your network outputs the expected value (the one you computed in question 1.1)"
   ]
  },
  {
   "cell_type": "code",
   "execution_count": 32,
   "metadata": {
    "collapsed": false,
    "deletable": true,
    "editable": true
   },
   "outputs": [
    {
     "name": "stdout",
     "output_type": "stream",
     "text": [
      "output =  [ 0.5597296]\n",
      "difference =  [ 0.]\n"
     ]
    }
   ],
   "source": [
    "#test my  Feed Forward function \n",
    "my_first_net.feedForward(X)\n",
    "print(\"output = \", my_first_net.o_output)\n",
    "print(\"difference = \", my_first_net.o_output - y_)"
   ]
  },
  {
   "cell_type": "markdown",
   "metadata": {
    "deletable": true,
    "editable": true
   },
   "source": [
    "<b>Question 1.2.3</b>: Implement the Back-propagation Algorithm (backPropagate(Y) in the NeuralNetwork.py file)  \n"
   ]
  },
  {
   "cell_type": "markdown",
   "metadata": {
    "collapsed": true,
    "deletable": true,
    "editable": true
   },
   "source": [
    "<div class=\"alert alert-info\">\n",
    "# Implement it in the NeuralNetwork.py file and when finalised copy and paste your backPropagate function here\n",
    "<pre><code>def backPropagate(self, targets):\n",
    "    # calculate error terms for output\n",
    "    self.outputErrors = self.o_output - targets\n",
    "\n",
    "    #calculate derivative of Error w.r.t. output layer\n",
    "    dEdu2 = np.multiply(self.outputErrors, self.derivateTransferFunc(self.o_output))\n",
    "    #calculate derivative of Error w.r.t. hidden layer\n",
    "    dEdu1 = np.multiply(self.W_hidden_to_output.dot(dEdu2), self.derivateTransferFunc(self.a_hidden))\n",
    "    dEdu1 = np.delete(dEdu1, -1)\n",
    "\n",
    "    # update output weights\n",
    "    self.W_hidden_to_output -= self.learning_rate * np.outer(self.a_hidden, dEdu2)\n",
    "    # update input weights\n",
    "    self.W_input_to_hidden -= self.learning_rate * np.outer(self.a_input, dEdu1)\n",
    "\n",
    "    return np.sum(self.outputErrors**2)/2\n",
    "</code></pre>\n",
    "</div>"
   ]
  },
  {
   "cell_type": "markdown",
   "metadata": {
    "deletable": true,
    "editable": true
   },
   "source": [
    "Check the gradient values and weight updates are correct (similar to the ones you computed in question 1.1)"
   ]
  },
  {
   "cell_type": "code",
   "execution_count": 34,
   "metadata": {
    "collapsed": false,
    "deletable": true,
    "editable": true
   },
   "outputs": [
    {
     "name": "stdout",
     "output_type": "stream",
     "text": [
      "wi_new= [[ 0.30432265 -0.50273473]\n",
      " [ 0.80108066  0.19931632]\n",
      " [ 0.20540332 -0.40341841]]\n",
      "wo_new= [[-0.62541468]\n",
      " [ 0.38745727]\n",
      " [ 0.46063746]]\n"
     ]
    }
   ],
   "source": [
    "#test my  Back-propagation function\n",
    "my_first_net.backPropagate(Y)\n",
    "#Print weights after backpropagation\n",
    "print('wi_new=', my_first_net.W_input_to_hidden)\n",
    "print('wo_new=', my_first_net.W_hidden_to_output)\n"
   ]
  },
  {
   "cell_type": "markdown",
   "metadata": {
    "deletable": true,
    "editable": true
   },
   "source": [
    "Your Feed Forward and Back-Propagation implementations are working, Great!! Let's tackle a real world problem."
   ]
  },
  {
   "cell_type": "markdown",
   "metadata": {
    "collapsed": true,
    "deletable": true,
    "editable": true
   },
   "source": [
    "# Section 2 : The MNIST Challenge! "
   ]
  },
  {
   "cell_type": "markdown",
   "metadata": {
    "deletable": true,
    "editable": true
   },
   "source": [
    "<b>Data Preparation</b>\n",
    "\n",
    "The MNIST dataset consists of handwritten digit images it contains 60,000 examples for the training set and 10,000 examples for testing. In this Lab Session, the official training set of 60,000 is divided into an actual training set of 50,000 examples, 10,000 validation examples and 10,000 examples for test. All digit images have been size-normalized and centered in a fixed size image of 28 x 28 pixels. The images are stored in byte form you will use the NumPy python library to read the data files into NumPy arrays that we will use to train the ANN.\n",
    "\n",
    "The MNIST dataset is available in the Data folder.\n",
    "To get the training, testing and validation data, run the the load_data() function.\n"
   ]
  },
  {
   "cell_type": "code",
   "execution_count": 149,
   "metadata": {
    "collapsed": false,
    "deletable": true,
    "editable": true,
    "scrolled": false
   },
   "outputs": [
    {
     "name": "stdout",
     "output_type": "stream",
     "text": [
      "Loading MNIST data .....\n",
      "Done.\n"
     ]
    }
   ],
   "source": [
    "from utils import *\n",
    "training_data, validation_data, test_data=load_data()"
   ]
  },
  {
   "cell_type": "markdown",
   "metadata": {
    "deletable": true,
    "editable": true
   },
   "source": [
    "<b>MNIST Dataset Digits Visualisation</b>"
   ]
  },
  {
   "cell_type": "code",
   "execution_count": 150,
   "metadata": {
    "collapsed": false,
    "deletable": true,
    "editable": true
   },
   "outputs": [
    {
     "data": {
      "image/png": "[encoded data removed]",
      "text/plain": [
       "<matplotlib.figure.Figure at 0x107132dd0>"
      ]
     },
     "metadata": {},
     "output_type": "display_data"
    }
   ],
   "source": [
    "ROW = 2\n",
    "COLUMN = 4\n",
    "for i in range(ROW * COLUMN):\n",
    "    # train[i][0] is i-th image data with size 28x28\n",
    "    image = training_data[i][0].reshape(28, 28)   \n",
    "    plt.subplot(ROW, COLUMN, i+1)          \n",
    "    plt.imshow(image, cmap='gray')  # cmap='gray' is for black and white picture.\n",
    "plt.axis('off')  # do not show axis value\n",
    "plt.tight_layout()   # automatic padding between subplots\n",
    "plt.show()"
   ]
  },
  {
   "cell_type": "markdown",
   "metadata": {
    "deletable": true,
    "editable": true
   },
   "source": [
    "<b>Part 1</b>: Creating the Neural Networks\n",
    "\n",
    "The input layer of the neural network contains neurons encoding the values of the input pixels. The training data for the network will consist of many 28 by 28 pixel images of scanned handwritten digits, and so the input layer contains 784=28×28 neurons. The second layer of the network is a hidden layer, we set the neuron number in the hidden layer to 30. The output layer contains 10 neurons. \n",
    "\n",
    "<b>Question 2.1.1</b>: Create the network described above using the NeuralNetwork class"
   ]
  },
  {
   "cell_type": "code",
   "execution_count": 151,
   "metadata": {
    "collapsed": false,
    "deletable": true,
    "editable": true
   },
   "outputs": [],
   "source": [
    "#create the network\n",
    "from NeuralNetwork import * \n",
    "my_mnist_net = NeuralNetwork(input_layer_size=784, hidden_layer_size=30, output_layer_size=10)"
   ]
  },
  {
   "cell_type": "markdown",
   "metadata": {
    "deletable": true,
    "editable": true
   },
   "source": [
    "<b>Question 2.1.2</b>: Add the information about the performance of the neural network on the test set at each epoch"
   ]
  },
  {
   "cell_type": "code",
   "execution_count": 152,
   "metadata": {
    "collapsed": false,
    "deletable": true,
    "editable": true
   },
   "outputs": [
    {
     "name": "stdout",
     "output_type": "stream",
     "text": [
      "Test_Accuracy  8.79\n"
     ]
    }
   ],
   "source": [
    "test_accuracy=my_mnist_net.predict(test_data)/100\n",
    "print('Test_Accuracy  %-2.2f' % test_accuracy)"
   ]
  },
  {
   "cell_type": "markdown",
   "metadata": {
    "deletable": true,
    "editable": true
   },
   "source": [
    "<b>Question 2.1.3</b>: Train the Neural Network and comment your findings"
   ]
  },
  {
   "cell_type": "code",
   "execution_count": 153,
   "metadata": {
    "collapsed": false,
    "deletable": true,
    "editable": true,
    "scrolled": true
   },
   "outputs": [
    {
     "name": "stdout",
     "output_type": "stream",
     "text": [
      "Iteration:  1/50[=====] -Error: 0.1655674548  -Training_Accuracy:  88.06  -Validation_accuracy: 89.04 -time: 22.90 \n",
      "Iteration:  2/50[=====] -Error: 0.0900181135  -Training_Accuracy:  90.54  -Validation_accuracy: 90.79 -time: 46.68 \n",
      "Iteration:  3/50[=====] -Error: 0.0745799926  -Training_Accuracy:  91.95  -Validation_accuracy: 91.58 -time: 72.55 \n",
      "Iteration:  4/50[=====] -Error: 0.0662253743  -Training_Accuracy:  92.61  -Validation_accuracy: 92.36 -time: 97.94 \n",
      "Iteration:  5/50[=====] -Error: 0.0609684985  -Training_Accuracy:  93.30  -Validation_accuracy: 92.66 -time: 119.46 \n",
      "Iteration:  6/50[=====] -Error: 0.0567575099  -Training_Accuracy:  93.59  -Validation_accuracy: 92.82 -time: 140.92 \n",
      "Iteration:  7/50[=====] -Error: 0.0538454924  -Training_Accuracy:  94.10  -Validation_accuracy: 93.00 -time: 163.65 \n",
      "Iteration:  8/50[=====] -Error: 0.0511648403  -Training_Accuracy:  94.11  -Validation_accuracy: 92.93 -time: 185.78 \n",
      "Iteration:  9/50[=====] -Error: 0.0490640124  -Training_Accuracy:  94.53  -Validation_accuracy: 93.45 -time: 208.72 \n",
      "Iteration: 10/50[=====] -Error: 0.0470885581  -Training_Accuracy:  94.78  -Validation_accuracy: 93.64 -time: 232.90 \n",
      "Iteration: 11/50[=====] -Error: 0.0452450698  -Training_Accuracy:  94.95  -Validation_accuracy: 93.52 -time: 256.26 \n",
      "Iteration: 12/50[=====] -Error: 0.0435106317  -Training_Accuracy:  95.14  -Validation_accuracy: 93.74 -time: 279.69 \n",
      "Iteration: 13/50[=====] -Error: 0.0423460673  -Training_Accuracy:  95.26  -Validation_accuracy: 93.83 -time: 304.87 \n",
      "Iteration: 14/50[=====] -Error: 0.0409779653  -Training_Accuracy:  95.46  -Validation_accuracy: 93.86 -time: 326.30 \n",
      "Iteration: 15/50[=====] -Error: 0.0398718803  -Training_Accuracy:  95.54  -Validation_accuracy: 94.06 -time: 348.26 \n",
      "Iteration: 16/50[=====] -Error: 0.0387893913  -Training_Accuracy:  95.71  -Validation_accuracy: 93.98 -time: 369.30 \n",
      "Iteration: 17/50[=====] -Error: 0.0377897016  -Training_Accuracy:  95.75  -Validation_accuracy: 94.07 -time: 391.07 \n",
      "Iteration: 18/50[=====] -Error: 0.0371246456  -Training_Accuracy:  95.90  -Validation_accuracy: 94.16 -time: 412.05 \n",
      "Iteration: 19/50[=====] -Error: 0.0362451176  -Training_Accuracy:  96.02  -Validation_accuracy: 94.22 -time: 433.18 \n",
      "Iteration: 20/50[=====] -Error: 0.0354483124  -Training_Accuracy:  96.12  -Validation_accuracy: 94.19 -time: 454.28 \n",
      "Iteration: 21/50[=====] -Error: 0.0349168001  -Training_Accuracy:  96.12  -Validation_accuracy: 94.17 -time: 475.31 \n",
      "Iteration: 22/50[=====] -Error: 0.0342014590  -Training_Accuracy:  96.24  -Validation_accuracy: 94.03 -time: 496.25 \n",
      "Iteration: 23/50[=====] -Error: 0.0336115216  -Training_Accuracy:  96.31  -Validation_accuracy: 94.33 -time: 517.56 \n",
      "Iteration: 24/50[=====] -Error: 0.0331044299  -Training_Accuracy:  96.36  -Validation_accuracy: 94.35 -time: 539.00 \n",
      "Iteration: 25/50[=====] -Error: 0.0325105790  -Training_Accuracy:  96.44  -Validation_accuracy: 94.36 -time: 561.09 \n",
      "Iteration: 26/50[=====] -Error: 0.0319264355  -Training_Accuracy:  96.53  -Validation_accuracy: 94.24 -time: 582.47 \n",
      "Iteration: 27/50[=====] -Error: 0.0313326902  -Training_Accuracy:  96.49  -Validation_accuracy: 94.26 -time: 609.80 \n",
      "Iteration: 28/50[=====] -Error: 0.0309411694  -Training_Accuracy:  96.61  -Validation_accuracy: 94.36 -time: 634.74 \n",
      "Iteration: 29/50[=====] -Error: 0.0305512165  -Training_Accuracy:  96.63  -Validation_accuracy: 94.25 -time: 662.38 \n",
      "Iteration: 30/50[=====] -Error: 0.0298976480  -Training_Accuracy:  96.56  -Validation_accuracy: 94.39 -time: 684.57 \n",
      "Iteration: 31/50[=====] -Error: 0.0296652918  -Training_Accuracy:  96.70  -Validation_accuracy: 94.15 -time: 713.55 \n",
      "Iteration: 32/50[=====] -Error: 0.0291755266  -Training_Accuracy:  96.78  -Validation_accuracy: 94.37 -time: 736.96 \n",
      "Iteration: 33/50[=====] -Error: 0.0287752585  -Training_Accuracy:  96.82  -Validation_accuracy: 94.34 -time: 758.52 \n",
      "Iteration: 34/50[=====] -Error: 0.0283427810  -Training_Accuracy:  96.73  -Validation_accuracy: 94.36 -time: 779.92 \n",
      "Iteration: 35/50[=====] -Error: 0.0280816891  -Training_Accuracy:  96.85  -Validation_accuracy: 94.52 -time: 800.32 \n",
      "Iteration: 36/50[=====] -Error: 0.0276351482  -Training_Accuracy:  96.94  -Validation_accuracy: 94.42 -time: 822.71 \n",
      "Iteration: 37/50[=====] -Error: 0.0273012294  -Training_Accuracy:  96.91  -Validation_accuracy: 94.33 -time: 843.43 \n",
      "Iteration: 38/50[=====] -Error: 0.0269861499  -Training_Accuracy:  96.95  -Validation_accuracy: 94.57 -time: 867.05 \n",
      "Iteration: 39/50[=====] -Error: 0.0267355182  -Training_Accuracy:  97.00  -Validation_accuracy: 94.39 -time: 887.36 \n",
      "Iteration: 40/50[=====] -Error: 0.0264714804  -Training_Accuracy:  96.97  -Validation_accuracy: 94.47 -time: 907.74 \n",
      "Iteration: 41/50[=====] -Error: 0.0262413587  -Training_Accuracy:  97.00  -Validation_accuracy: 94.48 -time: 928.02 \n",
      "Iteration: 42/50[=====] -Error: 0.0259753101  -Training_Accuracy:  97.03  -Validation_accuracy: 94.56 -time: 949.65 \n",
      "Iteration: 43/50[=====] -Error: 0.0256954592  -Training_Accuracy:  97.11  -Validation_accuracy: 94.57 -time: 970.43 \n",
      "Iteration: 44/50[=====] -Error: 0.0253476845  -Training_Accuracy:  97.11  -Validation_accuracy: 94.52 -time: 992.92 \n",
      "Iteration: 45/50[=====] -Error: 0.0252082389  -Training_Accuracy:  97.10  -Validation_accuracy: 94.66 -time: 1014.80 \n",
      "Iteration: 46/50[=====] -Error: 0.0249402102  -Training_Accuracy:  97.20  -Validation_accuracy: 94.51 -time: 1039.32 \n",
      "Iteration: 47/50[=====] -Error: 0.0247051244  -Training_Accuracy:  97.17  -Validation_accuracy: 94.43 -time: 1069.09 \n",
      "Iteration: 48/50[=====] -Error: 0.0243717876  -Training_Accuracy:  97.20  -Validation_accuracy: 94.61 -time: 1092.29 \n",
      "Iteration: 49/50[=====] -Error: 0.0242644901  -Training_Accuracy:  97.24  -Validation_accuracy: 94.60 -time: 1115.23 \n",
      "Iteration: 50/50[=====] -Error: 0.0238958866  -Training_Accuracy:  97.24  -Validation_accuracy: 94.57 -time: 1138.45 \n"
     ]
    }
   ],
   "source": [
    "#train your network \n",
    "(training_accuracy_lr01, error_lr01) = my_mnist_net.train(training_data, validation_data)\n",
    "\n",
    "#save your model in Models/ using a distinguishing name for your model (architecture, learning rate, etc...)\n",
    "my_mnist_net.save(\"Models/model_\" + \"784_30_10_01.model\")"
   ]
  },
  {
   "cell_type": "markdown",
   "metadata": {
    "collapsed": true,
    "deletable": true,
    "editable": true
   },
   "source": [
    "<div class=\"alert alert-success\">\n",
    "#Note your observations here. \n",
    "</div>"
   ]
  },
  {
   "cell_type": "markdown",
   "metadata": {
    "deletable": true,
    "editable": true
   },
   "source": [
    "<b>Question 2.1.4</b>: Guess digit, Implement and test a python function that predict the class of a digit (the folder images_test contains some examples of images of digits)\n"
   ]
  },
  {
   "cell_type": "code",
   "execution_count": 154,
   "metadata": {
    "collapsed": false,
    "deletable": true,
    "editable": true,
    "scrolled": false
   },
   "outputs": [
    {
     "name": "stdout",
     "output_type": "stream",
     "text": [
      "1.0\n"
     ]
    }
   ],
   "source": [
    "#Your implementation goes here\n",
    "import os\n",
    "from scipy import misc\n",
    "\n",
    "def getTestData(folder):\n",
    "    data = []\n",
    "    for imageName in [f for f in os.listdir(folder) if f.endswith(\".bmp\")]:\n",
    "        img = misc.imread(folder + imageName, flatten=True)\n",
    "        img = misc.imresize(img, (28,28))\n",
    "        img = np.reshape(img, (28*28, 1))\n",
    "        nr  = int(imageName[0])\n",
    "        label = np.zeros(10)\n",
    "        label[nr] = 1\n",
    "        data.append((img, label))  \n",
    "    return data\n",
    "\n",
    "folderData = getTestData(\"./Images_test/\")\n",
    "print(my_mnist_net.predict(folderData))"
   ]
  },
  {
   "cell_type": "markdown",
   "metadata": {
    "deletable": true,
    "editable": true
   },
   "source": [
    "<b>Part 2</b>: Change the neural network structure and parameters to optimize performance"
   ]
  },
  {
   "cell_type": "markdown",
   "metadata": {
    "collapsed": true,
    "deletable": true,
    "editable": true
   },
   "source": [
    "<b> Question 2.2.1</b>: Change the learning rate (0.001, 0.1, 1.0 , 10). Train the new neural nets with the original specifications (Part 2.1), for 50 iterations. \n",
    "Plot test accuracy vs iteration for each learning rate on the same graph. Report the maximum\n",
    "test accuracy achieved for each learning rate. Which one achieves the maximum test accuracy?"
   ]
  },
  {
   "cell_type": "code",
   "execution_count": 155,
   "metadata": {
    "collapsed": false,
    "deletable": true,
    "editable": true,
    "scrolled": true
   },
   "outputs": [
    {
     "name": "stdout",
     "output_type": "stream",
     "text": [
      "Iteration:  1/50[=====] -Error: 0.4773322932  -Training_Accuracy:  36.79  -Validation_accuracy: 38.93 -time: 23.05 \n",
      "Iteration:  2/50[=====] -Error: 0.3874132874  -Training_Accuracy:  50.48  -Validation_accuracy: 53.04 -time: 45.92 \n",
      "Iteration:  3/50[=====] -Error: 0.3551427673  -Training_Accuracy:  57.11  -Validation_accuracy: 59.71 -time: 68.30 \n",
      "Iteration:  4/50[=====] -Error: 0.3296181350  -Training_Accuracy:  61.04  -Validation_accuracy: 63.36 -time: 91.01 \n",
      "Iteration:  5/50[=====] -Error: 0.3087908541  -Training_Accuracy:  64.08  -Validation_accuracy: 66.64 -time: 113.62 \n",
      "Iteration:  6/50[=====] -Error: 0.2914079352  -Training_Accuracy:  65.88  -Validation_accuracy: 68.43 -time: 139.49 \n",
      "Iteration:  7/50[=====] -Error: 0.2766976428  -Training_Accuracy:  67.41  -Validation_accuracy: 69.76 -time: 161.70 \n",
      "Iteration:  8/50[=====] -Error: 0.2640861550  -Training_Accuracy:  69.03  -Validation_accuracy: 71.30 -time: 183.52 \n",
      "Iteration:  9/50[=====] -Error: 0.2530938274  -Training_Accuracy:  70.38  -Validation_accuracy: 72.48 -time: 205.34 \n",
      "Iteration: 10/50[=====] -Error: 0.2434672524  -Training_Accuracy:  71.51  -Validation_accuracy: 73.51 -time: 227.56 \n",
      "Iteration: 11/50[=====] -Error: 0.2349050608  -Training_Accuracy:  72.59  -Validation_accuracy: 74.36 -time: 251.43 \n",
      "Iteration: 12/50[=====] -Error: 0.2272825414  -Training_Accuracy:  73.46  -Validation_accuracy: 75.23 -time: 273.70 \n",
      "Iteration: 13/50[=====] -Error: 0.2204040861  -Training_Accuracy:  74.23  -Validation_accuracy: 75.92 -time: 300.28 \n",
      "Iteration: 14/50[=====] -Error: 0.2141874978  -Training_Accuracy:  75.07  -Validation_accuracy: 76.69 -time: 322.37 \n",
      "Iteration: 15/50[=====] -Error: 0.2085036473  -Training_Accuracy:  75.68  -Validation_accuracy: 77.47 -time: 347.33 \n",
      "Iteration: 16/50[=====] -Error: 0.2033167111  -Training_Accuracy:  76.29  -Validation_accuracy: 77.99 -time: 382.41 \n",
      "Iteration: 17/50[=====] -Error: 0.1985263152  -Training_Accuracy:  76.79  -Validation_accuracy: 78.47 -time: 413.20 \n",
      "Iteration: 18/50[=====] -Error: 0.1941274878  -Training_Accuracy:  77.29  -Validation_accuracy: 78.88 -time: 435.96 \n",
      "Iteration: 19/50[=====] -Error: 0.1900602671  -Training_Accuracy:  77.79  -Validation_accuracy: 79.42 -time: 462.11 \n",
      "Iteration: 20/50[=====] -Error: 0.1862652449  -Training_Accuracy:  78.21  -Validation_accuracy: 79.85 -time: 497.34 \n",
      "Iteration: 21/50[=====] -Error: 0.1827172551  -Training_Accuracy:  78.60  -Validation_accuracy: 80.19 -time: 522.14 \n",
      "Iteration: 22/50[=====] -Error: 0.1794139132  -Training_Accuracy:  79.01  -Validation_accuracy: 80.68 -time: 547.18 \n",
      "Iteration: 23/50[=====] -Error: 0.1763054159  -Training_Accuracy:  79.40  -Validation_accuracy: 81.02 -time: 571.46 \n",
      "Iteration: 24/50[=====] -Error: 0.1733990966  -Training_Accuracy:  79.70  -Validation_accuracy: 81.36 -time: 595.74 \n",
      "Iteration: 25/50[=====] -Error: 0.1706291334  -Training_Accuracy:  80.02  -Validation_accuracy: 81.55 -time: 619.75 \n",
      "Iteration: 26/50[=====] -Error: 0.1680413856  -Training_Accuracy:  80.36  -Validation_accuracy: 81.77 -time: 645.16 \n",
      "Iteration: 27/50[=====] -Error: 0.1655783194  -Training_Accuracy:  80.65  -Validation_accuracy: 82.13 -time: 672.39 \n",
      "Iteration: 28/50[=====] -Error: 0.1632236282  -Training_Accuracy:  80.92  -Validation_accuracy: 82.46 -time: 698.63 \n",
      "Iteration: 29/50[=====] -Error: 0.1609861104  -Training_Accuracy:  81.25  -Validation_accuracy: 82.68 -time: 734.77 \n",
      "Iteration: 30/50[=====] -Error: 0.1588580658  -Training_Accuracy:  81.45  -Validation_accuracy: 82.90 -time: 760.41 \n",
      "Iteration: 31/50[=====] -Error: 0.1568205000  -Training_Accuracy:  81.74  -Validation_accuracy: 83.13 -time: 784.10 \n",
      "Iteration: 32/50[=====] -Error: 0.1548746920  -Training_Accuracy:  81.95  -Validation_accuracy: 83.26 -time: 810.59 \n",
      "Iteration: 33/50[=====] -Error: 0.1530076859  -Training_Accuracy:  82.13  -Validation_accuracy: 83.43 -time: 833.97 \n",
      "Iteration: 34/50[=====] -Error: 0.1512078323  -Training_Accuracy:  82.30  -Validation_accuracy: 83.57 -time: 855.51 \n",
      "Iteration: 35/50[=====] -Error: 0.1494833328  -Training_Accuracy:  82.55  -Validation_accuracy: 83.84 -time: 877.23 \n",
      "Iteration: 36/50[=====] -Error: 0.1478360889  -Training_Accuracy:  82.67  -Validation_accuracy: 83.99 -time: 899.21 \n",
      "Iteration: 37/50[=====] -Error: 0.1462355252  -Training_Accuracy:  82.83  -Validation_accuracy: 84.18 -time: 919.97 \n",
      "Iteration: 38/50[=====] -Error: 0.1446861434  -Training_Accuracy:  82.99  -Validation_accuracy: 84.27 -time: 940.09 \n",
      "Iteration: 39/50[=====] -Error: 0.1431955210  -Training_Accuracy:  83.15  -Validation_accuracy: 84.43 -time: 960.05 \n",
      "Iteration: 40/50[=====] -Error: 0.1417690477  -Training_Accuracy:  83.35  -Validation_accuracy: 84.67 -time: 980.41 \n",
      "Iteration: 41/50[=====] -Error: 0.1403823735  -Training_Accuracy:  83.47  -Validation_accuracy: 84.64 -time: 1001.08 \n",
      "Iteration: 42/50[=====] -Error: 0.1390366835  -Training_Accuracy:  83.63  -Validation_accuracy: 84.90 -time: 1021.66 \n",
      "Iteration: 43/50[=====] -Error: 0.1377412157  -Training_Accuracy:  83.75  -Validation_accuracy: 84.97 -time: 1041.94 \n",
      "Iteration: 44/50[=====] -Error: 0.1364920265  -Training_Accuracy:  83.90  -Validation_accuracy: 85.12 -time: 1063.30 \n",
      "Iteration: 45/50[=====] -Error: 0.1352510457  -Training_Accuracy:  84.04  -Validation_accuracy: 85.22 -time: 1084.15 \n",
      "Iteration: 46/50[=====] -Error: 0.1340982337  -Training_Accuracy:  84.21  -Validation_accuracy: 85.47 -time: 1104.14 \n",
      "Iteration: 47/50[=====] -Error: 0.1329538898  -Training_Accuracy:  84.35  -Validation_accuracy: 85.64 -time: 1124.68 \n",
      "Iteration: 48/50[=====] -Error: 0.1318423961  -Training_Accuracy:  84.46  -Validation_accuracy: 85.73 -time: 1145.70 \n",
      "Iteration: 49/50[=====] -Error: 0.1307688711  -Training_Accuracy:  84.58  -Validation_accuracy: 85.75 -time: 1166.35 \n",
      "Iteration: 50/50[=====] -Error: 0.1297303006  -Training_Accuracy:  84.65  -Validation_accuracy: 85.79 -time: 1186.69 \n"
     ]
    }
   ],
   "source": [
    "#Your implementation with a learning rate of 0.001 goes here \n",
    "my_mnist_net = NeuralNetwork(input_layer_size=784, hidden_layer_size=30, output_layer_size=10, learning_rate=0.001)\n",
    "\n",
    "#train network \n",
    "(training_accuracy_lr0001, error_lr0001) = my_mnist_net.train(training_data, validation_data)\n",
    "\n",
    "#save model in Models/ using a distinguishing name for your model (architecture, learning rate, etc...)\n",
    "my_mnist_net.save(\"Models/model_\" + \"784_30_10_0001.model\")"
   ]
  },
  {
   "cell_type": "code",
   "execution_count": 156,
   "metadata": {
    "collapsed": false,
    "deletable": true,
    "editable": true,
    "scrolled": true
   },
   "outputs": [
    {
     "name": "stdout",
     "output_type": "stream",
     "text": [
      "Iteration:  1/50[=====] -Error: 0.1038293976  -Training_Accuracy:  90.99  -Validation_accuracy: 90.94 -time: 19.92 \n",
      "Iteration:  2/50[=====] -Error: 0.0690076682  -Training_Accuracy:  91.90  -Validation_accuracy: 91.73 -time: 40.09 \n",
      "Iteration:  3/50[=====] -Error: 0.0613812655  -Training_Accuracy:  93.60  -Validation_accuracy: 93.12 -time: 61.25 \n",
      "Iteration:  4/50[=====] -Error: 0.0569077377  -Training_Accuracy:  93.78  -Validation_accuracy: 93.74 -time: 82.06 \n",
      "Iteration:  5/50[=====] -Error: 0.0556669564  -Training_Accuracy:  93.95  -Validation_accuracy: 93.68 -time: 102.66 \n",
      "Iteration:  6/50[=====] -Error: 0.0533246212  -Training_Accuracy:  93.76  -Validation_accuracy: 93.15 -time: 123.08 \n",
      "Iteration:  7/50[=====] -Error: 0.0513746651  -Training_Accuracy:  94.35  -Validation_accuracy: 93.92 -time: 143.12 \n",
      "Iteration:  8/50[=====] -Error: 0.0491922504  -Training_Accuracy:  94.37  -Validation_accuracy: 94.35 -time: 163.03 \n",
      "Iteration:  9/50[=====] -Error: 0.0485510959  -Training_Accuracy:  94.71  -Validation_accuracy: 93.97 -time: 184.04 \n",
      "Iteration: 10/50[=====] -Error: 0.0469910354  -Training_Accuracy:  95.16  -Validation_accuracy: 94.55 -time: 204.38 \n",
      "Iteration: 11/50[=====] -Error: 0.0449226382  -Training_Accuracy:  94.83  -Validation_accuracy: 94.01 -time: 224.70 \n",
      "Iteration: 12/50[=====] -Error: 0.0460728912  -Training_Accuracy:  95.10  -Validation_accuracy: 94.12 -time: 245.21 \n",
      "Iteration: 13/50[=====] -Error: 0.0434754395  -Training_Accuracy:  95.18  -Validation_accuracy: 94.29 -time: 265.59 \n",
      "Iteration: 14/50[=====] -Error: 0.0442416206  -Training_Accuracy:  95.21  -Validation_accuracy: 94.33 -time: 285.32 \n",
      "Iteration: 15/50[=====] -Error: 0.0443096101  -Training_Accuracy:  95.01  -Validation_accuracy: 94.23 -time: 308.69 \n",
      "Iteration: 16/50[=====] -Error: 0.0440184668  -Training_Accuracy:  95.78  -Validation_accuracy: 94.95 -time: 327.48 \n",
      "Iteration: 17/50[=====] -Error: 0.0448618676  -Training_Accuracy:  95.55  -Validation_accuracy: 94.73 -time: 346.21 \n",
      "Iteration: 18/50[=====] -Error: 0.0416994371  -Training_Accuracy:  95.32  -Validation_accuracy: 94.39 -time: 364.99 \n",
      "Iteration: 19/50[=====] -Error: 0.0415494428  -Training_Accuracy:  95.86  -Validation_accuracy: 94.99 -time: 383.30 \n",
      "Iteration: 20/50[=====] -Error: 0.0403398392  -Training_Accuracy:  95.55  -Validation_accuracy: 94.59 -time: 401.56 \n",
      "Iteration: 21/50[=====] -Error: 0.0384338492  -Training_Accuracy:  95.98  -Validation_accuracy: 95.00 -time: 423.46 \n",
      "Iteration: 22/50[=====] -Error: 0.0387558961  -Training_Accuracy:  95.96  -Validation_accuracy: 95.02 -time: 449.16 \n",
      "Iteration: 23/50[=====] -Error: 0.0380384192  -Training_Accuracy:  95.94  -Validation_accuracy: 94.96 -time: 471.75 \n",
      "Iteration: 24/50[=====] -Error: 0.0380716628  -Training_Accuracy:  95.88  -Validation_accuracy: 94.94 -time: 497.24 \n",
      "Iteration: 25/50[=====] -Error: 0.0377292765  -Training_Accuracy:  95.56  -Validation_accuracy: 94.57 -time: 517.68 \n",
      "Iteration: 26/50[=====] -Error: 0.0371794621  -Training_Accuracy:  96.03  -Validation_accuracy: 94.91 -time: 542.15 \n",
      "Iteration: 27/50[=====] -Error: 0.0367898276  -Training_Accuracy:  95.91  -Validation_accuracy: 94.70 -time: 565.47 \n",
      "Iteration: 28/50[=====] -Error: 0.0365613846  -Training_Accuracy:  95.81  -Validation_accuracy: 94.81 -time: 585.54 \n",
      "Iteration: 29/50[=====] -Error: 0.0373431601  -Training_Accuracy:  96.20  -Validation_accuracy: 94.94 -time: 605.48 \n",
      "Iteration: 30/50[=====] -Error: 0.0357201667  -Training_Accuracy:  96.08  -Validation_accuracy: 94.78 -time: 626.31 \n",
      "Iteration: 31/50[=====] -Error: 0.0370974179  -Training_Accuracy:  96.06  -Validation_accuracy: 94.97 -time: 646.92 \n",
      "Iteration: 32/50[=====] -Error: 0.0357603657  -Training_Accuracy:  96.18  -Validation_accuracy: 94.91 -time: 667.19 \n",
      "Iteration: 33/50[=====] -Error: 0.0361648361  -Training_Accuracy:  96.35  -Validation_accuracy: 94.99 -time: 686.95 \n",
      "Iteration: 34/50[=====] -Error: 0.0352291194  -Training_Accuracy:  96.32  -Validation_accuracy: 95.22 -time: 705.30 \n",
      "Iteration: 35/50[=====] -Error: 0.0347832058  -Training_Accuracy:  96.14  -Validation_accuracy: 94.83 -time: 723.66 \n",
      "Iteration: 36/50[=====] -Error: 0.0344601291  -Training_Accuracy:  96.31  -Validation_accuracy: 95.17 -time: 741.81 \n",
      "Iteration: 37/50[=====] -Error: 0.0343030001  -Training_Accuracy:  95.91  -Validation_accuracy: 94.88 -time: 760.12 \n",
      "Iteration: 38/50[=====] -Error: 0.0344735967  -Training_Accuracy:  96.08  -Validation_accuracy: 94.73 -time: 781.56 \n",
      "Iteration: 39/50[=====] -Error: 0.0338285559  -Training_Accuracy:  96.58  -Validation_accuracy: 95.11 -time: 800.42 \n",
      "Iteration: 40/50[=====] -Error: 0.0336646077  -Training_Accuracy:  96.47  -Validation_accuracy: 95.26 -time: 818.69 \n",
      "Iteration: 41/50[=====] -Error: 0.0340452840  -Training_Accuracy:  96.52  -Validation_accuracy: 95.13 -time: 837.61 \n",
      "Iteration: 42/50[=====] -Error: 0.0330719451  -Training_Accuracy:  96.49  -Validation_accuracy: 95.06 -time: 856.12 \n",
      "Iteration: 43/50[=====] -Error: 0.0328021351  -Training_Accuracy:  96.66  -Validation_accuracy: 95.40 -time: 874.27 \n",
      "Iteration: 44/50[=====] -Error: 0.0319369896  -Training_Accuracy:  96.28  -Validation_accuracy: 94.87 -time: 892.57 \n",
      "Iteration: 45/50[=====] -Error: 0.0320266147  -Training_Accuracy:  96.61  -Validation_accuracy: 95.10 -time: 911.61 \n",
      "Iteration: 46/50[=====] -Error: 0.0318524203  -Training_Accuracy:  96.41  -Validation_accuracy: 95.25 -time: 930.02 \n",
      "Iteration: 47/50[=====] -Error: 0.0324065338  -Training_Accuracy:  96.72  -Validation_accuracy: 95.30 -time: 948.76 \n",
      "Iteration: 48/50[=====] -Error: 0.0309089198  -Training_Accuracy:  96.51  -Validation_accuracy: 95.13 -time: 967.03 \n",
      "Iteration: 49/50[=====] -Error: 0.0312007234  -Training_Accuracy:  96.54  -Validation_accuracy: 95.08 -time: 985.28 \n",
      "Iteration: 50/50[=====] -Error: 0.0316565638  -Training_Accuracy:  96.73  -Validation_accuracy: 95.01 -time: 1003.46 \n"
     ]
    }
   ],
   "source": [
    "#Your implementation with a learning rate of 1.0 goes here \n",
    "my_mnist_net = NeuralNetwork(input_layer_size=784, hidden_layer_size=30, output_layer_size=10, learning_rate=1.0)\n",
    "\n",
    "#train network \n",
    "(training_accuracy_lr1, error_lr1) = my_mnist_net.train(training_data, validation_data)\n",
    "\n",
    "#save model in Models/ using a distinguishing name for your model (architecture, learning rate, etc...)\n",
    "my_mnist_net.save(\"Models/model_\" + \"784_30_10_1.model\")"
   ]
  },
  {
   "cell_type": "code",
   "execution_count": 157,
   "metadata": {
    "collapsed": false,
    "deletable": true,
    "editable": true,
    "scrolled": true
   },
   "outputs": [
    {
     "name": "stdout",
     "output_type": "stream",
     "text": [
      "Iteration:  1/50[=====] -Error: 0.5097681235  -Training_Accuracy:  13.40  -Validation_accuracy: 13.99 -time: 19.93 \n",
      "Iteration:  2/50[=====] -Error: 0.5006492167  -Training_Accuracy:  23.90  -Validation_accuracy: 23.82 -time: 46.99 \n",
      "Iteration:  3/50[=====] -Error: 0.5001575335  -Training_Accuracy:  14.39  -Validation_accuracy: 15.17 -time: 73.30 \n",
      "Iteration:  4/50[=====] -Error: 0.4950397791  -Training_Accuracy:  10.05  -Validation_accuracy: 10.17 -time: 97.49 \n",
      "Iteration:  5/50[=====] -Error: 0.5075202574  -Training_Accuracy:  10.18  -Validation_accuracy: 10.20 -time: 117.68 \n",
      "Iteration:  6/50[=====] -Error: 0.4999543985  -Training_Accuracy:  14.52  -Validation_accuracy: 14.47 -time: 138.73 \n",
      "Iteration:  7/50[=====] -Error: 0.4993221957  -Training_Accuracy:  12.63  -Validation_accuracy: 12.54 -time: 160.38 \n",
      "Iteration:  8/50[=====] -Error: 0.5013388081  -Training_Accuracy:  9.78  -Validation_accuracy: 9.51 -time: 181.38 \n",
      "Iteration:  9/50[=====] -Error: 0.4999214395  -Training_Accuracy:  15.62  -Validation_accuracy: 16.09 -time: 203.31 \n",
      "Iteration: 10/50[=====] -Error: 0.4998769427  -Training_Accuracy:  19.54  -Validation_accuracy: 19.96 -time: 224.98 \n",
      "Iteration: 11/50[=====] -Error: 0.4998860741  -Training_Accuracy:  19.24  -Validation_accuracy: 19.97 -time: 247.35 \n",
      "Iteration: 12/50[=====] -Error: 0.4980062279  -Training_Accuracy:  21.43  -Validation_accuracy: 21.13 -time: 268.90 \n",
      "Iteration: 13/50[=====] -Error: 0.4999431869  -Training_Accuracy:  14.58  -Validation_accuracy: 13.94 -time: 291.70 \n",
      "Iteration: 14/50[=====] -Error: 0.4998871211  -Training_Accuracy:  11.13  -Validation_accuracy: 10.92 -time: 314.26 \n",
      "Iteration: 15/50[=====] -Error: 0.4999619062  -Training_Accuracy:  16.22  -Validation_accuracy: 15.66 -time: 336.81 \n",
      "Iteration: 16/50[=====] -Error: 0.5001249616  -Training_Accuracy:  15.54  -Validation_accuracy: 14.78 -time: 360.46 \n",
      "Iteration: 17/50[=====] -Error: 0.4999346040  -Training_Accuracy:  20.26  -Validation_accuracy: 19.43 -time: 384.27 \n",
      "Iteration: 18/50[=====] -Error: 0.4999244115  -Training_Accuracy:  21.96  -Validation_accuracy: 20.81 -time: 407.19 \n",
      "Iteration: 19/50[=====] -Error: 0.4997774610  -Training_Accuracy:  12.14  -Validation_accuracy: 11.49 -time: 430.57 \n",
      "Iteration: 20/50[=====] -Error: 0.4998898376  -Training_Accuracy:  12.10  -Validation_accuracy: 11.47 -time: 451.76 \n",
      "Iteration: 21/50[=====] -Error: 0.4998896522  -Training_Accuracy:  11.94  -Validation_accuracy: 11.40 -time: 473.75 \n",
      "Iteration: 22/50[=====] -Error: 0.5001801046  -Training_Accuracy:  12.05  -Validation_accuracy: 11.40 -time: 494.58 \n",
      "Iteration: 23/50[=====] -Error: 0.4993128786  -Training_Accuracy:  19.93  -Validation_accuracy: 20.49 -time: 518.43 \n",
      "Iteration: 24/50[=====] -Error: 0.4998899102  -Training_Accuracy:  19.91  -Validation_accuracy: 20.49 -time: 540.30 \n",
      "Iteration: 25/50[=====] -Error: 0.4998898593  -Training_Accuracy:  18.62  -Validation_accuracy: 18.77 -time: 566.63 \n",
      "Iteration: 26/50[=====] -Error: 0.4998913109  -Training_Accuracy:  19.92  -Validation_accuracy: 20.48 -time: 588.27 \n",
      "Iteration: 27/50[=====] -Error: 0.4998899730  -Training_Accuracy:  19.93  -Validation_accuracy: 20.47 -time: 609.63 \n",
      "Iteration: 28/50[=====] -Error: 0.4998899718  -Training_Accuracy:  19.94  -Validation_accuracy: 20.48 -time: 630.96 \n",
      "Iteration: 29/50[=====] -Error: 0.4998899704  -Training_Accuracy:  19.94  -Validation_accuracy: 20.49 -time: 651.04 \n",
      "Iteration: 30/50[=====] -Error: 0.4998899688  -Training_Accuracy:  19.95  -Validation_accuracy: 20.48 -time: 672.90 \n",
      "Iteration: 31/50[=====] -Error: 0.4998899670  -Training_Accuracy:  19.95  -Validation_accuracy: 20.48 -time: 695.84 \n",
      "Iteration: 32/50[=====] -Error: 0.4998899649  -Training_Accuracy:  19.96  -Validation_accuracy: 20.50 -time: 715.94 \n",
      "Iteration: 33/50[=====] -Error: 0.4998899624  -Training_Accuracy:  19.96  -Validation_accuracy: 20.50 -time: 737.92 \n",
      "Iteration: 34/50[=====] -Error: 0.4998899592  -Training_Accuracy:  19.97  -Validation_accuracy: 20.49 -time: 762.91 \n",
      "Iteration: 35/50[=====] -Error: 0.4998899552  -Training_Accuracy:  19.97  -Validation_accuracy: 20.51 -time: 786.78 \n",
      "Iteration: 36/50[=====] -Error: 0.4998899499  -Training_Accuracy:  19.97  -Validation_accuracy: 20.53 -time: 808.34 \n",
      "Iteration: 37/50[=====] -Error: 0.4998899424  -Training_Accuracy:  19.99  -Validation_accuracy: 20.55 -time: 830.70 \n",
      "Iteration: 38/50[=====] -Error: 0.4998899309  -Training_Accuracy:  19.99  -Validation_accuracy: 20.58 -time: 852.59 \n",
      "Iteration: 39/50[=====] -Error: 0.4998899110  -Training_Accuracy:  20.01  -Validation_accuracy: 20.60 -time: 875.23 \n",
      "Iteration: 40/50[=====] -Error: 0.4998898662  -Training_Accuracy:  20.01  -Validation_accuracy: 20.57 -time: 904.69 \n",
      "Iteration: 41/50[=====] -Error: 0.4998896282  -Training_Accuracy:  20.05  -Validation_accuracy: 20.57 -time: 928.32 \n",
      "Iteration: 42/50[=====] -Error: 0.4998916776  -Training_Accuracy:  19.98  -Validation_accuracy: 20.43 -time: 949.83 \n",
      "Iteration: 43/50[=====] -Error: 0.4998899757  -Training_Accuracy:  20.84  -Validation_accuracy: 20.97 -time: 970.03 \n",
      "Iteration: 44/50[=====] -Error: 0.4998899751  -Training_Accuracy:  20.89  -Validation_accuracy: 21.00 -time: 993.20 \n",
      "Iteration: 45/50[=====] -Error: 0.4998899745  -Training_Accuracy:  20.90  -Validation_accuracy: 21.01 -time: 1017.37 \n",
      "Iteration: 46/50[=====] -Error: 0.4998899738  -Training_Accuracy:  20.92  -Validation_accuracy: 20.97 -time: 1042.53 \n",
      "Iteration: 47/50[=====] -Error: 0.4998899730  -Training_Accuracy:  20.92  -Validation_accuracy: 20.93 -time: 1063.83 \n",
      "Iteration: 48/50[=====] -Error: 0.4998899722  -Training_Accuracy:  20.92  -Validation_accuracy: 20.95 -time: 1089.92 \n",
      "Iteration: 49/50[=====] -Error: 0.4998899714  -Training_Accuracy:  20.92  -Validation_accuracy: 20.96 -time: 1115.85 \n",
      "Iteration: 50/50[=====] -Error: 0.4998899705  -Training_Accuracy:  20.93  -Validation_accuracy: 20.92 -time: 1137.43 \n"
     ]
    }
   ],
   "source": [
    "#Your implementation with a learning rate of 10 goes here \n",
    "my_mnist_net = NeuralNetwork(input_layer_size=784, hidden_layer_size=30, output_layer_size=10, learning_rate=10)\n",
    "\n",
    "#train network \n",
    "(training_accuracy_lr10, error_lr10) = my_mnist_net.train(training_data, validation_data)\n",
    "\n",
    "#save model in Models/ using a distinguishing name for your model (architecture, learning rate, etc...)\n",
    "my_mnist_net.save(\"Models/model_\" + \"784_30_10_ten.model\")"
   ]
  },
  {
   "cell_type": "code",
   "execution_count": 164,
   "metadata": {
    "collapsed": false,
    "scrolled": false
   },
   "outputs": [
    {
     "data": {
      "image/png": "[encoded data removed]",
      "text/plain": [
       "<matplotlib.figure.Figure at 0x1074eca50>"
      ]
     },
     "metadata": {},
     "output_type": "display_data"
    }
   ],
   "source": [
    "#plotting all learning rate training accuracy against each other\n",
    "fig = plt.figure(figsize=(20,10))\n",
    "#learning rate = 0.001\n",
    "x = np.arange(len(training_accuracy_lr0001))\n",
    "plt.plot(x, training_accuracy_lr0001, \"b-\", label=\"0.001\")\n",
    "#learning rate = 0.1\n",
    "x = np.arange(len(training_accuracy_lr01))\n",
    "plt.plot(x, training_accuracy_lr01, \"g-\", label=\"0.1\")\n",
    "#learning rate = 1.0\n",
    "x = np.arange(len(training_accuracy_lr1))\n",
    "plt.plot(x, training_accuracy_lr1, \"r-\", label=\"1.0\")\n",
    "#learning rate = 10\n",
    "x = np.arange(len(training_accuracy_lr10))\n",
    "plt.plot(x, training_accuracy_lr10, \"c-\", label=\"10\")\n",
    "\n",
    "plt.xlabel(\"Epoch\")\n",
    "plt.ylabel(\"Training accuracy\")\n",
    "plt.legend()\n",
    "plt.title(\"Learning curve training accuracy for different learning rate values\")\n",
    "plt.show()"
   ]
  },
  {
   "cell_type": "code",
   "execution_count": 165,
   "metadata": {
    "collapsed": false,
    "deletable": true,
    "editable": true,
    "scrolled": false
   },
   "outputs": [
    {
     "data": {
      "image/png": "[encoded data removed]",
      "text/plain": [
       "<matplotlib.figure.Figure at 0x105ca1ed0>"
      ]
     },
     "metadata": {},
     "output_type": "display_data"
    }
   ],
   "source": [
    "#plotting all learning rate errors against each other\n",
    "fig = plt.figure(figsize=(20,10))\n",
    "#learning rate = 0.001\n",
    "x = np.arange(len(error_lr0001))\n",
    "plt.plot(x, error_lr0001, \"b-\", label=\"0.001\")\n",
    "#learning rate = 0.1\n",
    "x = np.arange(len(error_lr01))\n",
    "plt.plot(x, error_lr01, \"g-\", label=\"0.1\")\n",
    "#learning rate = 1.0\n",
    "x = np.arange(len(error_lr1))\n",
    "plt.plot(x, error_lr1, \"r-\", label=\"1.0\")\n",
    "#learning rate = 10\n",
    "x = np.arange(len(error_lr10))\n",
    "plt.plot(x, error_lr10, \"c-\", label=\"10\")\n",
    "\n",
    "plt.xlabel(\"Epoch\")\n",
    "plt.ylabel(\"Error\")\n",
    "plt.legend()\n",
    "plt.title(\"Learning curve error for different learning rate values\")\n",
    "plt.show()"
   ]
  },
  {
   "cell_type": "markdown",
   "metadata": {
    "deletable": true,
    "editable": true
   },
   "source": [
    "<div class=\"alert alert-success\">\n",
    "#Your answer for Question 2.2.1 goes here\n",
    "</div>"
   ]
  },
  {
   "cell_type": "markdown",
   "metadata": {
    "deletable": true,
    "editable": true
   },
   "source": [
    " <b> Question 2.2.2 : </b> initialize all weights to 0.  Plot the training accuracy curve.\n",
    "Comment your results\n",
    "    \n",
    "        "
   ]
  },
  {
   "cell_type": "code",
   "execution_count": 167,
   "metadata": {
    "collapsed": false,
    "deletable": true,
    "editable": true
   },
   "outputs": [
    {
     "data": {
      "text/plain": [
       "(785, 30)"
      ]
     },
     "execution_count": 167,
     "metadata": {},
     "output_type": "execute_result"
    }
   ],
   "source": [
    "#Your implementation goes here\n",
    "my_mnist_net_0weights = NeuralNetwork(input_layer_size=784, hidden_layer_size=30, output_layer_size=10)\n",
    "#we set all weight to zero\n",
    "my_mnist_net_0weights.weights_initialisation(wi=np.zeros(28*28+1, 30), wo=np.zeros(30+1,10))\n",
    "\n",
    "#we train the network\n",
    "(training_accuracy_0weights, error_0weights) = my_mnist_net_0weights.train(training_data, validation_data)\n",
    "\n",
    "#we plot the training accuracy curve\n",
    "fig = plt.figure(figsize=(20,10))\n",
    "x = np.arange(len(training_accuracy_0weights))\n",
    "plt.plot(x, training_accuracy_0weights, \"b-\", label=\"0.001\")\n",
    "plt.xlabel(\"Epoch\")\n",
    "plt.ylabel(\"Training accuracy\")\n",
    "plt.legend()\n",
    "plt.title(\"Learning curve training accuracy for a network with weights initialized to 0\")\n",
    "plt.show()"
   ]
  },
  {
   "cell_type": "markdown",
   "metadata": {
    "deletable": true,
    "editable": true
   },
   "source": [
    "<div class=\"alert alert-success\">\n",
    "#Your answer goes here\n",
    "</div>"
   ]
  },
  {
   "cell_type": "markdown",
   "metadata": {
    "deletable": true,
    "editable": true
   },
   "source": [
    "<b> Question 2.2.3 : </b> Try with a different transfer function (such as tanh).\n",
    " File transfer_functions.py provides you the python implementation of the tanh function and its derivative"
   ]
  },
  {
   "cell_type": "code",
   "execution_count": null,
   "metadata": {
    "collapsed": true,
    "deletable": true,
    "editable": true
   },
   "outputs": [],
   "source": [
    "#Your implementation goes here\n",
    "\n",
    "\n",
    "\n",
    "\n",
    "\n",
    "\n",
    "\n",
    "\n",
    "\n",
    "\n",
    "\n",
    "\n",
    "\n",
    "\n",
    "\n"
   ]
  },
  {
   "cell_type": "markdown",
   "metadata": {
    "deletable": true,
    "editable": true
   },
   "source": [
    "<div class=\"alert alert-success\">\n",
    "#Your answer goes here\n",
    "</div>"
   ]
  },
  {
   "cell_type": "markdown",
   "metadata": {
    "deletable": true,
    "editable": true
   },
   "source": [
    "\n",
    "<b> Question 2.2.4 : </b>  Add more neurons in the hidden layer (try with 100, 200, 300). Plot the curve representing the validation accuracy versus the number of neurons in the hidden layer.  (Choose and justify other hyper-parameters)"
   ]
  },
  {
   "cell_type": "code",
   "execution_count": null,
   "metadata": {
    "collapsed": true,
    "deletable": true,
    "editable": true
   },
   "outputs": [],
   "source": [
    "#Your implementation goes here\n",
    "\n",
    "\n",
    "\n",
    "\n",
    "\n",
    "\n",
    "\n",
    "\n",
    "\n",
    "\n",
    "\n",
    "\n",
    "\n",
    "\n",
    "\n",
    "\n",
    "\n",
    "\n",
    "\n",
    "\n",
    "\n",
    "\n"
   ]
  },
  {
   "cell_type": "markdown",
   "metadata": {
    "deletable": true,
    "editable": true
   },
   "source": [
    "<div class=\"alert alert-success\">\n",
    "#Your answer goes here\n",
    "</div>"
   ]
  },
  {
   "cell_type": "markdown",
   "metadata": {
    "deletable": true,
    "editable": true
   },
   "source": [
    "<b> Question 2.2.5 : </b> Add one additionnal hidden layers and train your network, discuss your results with different setting. \n",
    "\n"
   ]
  },
  {
   "cell_type": "code",
   "execution_count": null,
   "metadata": {
    "collapsed": true,
    "deletable": true,
    "editable": true
   },
   "outputs": [],
   "source": [
    "#Your implementation goes here\n",
    "\n",
    "\n",
    "\n",
    "\n",
    "\n",
    "\n",
    "\n",
    "\n",
    "\n",
    "\n",
    "\n",
    "\n",
    "\n",
    "\n",
    "\n"
   ]
  },
  {
   "cell_type": "markdown",
   "metadata": {
    "deletable": true,
    "editable": true
   },
   "source": [
    "<div class=\"alert alert-success\">\n",
    "#Your answer goes here\n",
    "</div>"
   ]
  },
  {
   "cell_type": "code",
   "execution_count": null,
   "metadata": {
    "collapsed": true
   },
   "outputs": [],
   "source": []
  }
 ],
 "metadata": {
  "kernelspec": {
   "display_name": "Python 2",
   "language": "python",
   "name": "python2"
  },
  "language_info": {
   "codemirror_mode": {
    "name": "ipython",
    "version": 2
   },
   "file_extension": ".py",
   "mimetype": "text/x-python",
   "name": "python",
   "nbconvert_exporter": "python",
   "pygments_lexer": "ipython2",
   "version": "2.7.13"
  }
 },
 "nbformat": 4,
 "nbformat_minor": 2
}
